{
 "cells": [
  {
   "cell_type": "markdown",
   "id": "4bd1fe5c",
   "metadata": {},
   "source": [
    "## CS 457 - Homework Assignment 3: Exploratory Data Analysis\n",
    "### Ali Hashir\n",
    "#### ah05433@st.habib.edu.pk"
   ]
  },
  {
   "cell_type": "markdown",
   "id": "e8292912",
   "metadata": {},
   "source": [
    "## PART 1"
   ]
  },
  {
   "cell_type": "code",
   "execution_count": 1,
   "id": "7ffe318e",
   "metadata": {},
   "outputs": [],
   "source": [
    "import pandas as pd\n",
    "import seaborn as sns                       #visualisation\n",
    "import matplotlib.pyplot as plt             #visualisation\n",
    "%matplotlib inline \n",
    "import numpy as np"
   ]
  },
  {
   "cell_type": "code",
   "execution_count": 2,
   "id": "289c5c73",
   "metadata": {},
   "outputs": [
    {
     "data": {
      "text/html": [
       "<div>\n",
       "<style scoped>\n",
       "    .dataframe tbody tr th:only-of-type {\n",
       "        vertical-align: middle;\n",
       "    }\n",
       "\n",
       "    .dataframe tbody tr th {\n",
       "        vertical-align: top;\n",
       "    }\n",
       "\n",
       "    .dataframe thead th {\n",
       "        text-align: right;\n",
       "    }\n",
       "</style>\n",
       "<table border=\"1\" class=\"dataframe\">\n",
       "  <thead>\n",
       "    <tr style=\"text-align: right;\">\n",
       "      <th></th>\n",
       "      <th>id</th>\n",
       "      <th>member_id</th>\n",
       "      <th>loan_amnt</th>\n",
       "      <th>funded_amnt</th>\n",
       "      <th>funded_amnt_inv</th>\n",
       "      <th>term</th>\n",
       "      <th>int_rate</th>\n",
       "      <th>installment</th>\n",
       "      <th>grade</th>\n",
       "      <th>sub_grade</th>\n",
       "      <th>...</th>\n",
       "      <th>total_pymnt_inv</th>\n",
       "      <th>total_rec_prncp</th>\n",
       "      <th>total_rec_int</th>\n",
       "      <th>total_rec_late_fee</th>\n",
       "      <th>recoveries</th>\n",
       "      <th>collection_recovery_fee</th>\n",
       "      <th>last_pymnt_d</th>\n",
       "      <th>last_pymnt_amnt</th>\n",
       "      <th>last_credit_pull_d</th>\n",
       "      <th>application_type</th>\n",
       "    </tr>\n",
       "  </thead>\n",
       "  <tbody>\n",
       "    <tr>\n",
       "      <th>0</th>\n",
       "      <td>1077501</td>\n",
       "      <td>1296599</td>\n",
       "      <td>5000</td>\n",
       "      <td>5000</td>\n",
       "      <td>4975.0</td>\n",
       "      <td>36 months</td>\n",
       "      <td>10.65</td>\n",
       "      <td>162.87</td>\n",
       "      <td>B</td>\n",
       "      <td>B2</td>\n",
       "      <td>...</td>\n",
       "      <td>5831.78</td>\n",
       "      <td>5000.00</td>\n",
       "      <td>861.07</td>\n",
       "      <td>0.00</td>\n",
       "      <td>0.00</td>\n",
       "      <td>0.00</td>\n",
       "      <td>Jan-15</td>\n",
       "      <td>171.62</td>\n",
       "      <td>Jan-16</td>\n",
       "      <td>INDIVIDUAL</td>\n",
       "    </tr>\n",
       "    <tr>\n",
       "      <th>1</th>\n",
       "      <td>1077430</td>\n",
       "      <td>1314167</td>\n",
       "      <td>2500</td>\n",
       "      <td>2500</td>\n",
       "      <td>2500.0</td>\n",
       "      <td>60 months</td>\n",
       "      <td>15.27</td>\n",
       "      <td>59.83</td>\n",
       "      <td>C</td>\n",
       "      <td>C4</td>\n",
       "      <td>...</td>\n",
       "      <td>1008.71</td>\n",
       "      <td>456.46</td>\n",
       "      <td>435.17</td>\n",
       "      <td>0.00</td>\n",
       "      <td>117.08</td>\n",
       "      <td>1.11</td>\n",
       "      <td>Apr-13</td>\n",
       "      <td>119.66</td>\n",
       "      <td>Sep-13</td>\n",
       "      <td>INDIVIDUAL</td>\n",
       "    </tr>\n",
       "    <tr>\n",
       "      <th>2</th>\n",
       "      <td>1077175</td>\n",
       "      <td>1313524</td>\n",
       "      <td>2400</td>\n",
       "      <td>2400</td>\n",
       "      <td>2400.0</td>\n",
       "      <td>36 months</td>\n",
       "      <td>15.96</td>\n",
       "      <td>84.33</td>\n",
       "      <td>C</td>\n",
       "      <td>C5</td>\n",
       "      <td>...</td>\n",
       "      <td>3003.65</td>\n",
       "      <td>2400.00</td>\n",
       "      <td>603.65</td>\n",
       "      <td>0.00</td>\n",
       "      <td>0.00</td>\n",
       "      <td>0.00</td>\n",
       "      <td>Jun-14</td>\n",
       "      <td>649.91</td>\n",
       "      <td>Jan-16</td>\n",
       "      <td>INDIVIDUAL</td>\n",
       "    </tr>\n",
       "    <tr>\n",
       "      <th>3</th>\n",
       "      <td>1076863</td>\n",
       "      <td>1277178</td>\n",
       "      <td>10000</td>\n",
       "      <td>10000</td>\n",
       "      <td>10000.0</td>\n",
       "      <td>36 months</td>\n",
       "      <td>13.49</td>\n",
       "      <td>339.31</td>\n",
       "      <td>C</td>\n",
       "      <td>C1</td>\n",
       "      <td>...</td>\n",
       "      <td>12226.30</td>\n",
       "      <td>10000.00</td>\n",
       "      <td>2209.33</td>\n",
       "      <td>16.97</td>\n",
       "      <td>0.00</td>\n",
       "      <td>0.00</td>\n",
       "      <td>Jan-15</td>\n",
       "      <td>357.48</td>\n",
       "      <td>Jan-15</td>\n",
       "      <td>INDIVIDUAL</td>\n",
       "    </tr>\n",
       "    <tr>\n",
       "      <th>4</th>\n",
       "      <td>1075358</td>\n",
       "      <td>1311748</td>\n",
       "      <td>3000</td>\n",
       "      <td>3000</td>\n",
       "      <td>3000.0</td>\n",
       "      <td>60 months</td>\n",
       "      <td>12.69</td>\n",
       "      <td>67.79</td>\n",
       "      <td>B</td>\n",
       "      <td>B5</td>\n",
       "      <td>...</td>\n",
       "      <td>3242.17</td>\n",
       "      <td>2233.10</td>\n",
       "      <td>1009.07</td>\n",
       "      <td>0.00</td>\n",
       "      <td>0.00</td>\n",
       "      <td>0.00</td>\n",
       "      <td>Jan-16</td>\n",
       "      <td>67.79</td>\n",
       "      <td>Jan-16</td>\n",
       "      <td>INDIVIDUAL</td>\n",
       "    </tr>\n",
       "  </tbody>\n",
       "</table>\n",
       "<p>5 rows × 47 columns</p>\n",
       "</div>"
      ],
      "text/plain": [
       "        id  member_id  loan_amnt  funded_amnt  funded_amnt_inv        term   \n",
       "0  1077501    1296599       5000         5000           4975.0   36 months  \\\n",
       "1  1077430    1314167       2500         2500           2500.0   60 months   \n",
       "2  1077175    1313524       2400         2400           2400.0   36 months   \n",
       "3  1076863    1277178      10000        10000          10000.0   36 months   \n",
       "4  1075358    1311748       3000         3000           3000.0   60 months   \n",
       "\n",
       "   int_rate  installment grade sub_grade  ... total_pymnt_inv total_rec_prncp   \n",
       "0     10.65       162.87     B        B2  ...         5831.78         5000.00  \\\n",
       "1     15.27        59.83     C        C4  ...         1008.71          456.46   \n",
       "2     15.96        84.33     C        C5  ...         3003.65         2400.00   \n",
       "3     13.49       339.31     C        C1  ...        12226.30        10000.00   \n",
       "4     12.69        67.79     B        B5  ...         3242.17         2233.10   \n",
       "\n",
       "  total_rec_int  total_rec_late_fee recoveries collection_recovery_fee   \n",
       "0        861.07                0.00       0.00                    0.00  \\\n",
       "1        435.17                0.00     117.08                    1.11   \n",
       "2        603.65                0.00       0.00                    0.00   \n",
       "3       2209.33               16.97       0.00                    0.00   \n",
       "4       1009.07                0.00       0.00                    0.00   \n",
       "\n",
       "  last_pymnt_d last_pymnt_amnt last_credit_pull_d application_type  \n",
       "0       Jan-15          171.62             Jan-16       INDIVIDUAL  \n",
       "1       Apr-13          119.66             Sep-13       INDIVIDUAL  \n",
       "2       Jun-14          649.91             Jan-16       INDIVIDUAL  \n",
       "3       Jan-15          357.48             Jan-15       INDIVIDUAL  \n",
       "4       Jan-16           67.79             Jan-16       INDIVIDUAL  \n",
       "\n",
       "[5 rows x 47 columns]"
      ]
     },
     "execution_count": 2,
     "metadata": {},
     "output_type": "execute_result"
    }
   ],
   "source": [
    "df = pd.read_csv(\"loan_small.csv\")\n",
    "df.head(5) "
   ]
  },
  {
   "cell_type": "markdown",
   "id": "e1eb1381",
   "metadata": {},
   "source": [
    "### Check datatype of each attribute for EDA"
   ]
  },
  {
   "cell_type": "code",
   "execution_count": 3,
   "id": "ea14528b",
   "metadata": {},
   "outputs": [
    {
     "data": {
      "text/plain": [
       "id                           int64\n",
       "member_id                    int64\n",
       "loan_amnt                    int64\n",
       "funded_amnt                  int64\n",
       "funded_amnt_inv            float64\n",
       "term                        object\n",
       "int_rate                   float64\n",
       "installment                float64\n",
       "grade                       object\n",
       "sub_grade                   object\n",
       "emp_title                   object\n",
       "emp_length                  object\n",
       "home_ownership              object\n",
       "annual_inc                 float64\n",
       "verification_status         object\n",
       "issue_d                     object\n",
       "loan_status                 object\n",
       "pymnt_plan                  object\n",
       "purpose                     object\n",
       "title                       object\n",
       "zip_code                    object\n",
       "addr_state                  object\n",
       "dti                        float64\n",
       "delinq_2yrs                  int64\n",
       "earliest_cr_line            object\n",
       "inq_last_6mths               int64\n",
       "mths_since_last_delinq     float64\n",
       "mths_since_last_record     float64\n",
       "open_acc                     int64\n",
       "pub_rec                      int64\n",
       "revol_bal                    int64\n",
       "revol_util                 float64\n",
       "total_acc                    int64\n",
       "initial_list_status         object\n",
       "out_prncp                  float64\n",
       "out_prncp_inv              float64\n",
       "total_pymnt                float64\n",
       "total_pymnt_inv            float64\n",
       "total_rec_prncp            float64\n",
       "total_rec_int              float64\n",
       "total_rec_late_fee         float64\n",
       "recoveries                 float64\n",
       "collection_recovery_fee    float64\n",
       "last_pymnt_d                object\n",
       "last_pymnt_amnt            float64\n",
       "last_credit_pull_d          object\n",
       "application_type            object\n",
       "dtype: object"
      ]
     },
     "execution_count": 3,
     "metadata": {},
     "output_type": "execute_result"
    }
   ],
   "source": [
    "df.dtypes"
   ]
  },
  {
   "cell_type": "code",
   "execution_count": 4,
   "id": "db9e3837",
   "metadata": {},
   "outputs": [
    {
     "data": {
      "text/plain": [
       "0      83.7\n",
       "1       9.4\n",
       "2      98.5\n",
       "3      21.0\n",
       "4      53.9\n",
       "       ... \n",
       "994    62.9\n",
       "995    76.8\n",
       "996    83.0\n",
       "997    79.4\n",
       "998    66.0\n",
       "Name: revol_util, Length: 999, dtype: float64"
      ]
     },
     "execution_count": 4,
     "metadata": {},
     "output_type": "execute_result"
    }
   ],
   "source": [
    "df['revol_util']"
   ]
  },
  {
   "cell_type": "markdown",
   "id": "bdc88e0a",
   "metadata": {},
   "source": [
    "### Cleaning Data\n"
   ]
  },
  {
   "cell_type": "code",
   "execution_count": 5,
   "id": "e059c645",
   "metadata": {},
   "outputs": [],
   "source": [
    "df['term'] = df['term'].str.strip('months')"
   ]
  },
  {
   "cell_type": "code",
   "execution_count": 6,
   "id": "9a26f85d",
   "metadata": {},
   "outputs": [
    {
     "data": {
      "text/html": [
       "<div>\n",
       "<style scoped>\n",
       "    .dataframe tbody tr th:only-of-type {\n",
       "        vertical-align: middle;\n",
       "    }\n",
       "\n",
       "    .dataframe tbody tr th {\n",
       "        vertical-align: top;\n",
       "    }\n",
       "\n",
       "    .dataframe thead th {\n",
       "        text-align: right;\n",
       "    }\n",
       "</style>\n",
       "<table border=\"1\" class=\"dataframe\">\n",
       "  <thead>\n",
       "    <tr style=\"text-align: right;\">\n",
       "      <th></th>\n",
       "      <th>id</th>\n",
       "      <th>member_id</th>\n",
       "      <th>loan_amnt</th>\n",
       "      <th>funded_amnt</th>\n",
       "      <th>funded_amnt_inv</th>\n",
       "      <th>term</th>\n",
       "      <th>int_rate</th>\n",
       "      <th>installment</th>\n",
       "      <th>grade</th>\n",
       "      <th>sub_grade</th>\n",
       "      <th>...</th>\n",
       "      <th>total_pymnt_inv</th>\n",
       "      <th>total_rec_prncp</th>\n",
       "      <th>total_rec_int</th>\n",
       "      <th>total_rec_late_fee</th>\n",
       "      <th>recoveries</th>\n",
       "      <th>collection_recovery_fee</th>\n",
       "      <th>last_pymnt_d</th>\n",
       "      <th>last_pymnt_amnt</th>\n",
       "      <th>last_credit_pull_d</th>\n",
       "      <th>application_type</th>\n",
       "    </tr>\n",
       "  </thead>\n",
       "  <tbody>\n",
       "    <tr>\n",
       "      <th>0</th>\n",
       "      <td>1077501</td>\n",
       "      <td>1296599</td>\n",
       "      <td>5000</td>\n",
       "      <td>5000</td>\n",
       "      <td>4975.0</td>\n",
       "      <td>36</td>\n",
       "      <td>10.65</td>\n",
       "      <td>162.87</td>\n",
       "      <td>B</td>\n",
       "      <td>B2</td>\n",
       "      <td>...</td>\n",
       "      <td>5831.78</td>\n",
       "      <td>5000.00</td>\n",
       "      <td>861.07</td>\n",
       "      <td>0.00</td>\n",
       "      <td>0.00</td>\n",
       "      <td>0.00</td>\n",
       "      <td>Jan-15</td>\n",
       "      <td>171.62</td>\n",
       "      <td>Jan-16</td>\n",
       "      <td>INDIVIDUAL</td>\n",
       "    </tr>\n",
       "    <tr>\n",
       "      <th>1</th>\n",
       "      <td>1077430</td>\n",
       "      <td>1314167</td>\n",
       "      <td>2500</td>\n",
       "      <td>2500</td>\n",
       "      <td>2500.0</td>\n",
       "      <td>60</td>\n",
       "      <td>15.27</td>\n",
       "      <td>59.83</td>\n",
       "      <td>C</td>\n",
       "      <td>C4</td>\n",
       "      <td>...</td>\n",
       "      <td>1008.71</td>\n",
       "      <td>456.46</td>\n",
       "      <td>435.17</td>\n",
       "      <td>0.00</td>\n",
       "      <td>117.08</td>\n",
       "      <td>1.11</td>\n",
       "      <td>Apr-13</td>\n",
       "      <td>119.66</td>\n",
       "      <td>Sep-13</td>\n",
       "      <td>INDIVIDUAL</td>\n",
       "    </tr>\n",
       "    <tr>\n",
       "      <th>2</th>\n",
       "      <td>1077175</td>\n",
       "      <td>1313524</td>\n",
       "      <td>2400</td>\n",
       "      <td>2400</td>\n",
       "      <td>2400.0</td>\n",
       "      <td>36</td>\n",
       "      <td>15.96</td>\n",
       "      <td>84.33</td>\n",
       "      <td>C</td>\n",
       "      <td>C5</td>\n",
       "      <td>...</td>\n",
       "      <td>3003.65</td>\n",
       "      <td>2400.00</td>\n",
       "      <td>603.65</td>\n",
       "      <td>0.00</td>\n",
       "      <td>0.00</td>\n",
       "      <td>0.00</td>\n",
       "      <td>Jun-14</td>\n",
       "      <td>649.91</td>\n",
       "      <td>Jan-16</td>\n",
       "      <td>INDIVIDUAL</td>\n",
       "    </tr>\n",
       "    <tr>\n",
       "      <th>3</th>\n",
       "      <td>1076863</td>\n",
       "      <td>1277178</td>\n",
       "      <td>10000</td>\n",
       "      <td>10000</td>\n",
       "      <td>10000.0</td>\n",
       "      <td>36</td>\n",
       "      <td>13.49</td>\n",
       "      <td>339.31</td>\n",
       "      <td>C</td>\n",
       "      <td>C1</td>\n",
       "      <td>...</td>\n",
       "      <td>12226.30</td>\n",
       "      <td>10000.00</td>\n",
       "      <td>2209.33</td>\n",
       "      <td>16.97</td>\n",
       "      <td>0.00</td>\n",
       "      <td>0.00</td>\n",
       "      <td>Jan-15</td>\n",
       "      <td>357.48</td>\n",
       "      <td>Jan-15</td>\n",
       "      <td>INDIVIDUAL</td>\n",
       "    </tr>\n",
       "    <tr>\n",
       "      <th>4</th>\n",
       "      <td>1075358</td>\n",
       "      <td>1311748</td>\n",
       "      <td>3000</td>\n",
       "      <td>3000</td>\n",
       "      <td>3000.0</td>\n",
       "      <td>60</td>\n",
       "      <td>12.69</td>\n",
       "      <td>67.79</td>\n",
       "      <td>B</td>\n",
       "      <td>B5</td>\n",
       "      <td>...</td>\n",
       "      <td>3242.17</td>\n",
       "      <td>2233.10</td>\n",
       "      <td>1009.07</td>\n",
       "      <td>0.00</td>\n",
       "      <td>0.00</td>\n",
       "      <td>0.00</td>\n",
       "      <td>Jan-16</td>\n",
       "      <td>67.79</td>\n",
       "      <td>Jan-16</td>\n",
       "      <td>INDIVIDUAL</td>\n",
       "    </tr>\n",
       "  </tbody>\n",
       "</table>\n",
       "<p>5 rows × 47 columns</p>\n",
       "</div>"
      ],
      "text/plain": [
       "        id  member_id  loan_amnt  funded_amnt  funded_amnt_inv  term   \n",
       "0  1077501    1296599       5000         5000           4975.0   36   \\\n",
       "1  1077430    1314167       2500         2500           2500.0   60    \n",
       "2  1077175    1313524       2400         2400           2400.0   36    \n",
       "3  1076863    1277178      10000        10000          10000.0   36    \n",
       "4  1075358    1311748       3000         3000           3000.0   60    \n",
       "\n",
       "   int_rate  installment grade sub_grade  ... total_pymnt_inv total_rec_prncp   \n",
       "0     10.65       162.87     B        B2  ...         5831.78         5000.00  \\\n",
       "1     15.27        59.83     C        C4  ...         1008.71          456.46   \n",
       "2     15.96        84.33     C        C5  ...         3003.65         2400.00   \n",
       "3     13.49       339.31     C        C1  ...        12226.30        10000.00   \n",
       "4     12.69        67.79     B        B5  ...         3242.17         2233.10   \n",
       "\n",
       "  total_rec_int  total_rec_late_fee recoveries collection_recovery_fee   \n",
       "0        861.07                0.00       0.00                    0.00  \\\n",
       "1        435.17                0.00     117.08                    1.11   \n",
       "2        603.65                0.00       0.00                    0.00   \n",
       "3       2209.33               16.97       0.00                    0.00   \n",
       "4       1009.07                0.00       0.00                    0.00   \n",
       "\n",
       "  last_pymnt_d last_pymnt_amnt last_credit_pull_d application_type  \n",
       "0       Jan-15          171.62             Jan-16       INDIVIDUAL  \n",
       "1       Apr-13          119.66             Sep-13       INDIVIDUAL  \n",
       "2       Jun-14          649.91             Jan-16       INDIVIDUAL  \n",
       "3       Jan-15          357.48             Jan-15       INDIVIDUAL  \n",
       "4       Jan-16           67.79             Jan-16       INDIVIDUAL  \n",
       "\n",
       "[5 rows x 47 columns]"
      ]
     },
     "execution_count": 6,
     "metadata": {},
     "output_type": "execute_result"
    }
   ],
   "source": [
    "df.head()"
   ]
  },
  {
   "cell_type": "code",
   "execution_count": 7,
   "id": "00222ff8",
   "metadata": {},
   "outputs": [
    {
     "data": {
      "text/plain": [
       "0      10+ years\n",
       "1       < 1 year\n",
       "2      10+ years\n",
       "3      10+ years\n",
       "4         1 year\n",
       "         ...    \n",
       "994      5 years\n",
       "995      3 years\n",
       "996      2 years\n",
       "997    10+ years\n",
       "998    10+ years\n",
       "Name: emp_length, Length: 999, dtype: object"
      ]
     },
     "execution_count": 7,
     "metadata": {},
     "output_type": "execute_result"
    }
   ],
   "source": [
    "df['emp_length']"
   ]
  },
  {
   "cell_type": "code",
   "execution_count": 8,
   "id": "6ef781a3",
   "metadata": {},
   "outputs": [],
   "source": [
    "df['emp_length'] = df['emp_length'].dropna()"
   ]
  },
  {
   "cell_type": "code",
   "execution_count": 9,
   "id": "547eb4e7",
   "metadata": {},
   "outputs": [],
   "source": [
    "df['emp_length'] = df['emp_length'].str.replace(r'\\D', '', regex = True).astype(float)"
   ]
  },
  {
   "cell_type": "code",
   "execution_count": 10,
   "id": "7cb097b7",
   "metadata": {},
   "outputs": [
    {
     "data": {
      "text/plain": [
       "0      10.0\n",
       "1       1.0\n",
       "2      10.0\n",
       "3      10.0\n",
       "4       1.0\n",
       "       ... \n",
       "994     5.0\n",
       "995     3.0\n",
       "996     2.0\n",
       "997    10.0\n",
       "998    10.0\n",
       "Name: emp_length, Length: 999, dtype: float64"
      ]
     },
     "execution_count": 10,
     "metadata": {},
     "output_type": "execute_result"
    }
   ],
   "source": [
    "df['emp_length']"
   ]
  },
  {
   "cell_type": "code",
   "execution_count": 11,
   "id": "51ac8b10",
   "metadata": {},
   "outputs": [
    {
     "data": {
      "text/plain": [
       "array(['Fully Paid', 'Charged Off', 'Current', 'Default',\n",
       "       'Late (31-120 days)'], dtype=object)"
      ]
     },
     "execution_count": 11,
     "metadata": {},
     "output_type": "execute_result"
    }
   ],
   "source": [
    "# checking unique attributes to decide binary attribute division\n",
    "df['loan_status'].unique() "
   ]
  },
  {
   "cell_type": "code",
   "execution_count": 12,
   "id": "a0fdd9cf",
   "metadata": {},
   "outputs": [],
   "source": [
    "df['loan_status'] = df['loan_status'].replace(['Fully Paid', 'Charged Off', 'Current', 'Default', 'Late (31-120 days)'], ['Good', 'Good', 'Good', 'Bad', 'Bad'])"
   ]
  },
  {
   "cell_type": "code",
   "execution_count": 13,
   "id": "db6b933c",
   "metadata": {},
   "outputs": [
    {
     "data": {
      "text/plain": [
       "array(['Good', 'Bad'], dtype=object)"
      ]
     },
     "execution_count": 13,
     "metadata": {},
     "output_type": "execute_result"
    }
   ],
   "source": [
    "df['loan_status'].unique()"
   ]
  },
  {
   "cell_type": "markdown",
   "id": "91ff994b",
   "metadata": {},
   "source": [
    "### Filling missing values based on std"
   ]
  },
  {
   "cell_type": "code",
   "execution_count": 14,
   "id": "50df73b1",
   "metadata": {},
   "outputs": [
    {
     "data": {
      "text/plain": [
       "0       True\n",
       "1       True\n",
       "2       True\n",
       "3      False\n",
       "4      False\n",
       "       ...  \n",
       "994    False\n",
       "995    False\n",
       "996     True\n",
       "997     True\n",
       "998     True\n",
       "Name: mths_since_last_delinq, Length: 999, dtype: bool"
      ]
     },
     "execution_count": 14,
     "metadata": {},
     "output_type": "execute_result"
    }
   ],
   "source": [
    "df['mths_since_last_delinq'].isna()"
   ]
  },
  {
   "cell_type": "code",
   "execution_count": 15,
   "id": "0c05c61f",
   "metadata": {},
   "outputs": [
    {
     "data": {
      "text/plain": [
       "array([nan, 35., 38., 61.,  8., 20., 18., 68., 45., 48., 41., 40., 74.,\n",
       "       25., 53., 39., 10., 26., 56., 77., 28., 52., 24., 16., 60., 54.,\n",
       "       23.,  9., 11., 13., 65., 19., 80., 22., 59., 79., 44., 64., 57.,\n",
       "       14., 63., 49., 15., 73., 70., 29., 51.,  5., 75., 55.,  2., 30.,\n",
       "       47., 33., 69.,  4., 43., 21., 27., 46., 81., 78., 82., 31., 76.,\n",
       "       62., 72., 42., 50.,  3., 12., 67., 36., 34., 58., 17., 71.])"
      ]
     },
     "execution_count": 15,
     "metadata": {},
     "output_type": "execute_result"
    }
   ],
   "source": [
    "df['mths_since_last_delinq'].unique()"
   ]
  },
  {
   "cell_type": "code",
   "execution_count": 16,
   "id": "84d07006",
   "metadata": {},
   "outputs": [
    {
     "data": {
      "text/plain": [
       "21.887597959676718"
      ]
     },
     "execution_count": 16,
     "metadata": {},
     "output_type": "execute_result"
    }
   ],
   "source": [
    "df['mths_since_last_delinq'].std()"
   ]
  },
  {
   "cell_type": "code",
   "execution_count": 17,
   "id": "e90e920b",
   "metadata": {},
   "outputs": [],
   "source": [
    "df['mths_since_last_delinq'] = df['mths_since_last_delinq'].fillna(df['mths_since_last_delinq'].median())"
   ]
  },
  {
   "cell_type": "code",
   "execution_count": 18,
   "id": "3dd5f104",
   "metadata": {},
   "outputs": [
    {
     "data": {
      "text/plain": [
       "0      False\n",
       "1      False\n",
       "2      False\n",
       "3      False\n",
       "4      False\n",
       "       ...  \n",
       "994    False\n",
       "995    False\n",
       "996    False\n",
       "997    False\n",
       "998    False\n",
       "Name: mths_since_last_delinq, Length: 999, dtype: bool"
      ]
     },
     "execution_count": 18,
     "metadata": {},
     "output_type": "execute_result"
    }
   ],
   "source": [
    "df['mths_since_last_delinq'].isna()"
   ]
  },
  {
   "cell_type": "code",
   "execution_count": 19,
   "id": "2e1afed7",
   "metadata": {},
   "outputs": [
    {
     "data": {
      "text/plain": [
       "0      True\n",
       "1      True\n",
       "2      True\n",
       "3      True\n",
       "4      True\n",
       "       ... \n",
       "994    True\n",
       "995    True\n",
       "996    True\n",
       "997    True\n",
       "998    True\n",
       "Name: mths_since_last_record, Length: 999, dtype: bool"
      ]
     },
     "execution_count": 19,
     "metadata": {},
     "output_type": "execute_result"
    }
   ],
   "source": [
    "df['mths_since_last_record'].isna()"
   ]
  },
  {
   "cell_type": "code",
   "execution_count": 20,
   "id": "3858e9af",
   "metadata": {},
   "outputs": [
    {
     "data": {
      "text/plain": [
       "10.379952927711134"
      ]
     },
     "execution_count": 20,
     "metadata": {},
     "output_type": "execute_result"
    }
   ],
   "source": [
    "df['mths_since_last_delinq'].std()"
   ]
  },
  {
   "cell_type": "code",
   "execution_count": 21,
   "id": "aed01b43",
   "metadata": {},
   "outputs": [],
   "source": [
    "df['mths_since_last_record'] = df['mths_since_last_record'].fillna(df['mths_since_last_record'].median())"
   ]
  },
  {
   "cell_type": "code",
   "execution_count": 22,
   "id": "fd1f5094",
   "metadata": {},
   "outputs": [
    {
     "data": {
      "text/plain": [
       "0      False\n",
       "1      False\n",
       "2      False\n",
       "3      False\n",
       "4      False\n",
       "       ...  \n",
       "994    False\n",
       "995    False\n",
       "996    False\n",
       "997    False\n",
       "998    False\n",
       "Name: mths_since_last_record, Length: 999, dtype: bool"
      ]
     },
     "execution_count": 22,
     "metadata": {},
     "output_type": "execute_result"
    }
   ],
   "source": [
    "df['mths_since_last_record'].isna()"
   ]
  },
  {
   "cell_type": "markdown",
   "id": "e00b4705",
   "metadata": {},
   "source": [
    "### Checking null values"
   ]
  },
  {
   "cell_type": "code",
   "execution_count": 23,
   "id": "3b82f1a1",
   "metadata": {},
   "outputs": [
    {
     "data": {
      "text/plain": [
       "0"
      ]
     },
     "execution_count": 23,
     "metadata": {},
     "output_type": "execute_result"
    }
   ],
   "source": [
    "df['mths_since_last_delinq'].isnull().sum()"
   ]
  },
  {
   "cell_type": "code",
   "execution_count": 24,
   "id": "0ccc3e83",
   "metadata": {},
   "outputs": [
    {
     "data": {
      "text/plain": [
       "0"
      ]
     },
     "execution_count": 24,
     "metadata": {},
     "output_type": "execute_result"
    }
   ],
   "source": [
    "df['mths_since_last_record'].isnull().sum()"
   ]
  },
  {
   "cell_type": "markdown",
   "id": "5f330a50",
   "metadata": {},
   "source": [
    "## PART 2"
   ]
  },
  {
   "cell_type": "code",
   "execution_count": 25,
   "id": "0bdd33ce",
   "metadata": {},
   "outputs": [
    {
     "data": {
      "text/html": [
       "<div>\n",
       "<style scoped>\n",
       "    .dataframe tbody tr th:only-of-type {\n",
       "        vertical-align: middle;\n",
       "    }\n",
       "\n",
       "    .dataframe tbody tr th {\n",
       "        vertical-align: top;\n",
       "    }\n",
       "\n",
       "    .dataframe thead th {\n",
       "        text-align: right;\n",
       "    }\n",
       "</style>\n",
       "<table border=\"1\" class=\"dataframe\">\n",
       "  <thead>\n",
       "    <tr style=\"text-align: right;\">\n",
       "      <th></th>\n",
       "      <th>id</th>\n",
       "      <th>member_id</th>\n",
       "      <th>loan_amnt</th>\n",
       "      <th>funded_amnt</th>\n",
       "      <th>funded_amnt_inv</th>\n",
       "      <th>term</th>\n",
       "      <th>int_rate</th>\n",
       "      <th>installment</th>\n",
       "      <th>grade</th>\n",
       "      <th>sub_grade</th>\n",
       "      <th>...</th>\n",
       "      <th>total_pymnt_inv</th>\n",
       "      <th>total_rec_prncp</th>\n",
       "      <th>total_rec_int</th>\n",
       "      <th>total_rec_late_fee</th>\n",
       "      <th>recoveries</th>\n",
       "      <th>collection_recovery_fee</th>\n",
       "      <th>last_pymnt_d</th>\n",
       "      <th>last_pymnt_amnt</th>\n",
       "      <th>last_credit_pull_d</th>\n",
       "      <th>application_type</th>\n",
       "    </tr>\n",
       "  </thead>\n",
       "  <tbody>\n",
       "    <tr>\n",
       "      <th>0</th>\n",
       "      <td>1077501</td>\n",
       "      <td>1296599</td>\n",
       "      <td>5000</td>\n",
       "      <td>5000</td>\n",
       "      <td>4975.00000</td>\n",
       "      <td>36</td>\n",
       "      <td>10.65</td>\n",
       "      <td>162.87</td>\n",
       "      <td>B</td>\n",
       "      <td>B2</td>\n",
       "      <td>...</td>\n",
       "      <td>5831.78</td>\n",
       "      <td>5000.00</td>\n",
       "      <td>861.07</td>\n",
       "      <td>0.00</td>\n",
       "      <td>0.00</td>\n",
       "      <td>0.00</td>\n",
       "      <td>Jan-15</td>\n",
       "      <td>171.62</td>\n",
       "      <td>Jan-16</td>\n",
       "      <td>INDIVIDUAL</td>\n",
       "    </tr>\n",
       "    <tr>\n",
       "      <th>1</th>\n",
       "      <td>1077430</td>\n",
       "      <td>1314167</td>\n",
       "      <td>2500</td>\n",
       "      <td>2500</td>\n",
       "      <td>2500.00000</td>\n",
       "      <td>60</td>\n",
       "      <td>15.27</td>\n",
       "      <td>59.83</td>\n",
       "      <td>C</td>\n",
       "      <td>C4</td>\n",
       "      <td>...</td>\n",
       "      <td>1008.71</td>\n",
       "      <td>456.46</td>\n",
       "      <td>435.17</td>\n",
       "      <td>0.00</td>\n",
       "      <td>117.08</td>\n",
       "      <td>1.11</td>\n",
       "      <td>Apr-13</td>\n",
       "      <td>119.66</td>\n",
       "      <td>Sep-13</td>\n",
       "      <td>INDIVIDUAL</td>\n",
       "    </tr>\n",
       "    <tr>\n",
       "      <th>2</th>\n",
       "      <td>1077175</td>\n",
       "      <td>1313524</td>\n",
       "      <td>2400</td>\n",
       "      <td>2400</td>\n",
       "      <td>2400.00000</td>\n",
       "      <td>36</td>\n",
       "      <td>15.96</td>\n",
       "      <td>84.33</td>\n",
       "      <td>C</td>\n",
       "      <td>C5</td>\n",
       "      <td>...</td>\n",
       "      <td>3003.65</td>\n",
       "      <td>2400.00</td>\n",
       "      <td>603.65</td>\n",
       "      <td>0.00</td>\n",
       "      <td>0.00</td>\n",
       "      <td>0.00</td>\n",
       "      <td>Jun-14</td>\n",
       "      <td>649.91</td>\n",
       "      <td>Jan-16</td>\n",
       "      <td>INDIVIDUAL</td>\n",
       "    </tr>\n",
       "    <tr>\n",
       "      <th>3</th>\n",
       "      <td>1076863</td>\n",
       "      <td>1277178</td>\n",
       "      <td>10000</td>\n",
       "      <td>10000</td>\n",
       "      <td>10000.00000</td>\n",
       "      <td>36</td>\n",
       "      <td>13.49</td>\n",
       "      <td>339.31</td>\n",
       "      <td>C</td>\n",
       "      <td>C1</td>\n",
       "      <td>...</td>\n",
       "      <td>12226.30</td>\n",
       "      <td>10000.00</td>\n",
       "      <td>2209.33</td>\n",
       "      <td>16.97</td>\n",
       "      <td>0.00</td>\n",
       "      <td>0.00</td>\n",
       "      <td>Jan-15</td>\n",
       "      <td>357.48</td>\n",
       "      <td>Jan-15</td>\n",
       "      <td>INDIVIDUAL</td>\n",
       "    </tr>\n",
       "    <tr>\n",
       "      <th>4</th>\n",
       "      <td>1075358</td>\n",
       "      <td>1311748</td>\n",
       "      <td>3000</td>\n",
       "      <td>3000</td>\n",
       "      <td>3000.00000</td>\n",
       "      <td>60</td>\n",
       "      <td>12.69</td>\n",
       "      <td>67.79</td>\n",
       "      <td>B</td>\n",
       "      <td>B5</td>\n",
       "      <td>...</td>\n",
       "      <td>3242.17</td>\n",
       "      <td>2233.10</td>\n",
       "      <td>1009.07</td>\n",
       "      <td>0.00</td>\n",
       "      <td>0.00</td>\n",
       "      <td>0.00</td>\n",
       "      <td>Jan-16</td>\n",
       "      <td>67.79</td>\n",
       "      <td>Jan-16</td>\n",
       "      <td>INDIVIDUAL</td>\n",
       "    </tr>\n",
       "    <tr>\n",
       "      <th>...</th>\n",
       "      <td>...</td>\n",
       "      <td>...</td>\n",
       "      <td>...</td>\n",
       "      <td>...</td>\n",
       "      <td>...</td>\n",
       "      <td>...</td>\n",
       "      <td>...</td>\n",
       "      <td>...</td>\n",
       "      <td>...</td>\n",
       "      <td>...</td>\n",
       "      <td>...</td>\n",
       "      <td>...</td>\n",
       "      <td>...</td>\n",
       "      <td>...</td>\n",
       "      <td>...</td>\n",
       "      <td>...</td>\n",
       "      <td>...</td>\n",
       "      <td>...</td>\n",
       "      <td>...</td>\n",
       "      <td>...</td>\n",
       "      <td>...</td>\n",
       "    </tr>\n",
       "    <tr>\n",
       "      <th>994</th>\n",
       "      <td>1057818</td>\n",
       "      <td>1289186</td>\n",
       "      <td>7000</td>\n",
       "      <td>7000</td>\n",
       "      <td>7000.00000</td>\n",
       "      <td>36</td>\n",
       "      <td>8.90</td>\n",
       "      <td>222.28</td>\n",
       "      <td>A</td>\n",
       "      <td>A5</td>\n",
       "      <td>...</td>\n",
       "      <td>8000.34</td>\n",
       "      <td>7000.00</td>\n",
       "      <td>1000.34</td>\n",
       "      <td>0.00</td>\n",
       "      <td>0.00</td>\n",
       "      <td>0.00</td>\n",
       "      <td>Dec-14</td>\n",
       "      <td>229.64</td>\n",
       "      <td>Dec-14</td>\n",
       "      <td>INDIVIDUAL</td>\n",
       "    </tr>\n",
       "    <tr>\n",
       "      <th>995</th>\n",
       "      <td>1057629</td>\n",
       "      <td>1289394</td>\n",
       "      <td>2425</td>\n",
       "      <td>2425</td>\n",
       "      <td>2425.00000</td>\n",
       "      <td>36</td>\n",
       "      <td>15.27</td>\n",
       "      <td>84.39</td>\n",
       "      <td>C</td>\n",
       "      <td>C4</td>\n",
       "      <td>...</td>\n",
       "      <td>3052.79</td>\n",
       "      <td>2424.99</td>\n",
       "      <td>612.80</td>\n",
       "      <td>15.00</td>\n",
       "      <td>0.00</td>\n",
       "      <td>0.00</td>\n",
       "      <td>Jan-15</td>\n",
       "      <td>16.06</td>\n",
       "      <td>Jul-15</td>\n",
       "      <td>INDIVIDUAL</td>\n",
       "    </tr>\n",
       "    <tr>\n",
       "      <th>996</th>\n",
       "      <td>1057621</td>\n",
       "      <td>1289385</td>\n",
       "      <td>6950</td>\n",
       "      <td>6950</td>\n",
       "      <td>6950.00000</td>\n",
       "      <td>36</td>\n",
       "      <td>9.91</td>\n",
       "      <td>223.97</td>\n",
       "      <td>B</td>\n",
       "      <td>B1</td>\n",
       "      <td>...</td>\n",
       "      <td>7349.48</td>\n",
       "      <td>6950.01</td>\n",
       "      <td>399.47</td>\n",
       "      <td>0.00</td>\n",
       "      <td>0.00</td>\n",
       "      <td>0.00</td>\n",
       "      <td>Sep-12</td>\n",
       "      <td>1560.92</td>\n",
       "      <td>Apr-14</td>\n",
       "      <td>INDIVIDUAL</td>\n",
       "    </tr>\n",
       "    <tr>\n",
       "      <th>997</th>\n",
       "      <td>1057787</td>\n",
       "      <td>1289153</td>\n",
       "      <td>12375</td>\n",
       "      <td>12375</td>\n",
       "      <td>12344.46478</td>\n",
       "      <td>36</td>\n",
       "      <td>9.91</td>\n",
       "      <td>398.79</td>\n",
       "      <td>B</td>\n",
       "      <td>B1</td>\n",
       "      <td>...</td>\n",
       "      <td>13399.63</td>\n",
       "      <td>12375.01</td>\n",
       "      <td>1058.95</td>\n",
       "      <td>0.00</td>\n",
       "      <td>0.00</td>\n",
       "      <td>0.00</td>\n",
       "      <td>Dec-12</td>\n",
       "      <td>9056.48</td>\n",
       "      <td>Jan-16</td>\n",
       "      <td>INDIVIDUAL</td>\n",
       "    </tr>\n",
       "    <tr>\n",
       "      <th>998</th>\n",
       "      <td>1057770</td>\n",
       "      <td>1289135</td>\n",
       "      <td>35000</td>\n",
       "      <td>35000</td>\n",
       "      <td>33906.19420</td>\n",
       "      <td>60</td>\n",
       "      <td>20.30</td>\n",
       "      <td>933.14</td>\n",
       "      <td>E</td>\n",
       "      <td>E5</td>\n",
       "      <td>...</td>\n",
       "      <td>42066.82</td>\n",
       "      <td>24930.60</td>\n",
       "      <td>19834.12</td>\n",
       "      <td>0.00</td>\n",
       "      <td>0.00</td>\n",
       "      <td>0.00</td>\n",
       "      <td>Jan-16</td>\n",
       "      <td>933.14</td>\n",
       "      <td>Jan-16</td>\n",
       "      <td>INDIVIDUAL</td>\n",
       "    </tr>\n",
       "  </tbody>\n",
       "</table>\n",
       "<p>999 rows × 47 columns</p>\n",
       "</div>"
      ],
      "text/plain": [
       "          id  member_id  loan_amnt  funded_amnt  funded_amnt_inv  term   \n",
       "0    1077501    1296599       5000         5000       4975.00000   36   \\\n",
       "1    1077430    1314167       2500         2500       2500.00000   60    \n",
       "2    1077175    1313524       2400         2400       2400.00000   36    \n",
       "3    1076863    1277178      10000        10000      10000.00000   36    \n",
       "4    1075358    1311748       3000         3000       3000.00000   60    \n",
       "..       ...        ...        ...          ...              ...   ...   \n",
       "994  1057818    1289186       7000         7000       7000.00000   36    \n",
       "995  1057629    1289394       2425         2425       2425.00000   36    \n",
       "996  1057621    1289385       6950         6950       6950.00000   36    \n",
       "997  1057787    1289153      12375        12375      12344.46478   36    \n",
       "998  1057770    1289135      35000        35000      33906.19420   60    \n",
       "\n",
       "     int_rate  installment grade sub_grade  ... total_pymnt_inv   \n",
       "0       10.65       162.87     B        B2  ...         5831.78  \\\n",
       "1       15.27        59.83     C        C4  ...         1008.71   \n",
       "2       15.96        84.33     C        C5  ...         3003.65   \n",
       "3       13.49       339.31     C        C1  ...        12226.30   \n",
       "4       12.69        67.79     B        B5  ...         3242.17   \n",
       "..        ...          ...   ...       ...  ...             ...   \n",
       "994      8.90       222.28     A        A5  ...         8000.34   \n",
       "995     15.27        84.39     C        C4  ...         3052.79   \n",
       "996      9.91       223.97     B        B1  ...         7349.48   \n",
       "997      9.91       398.79     B        B1  ...        13399.63   \n",
       "998     20.30       933.14     E        E5  ...        42066.82   \n",
       "\n",
       "     total_rec_prncp total_rec_int  total_rec_late_fee recoveries   \n",
       "0            5000.00        861.07                0.00       0.00  \\\n",
       "1             456.46        435.17                0.00     117.08   \n",
       "2            2400.00        603.65                0.00       0.00   \n",
       "3           10000.00       2209.33               16.97       0.00   \n",
       "4            2233.10       1009.07                0.00       0.00   \n",
       "..               ...           ...                 ...        ...   \n",
       "994          7000.00       1000.34                0.00       0.00   \n",
       "995          2424.99        612.80               15.00       0.00   \n",
       "996          6950.01        399.47                0.00       0.00   \n",
       "997         12375.01       1058.95                0.00       0.00   \n",
       "998         24930.60      19834.12                0.00       0.00   \n",
       "\n",
       "    collection_recovery_fee last_pymnt_d last_pymnt_amnt last_credit_pull_d   \n",
       "0                      0.00       Jan-15          171.62             Jan-16  \\\n",
       "1                      1.11       Apr-13          119.66             Sep-13   \n",
       "2                      0.00       Jun-14          649.91             Jan-16   \n",
       "3                      0.00       Jan-15          357.48             Jan-15   \n",
       "4                      0.00       Jan-16           67.79             Jan-16   \n",
       "..                      ...          ...             ...                ...   \n",
       "994                    0.00       Dec-14          229.64             Dec-14   \n",
       "995                    0.00       Jan-15           16.06             Jul-15   \n",
       "996                    0.00       Sep-12         1560.92             Apr-14   \n",
       "997                    0.00       Dec-12         9056.48             Jan-16   \n",
       "998                    0.00       Jan-16          933.14             Jan-16   \n",
       "\n",
       "    application_type  \n",
       "0         INDIVIDUAL  \n",
       "1         INDIVIDUAL  \n",
       "2         INDIVIDUAL  \n",
       "3         INDIVIDUAL  \n",
       "4         INDIVIDUAL  \n",
       "..               ...  \n",
       "994       INDIVIDUAL  \n",
       "995       INDIVIDUAL  \n",
       "996       INDIVIDUAL  \n",
       "997       INDIVIDUAL  \n",
       "998       INDIVIDUAL  \n",
       "\n",
       "[999 rows x 47 columns]"
      ]
     },
     "execution_count": 25,
     "metadata": {},
     "output_type": "execute_result"
    }
   ],
   "source": [
    "df"
   ]
  },
  {
   "cell_type": "code",
   "execution_count": 26,
   "id": "a6024d93",
   "metadata": {},
   "outputs": [
    {
     "data": {
      "text/html": [
       "<div>\n",
       "<style scoped>\n",
       "    .dataframe tbody tr th:only-of-type {\n",
       "        vertical-align: middle;\n",
       "    }\n",
       "\n",
       "    .dataframe tbody tr th {\n",
       "        vertical-align: top;\n",
       "    }\n",
       "\n",
       "    .dataframe thead th {\n",
       "        text-align: right;\n",
       "    }\n",
       "</style>\n",
       "<table border=\"1\" class=\"dataframe\">\n",
       "  <thead>\n",
       "    <tr style=\"text-align: right;\">\n",
       "      <th></th>\n",
       "      <th>id</th>\n",
       "      <th>member_id</th>\n",
       "      <th>loan_amnt</th>\n",
       "      <th>funded_amnt</th>\n",
       "      <th>funded_amnt_inv</th>\n",
       "      <th>int_rate</th>\n",
       "      <th>installment</th>\n",
       "      <th>emp_length</th>\n",
       "      <th>annual_inc</th>\n",
       "      <th>dti</th>\n",
       "      <th>...</th>\n",
       "      <th>out_prncp</th>\n",
       "      <th>out_prncp_inv</th>\n",
       "      <th>total_pymnt</th>\n",
       "      <th>total_pymnt_inv</th>\n",
       "      <th>total_rec_prncp</th>\n",
       "      <th>total_rec_int</th>\n",
       "      <th>total_rec_late_fee</th>\n",
       "      <th>recoveries</th>\n",
       "      <th>collection_recovery_fee</th>\n",
       "      <th>last_pymnt_amnt</th>\n",
       "    </tr>\n",
       "  </thead>\n",
       "  <tbody>\n",
       "    <tr>\n",
       "      <th>count</th>\n",
       "      <td>9.990000e+02</td>\n",
       "      <td>9.990000e+02</td>\n",
       "      <td>999.000000</td>\n",
       "      <td>999.000000</td>\n",
       "      <td>999.000000</td>\n",
       "      <td>999.000000</td>\n",
       "      <td>999.000000</td>\n",
       "      <td>982.000000</td>\n",
       "      <td>999.000000</td>\n",
       "      <td>999.000000</td>\n",
       "      <td>...</td>\n",
       "      <td>999.000000</td>\n",
       "      <td>999.000000</td>\n",
       "      <td>999.000000</td>\n",
       "      <td>999.000000</td>\n",
       "      <td>999.000000</td>\n",
       "      <td>999.000000</td>\n",
       "      <td>999.000000</td>\n",
       "      <td>999.000000</td>\n",
       "      <td>999.000000</td>\n",
       "      <td>999.000000</td>\n",
       "    </tr>\n",
       "    <tr>\n",
       "      <th>mean</th>\n",
       "      <td>1.060005e+06</td>\n",
       "      <td>1.291575e+06</td>\n",
       "      <td>12704.354354</td>\n",
       "      <td>12197.797798</td>\n",
       "      <td>12137.165302</td>\n",
       "      <td>12.961331</td>\n",
       "      <td>366.992743</td>\n",
       "      <td>5.365580</td>\n",
       "      <td>62118.790330</td>\n",
       "      <td>14.641191</td>\n",
       "      <td>...</td>\n",
       "      <td>393.475025</td>\n",
       "      <td>392.977998</td>\n",
       "      <td>13218.969378</td>\n",
       "      <td>13123.601622</td>\n",
       "      <td>10395.572492</td>\n",
       "      <td>2703.640891</td>\n",
       "      <td>1.081158</td>\n",
       "      <td>118.674915</td>\n",
       "      <td>9.817802</td>\n",
       "      <td>2762.736486</td>\n",
       "    </tr>\n",
       "    <tr>\n",
       "      <th>std</th>\n",
       "      <td>1.602660e+04</td>\n",
       "      <td>2.112723e+04</td>\n",
       "      <td>7463.253235</td>\n",
       "      <td>6804.931895</td>\n",
       "      <td>6743.323264</td>\n",
       "      <td>3.881742</td>\n",
       "      <td>200.510423</td>\n",
       "      <td>3.347029</td>\n",
       "      <td>31899.138102</td>\n",
       "      <td>6.268761</td>\n",
       "      <td>...</td>\n",
       "      <td>1372.152659</td>\n",
       "      <td>1370.738354</td>\n",
       "      <td>8515.600032</td>\n",
       "      <td>8384.022752</td>\n",
       "      <td>6727.488181</td>\n",
       "      <td>2757.603166</td>\n",
       "      <td>6.533628</td>\n",
       "      <td>606.058706</td>\n",
       "      <td>87.107689</td>\n",
       "      <td>4426.094619</td>\n",
       "    </tr>\n",
       "    <tr>\n",
       "      <th>min</th>\n",
       "      <td>7.659270e+05</td>\n",
       "      <td>9.431350e+05</td>\n",
       "      <td>1000.000000</td>\n",
       "      <td>1000.000000</td>\n",
       "      <td>1000.000000</td>\n",
       "      <td>6.030000</td>\n",
       "      <td>33.940000</td>\n",
       "      <td>1.000000</td>\n",
       "      <td>12000.000000</td>\n",
       "      <td>0.720000</td>\n",
       "      <td>...</td>\n",
       "      <td>0.000000</td>\n",
       "      <td>0.000000</td>\n",
       "      <td>0.000000</td>\n",
       "      <td>0.000000</td>\n",
       "      <td>0.000000</td>\n",
       "      <td>0.000000</td>\n",
       "      <td>0.000000</td>\n",
       "      <td>0.000000</td>\n",
       "      <td>0.000000</td>\n",
       "      <td>0.000000</td>\n",
       "    </tr>\n",
       "    <tr>\n",
       "      <th>25%</th>\n",
       "      <td>1.058868e+06</td>\n",
       "      <td>1.290204e+06</td>\n",
       "      <td>7050.000000</td>\n",
       "      <td>7000.000000</td>\n",
       "      <td>7000.000000</td>\n",
       "      <td>9.910000</td>\n",
       "      <td>223.440000</td>\n",
       "      <td>2.000000</td>\n",
       "      <td>40000.000000</td>\n",
       "      <td>10.015000</td>\n",
       "      <td>...</td>\n",
       "      <td>0.000000</td>\n",
       "      <td>0.000000</td>\n",
       "      <td>6903.943290</td>\n",
       "      <td>6894.465000</td>\n",
       "      <td>5110.360000</td>\n",
       "      <td>960.535000</td>\n",
       "      <td>0.000000</td>\n",
       "      <td>0.000000</td>\n",
       "      <td>0.000000</td>\n",
       "      <td>281.185000</td>\n",
       "    </tr>\n",
       "    <tr>\n",
       "      <th>50%</th>\n",
       "      <td>1.061891e+06</td>\n",
       "      <td>1.293501e+06</td>\n",
       "      <td>11500.000000</td>\n",
       "      <td>11000.000000</td>\n",
       "      <td>10800.000000</td>\n",
       "      <td>12.690000</td>\n",
       "      <td>337.750000</td>\n",
       "      <td>5.000000</td>\n",
       "      <td>55000.000000</td>\n",
       "      <td>14.800000</td>\n",
       "      <td>...</td>\n",
       "      <td>0.000000</td>\n",
       "      <td>0.000000</td>\n",
       "      <td>11599.078020</td>\n",
       "      <td>11593.400000</td>\n",
       "      <td>9600.000000</td>\n",
       "      <td>1807.880000</td>\n",
       "      <td>0.000000</td>\n",
       "      <td>0.000000</td>\n",
       "      <td>0.000000</td>\n",
       "      <td>530.780000</td>\n",
       "    </tr>\n",
       "    <tr>\n",
       "      <th>75%</th>\n",
       "      <td>1.065345e+06</td>\n",
       "      <td>1.299062e+06</td>\n",
       "      <td>16050.000000</td>\n",
       "      <td>16000.000000</td>\n",
       "      <td>15946.571055</td>\n",
       "      <td>15.960000</td>\n",
       "      <td>469.235000</td>\n",
       "      <td>9.000000</td>\n",
       "      <td>75500.000000</td>\n",
       "      <td>19.630000</td>\n",
       "      <td>...</td>\n",
       "      <td>0.000000</td>\n",
       "      <td>0.000000</td>\n",
       "      <td>17559.547470</td>\n",
       "      <td>17404.910000</td>\n",
       "      <td>14000.000000</td>\n",
       "      <td>3279.710000</td>\n",
       "      <td>0.000000</td>\n",
       "      <td>0.000000</td>\n",
       "      <td>0.000000</td>\n",
       "      <td>3516.275000</td>\n",
       "    </tr>\n",
       "    <tr>\n",
       "      <th>max</th>\n",
       "      <td>1.077501e+06</td>\n",
       "      <td>1.314167e+06</td>\n",
       "      <td>35000.000000</td>\n",
       "      <td>35000.000000</td>\n",
       "      <td>35000.000000</td>\n",
       "      <td>23.910000</td>\n",
       "      <td>1243.850000</td>\n",
       "      <td>10.000000</td>\n",
       "      <td>276000.000000</td>\n",
       "      <td>29.850000</td>\n",
       "      <td>...</td>\n",
       "      <td>10069.400000</td>\n",
       "      <td>10062.140000</td>\n",
       "      <td>45755.229980</td>\n",
       "      <td>44519.610000</td>\n",
       "      <td>35000.000000</td>\n",
       "      <td>19834.120000</td>\n",
       "      <td>94.480000</td>\n",
       "      <td>11349.520000</td>\n",
       "      <td>2043.180000</td>\n",
       "      <td>28412.430000</td>\n",
       "    </tr>\n",
       "  </tbody>\n",
       "</table>\n",
       "<p>8 rows × 29 columns</p>\n",
       "</div>"
      ],
      "text/plain": [
       "                 id     member_id     loan_amnt   funded_amnt   \n",
       "count  9.990000e+02  9.990000e+02    999.000000    999.000000  \\\n",
       "mean   1.060005e+06  1.291575e+06  12704.354354  12197.797798   \n",
       "std    1.602660e+04  2.112723e+04   7463.253235   6804.931895   \n",
       "min    7.659270e+05  9.431350e+05   1000.000000   1000.000000   \n",
       "25%    1.058868e+06  1.290204e+06   7050.000000   7000.000000   \n",
       "50%    1.061891e+06  1.293501e+06  11500.000000  11000.000000   \n",
       "75%    1.065345e+06  1.299062e+06  16050.000000  16000.000000   \n",
       "max    1.077501e+06  1.314167e+06  35000.000000  35000.000000   \n",
       "\n",
       "       funded_amnt_inv    int_rate  installment  emp_length     annual_inc   \n",
       "count       999.000000  999.000000   999.000000  982.000000     999.000000  \\\n",
       "mean      12137.165302   12.961331   366.992743    5.365580   62118.790330   \n",
       "std        6743.323264    3.881742   200.510423    3.347029   31899.138102   \n",
       "min        1000.000000    6.030000    33.940000    1.000000   12000.000000   \n",
       "25%        7000.000000    9.910000   223.440000    2.000000   40000.000000   \n",
       "50%       10800.000000   12.690000   337.750000    5.000000   55000.000000   \n",
       "75%       15946.571055   15.960000   469.235000    9.000000   75500.000000   \n",
       "max       35000.000000   23.910000  1243.850000   10.000000  276000.000000   \n",
       "\n",
       "              dti  ...     out_prncp  out_prncp_inv   total_pymnt   \n",
       "count  999.000000  ...    999.000000     999.000000    999.000000  \\\n",
       "mean    14.641191  ...    393.475025     392.977998  13218.969378   \n",
       "std      6.268761  ...   1372.152659    1370.738354   8515.600032   \n",
       "min      0.720000  ...      0.000000       0.000000      0.000000   \n",
       "25%     10.015000  ...      0.000000       0.000000   6903.943290   \n",
       "50%     14.800000  ...      0.000000       0.000000  11599.078020   \n",
       "75%     19.630000  ...      0.000000       0.000000  17559.547470   \n",
       "max     29.850000  ...  10069.400000   10062.140000  45755.229980   \n",
       "\n",
       "       total_pymnt_inv  total_rec_prncp  total_rec_int  total_rec_late_fee   \n",
       "count       999.000000       999.000000     999.000000          999.000000  \\\n",
       "mean      13123.601622     10395.572492    2703.640891            1.081158   \n",
       "std        8384.022752      6727.488181    2757.603166            6.533628   \n",
       "min           0.000000         0.000000       0.000000            0.000000   \n",
       "25%        6894.465000      5110.360000     960.535000            0.000000   \n",
       "50%       11593.400000      9600.000000    1807.880000            0.000000   \n",
       "75%       17404.910000     14000.000000    3279.710000            0.000000   \n",
       "max       44519.610000     35000.000000   19834.120000           94.480000   \n",
       "\n",
       "         recoveries  collection_recovery_fee  last_pymnt_amnt  \n",
       "count    999.000000               999.000000       999.000000  \n",
       "mean     118.674915                 9.817802      2762.736486  \n",
       "std      606.058706                87.107689      4426.094619  \n",
       "min        0.000000                 0.000000         0.000000  \n",
       "25%        0.000000                 0.000000       281.185000  \n",
       "50%        0.000000                 0.000000       530.780000  \n",
       "75%        0.000000                 0.000000      3516.275000  \n",
       "max    11349.520000              2043.180000     28412.430000  \n",
       "\n",
       "[8 rows x 29 columns]"
      ]
     },
     "execution_count": 26,
     "metadata": {},
     "output_type": "execute_result"
    }
   ],
   "source": [
    "df.describe()"
   ]
  },
  {
   "cell_type": "code",
   "execution_count": 27,
   "id": "844490f4",
   "metadata": {},
   "outputs": [],
   "source": [
    "loan_value = df.loan_amnt.value_counts().nlargest(20)"
   ]
  },
  {
   "cell_type": "code",
   "execution_count": 28,
   "id": "4ae04da0",
   "metadata": {},
   "outputs": [
    {
     "data": {
      "text/plain": [
       "loan_amnt\n",
       "10000    87\n",
       "12000    81\n",
       "5000     41\n",
       "15000    40\n",
       "6000     34\n",
       "20000    33\n",
       "8000     30\n",
       "7000     30\n",
       "18000    29\n",
       "16000    26\n",
       "25000    26\n",
       "35000    23\n",
       "14000    21\n",
       "4000     18\n",
       "3000     18\n",
       "7200     17\n",
       "13000    15\n",
       "24000    14\n",
       "30000    11\n",
       "21000    11\n",
       "Name: count, dtype: int64"
      ]
     },
     "execution_count": 28,
     "metadata": {},
     "output_type": "execute_result"
    }
   ],
   "source": [
    "loan_value"
   ]
  },
  {
   "cell_type": "markdown",
   "id": "9cd50f77",
   "metadata": {},
   "source": [
    "### The highest amount of loan given is 35000 but the most common loan amount is 10000, given to 87 people\n",
    "### The lowest amount of loan given is 1000"
   ]
  },
  {
   "cell_type": "code",
   "execution_count": 29,
   "id": "54311859",
   "metadata": {},
   "outputs": [
    {
     "data": {
      "text/html": [
       "<div>\n",
       "<style scoped>\n",
       "    .dataframe tbody tr th:only-of-type {\n",
       "        vertical-align: middle;\n",
       "    }\n",
       "\n",
       "    .dataframe tbody tr th {\n",
       "        vertical-align: top;\n",
       "    }\n",
       "\n",
       "    .dataframe thead th {\n",
       "        text-align: right;\n",
       "    }\n",
       "</style>\n",
       "<table border=\"1\" class=\"dataframe\">\n",
       "  <thead>\n",
       "    <tr style=\"text-align: right;\">\n",
       "      <th></th>\n",
       "      <th>annual_inc</th>\n",
       "    </tr>\n",
       "    <tr>\n",
       "      <th>loan_status</th>\n",
       "      <th></th>\n",
       "    </tr>\n",
       "  </thead>\n",
       "  <tbody>\n",
       "    <tr>\n",
       "      <th>Bad</th>\n",
       "      <td>60666.666667</td>\n",
       "    </tr>\n",
       "    <tr>\n",
       "      <th>Good</th>\n",
       "      <td>62123.164197</td>\n",
       "    </tr>\n",
       "  </tbody>\n",
       "</table>\n",
       "</div>"
      ],
      "text/plain": [
       "               annual_inc\n",
       "loan_status              \n",
       "Bad          60666.666667\n",
       "Good         62123.164197"
      ]
     },
     "execution_count": 29,
     "metadata": {},
     "output_type": "execute_result"
    }
   ],
   "source": [
    "df[[\"loan_status\", \"annual_inc\"]].groupby(\"loan_status\").mean()"
   ]
  },
  {
   "cell_type": "code",
   "execution_count": 30,
   "id": "f37dd16a",
   "metadata": {},
   "outputs": [
    {
     "data": {
      "text/html": [
       "<div>\n",
       "<style scoped>\n",
       "    .dataframe tbody tr th:only-of-type {\n",
       "        vertical-align: middle;\n",
       "    }\n",
       "\n",
       "    .dataframe tbody tr th {\n",
       "        vertical-align: top;\n",
       "    }\n",
       "\n",
       "    .dataframe thead th {\n",
       "        text-align: right;\n",
       "    }\n",
       "</style>\n",
       "<table border=\"1\" class=\"dataframe\">\n",
       "  <thead>\n",
       "    <tr style=\"text-align: right;\">\n",
       "      <th></th>\n",
       "      <th>id</th>\n",
       "    </tr>\n",
       "    <tr>\n",
       "      <th>loan_status</th>\n",
       "      <th></th>\n",
       "    </tr>\n",
       "  </thead>\n",
       "  <tbody>\n",
       "    <tr>\n",
       "      <th>Bad</th>\n",
       "      <td>3</td>\n",
       "    </tr>\n",
       "    <tr>\n",
       "      <th>Good</th>\n",
       "      <td>996</td>\n",
       "    </tr>\n",
       "  </tbody>\n",
       "</table>\n",
       "</div>"
      ],
      "text/plain": [
       "              id\n",
       "loan_status     \n",
       "Bad            3\n",
       "Good         996"
      ]
     },
     "execution_count": 30,
     "metadata": {},
     "output_type": "execute_result"
    }
   ],
   "source": [
    "df[[\"loan_status\", \"id\"]].groupby(\"loan_status\").count()"
   ]
  },
  {
   "cell_type": "markdown",
   "id": "00f695f7",
   "metadata": {},
   "source": [
    "### Based on the annual income, there are 3 members having a bad loan status i.e. either their loan is in default state or delayed by 31-120 days while the rest have a good status. The rest of them have either fully paid their loans, or are charged off, or have currently been given the loan."
   ]
  },
  {
   "cell_type": "code",
   "execution_count": 31,
   "id": "2de1f681",
   "metadata": {},
   "outputs": [
    {
     "data": {
      "text/html": [
       "<div>\n",
       "<style scoped>\n",
       "    .dataframe tbody tr th:only-of-type {\n",
       "        vertical-align: middle;\n",
       "    }\n",
       "\n",
       "    .dataframe tbody tr th {\n",
       "        vertical-align: top;\n",
       "    }\n",
       "\n",
       "    .dataframe thead th {\n",
       "        text-align: right;\n",
       "    }\n",
       "</style>\n",
       "<table border=\"1\" class=\"dataframe\">\n",
       "  <thead>\n",
       "    <tr style=\"text-align: right;\">\n",
       "      <th></th>\n",
       "      <th>annual_inc</th>\n",
       "    </tr>\n",
       "    <tr>\n",
       "      <th>home_ownership</th>\n",
       "      <th></th>\n",
       "    </tr>\n",
       "  </thead>\n",
       "  <tbody>\n",
       "    <tr>\n",
       "      <th>MORTGAGE</th>\n",
       "      <td>74708.381098</td>\n",
       "    </tr>\n",
       "    <tr>\n",
       "      <th>OWN</th>\n",
       "      <td>56619.440000</td>\n",
       "    </tr>\n",
       "    <tr>\n",
       "      <th>RENT</th>\n",
       "      <td>55882.323054</td>\n",
       "    </tr>\n",
       "  </tbody>\n",
       "</table>\n",
       "</div>"
      ],
      "text/plain": [
       "                  annual_inc\n",
       "home_ownership              \n",
       "MORTGAGE        74708.381098\n",
       "OWN             56619.440000\n",
       "RENT            55882.323054"
      ]
     },
     "execution_count": 31,
     "metadata": {},
     "output_type": "execute_result"
    }
   ],
   "source": [
    "df[[\"home_ownership\", \"annual_inc\"]].groupby(\"home_ownership\").mean()"
   ]
  },
  {
   "cell_type": "markdown",
   "id": "1c55bb97",
   "metadata": {},
   "source": [
    "### The average annual income on the basis of different types of home ownership is shown above. The analysis shows that the Mortgage home owners have the highest annual income on average as compared to the other two types of ownership (rent and owned)"
   ]
  },
  {
   "cell_type": "markdown",
   "id": "3ae2bcdc",
   "metadata": {},
   "source": [
    "## Univariate"
   ]
  },
  {
   "cell_type": "code",
   "execution_count": 32,
   "id": "2b4d46a5",
   "metadata": {},
   "outputs": [
    {
     "data": {
      "text/plain": [
       "<Axes: xlabel='loan_amnt'>"
      ]
     },
     "execution_count": 32,
     "metadata": {},
     "output_type": "execute_result"
    },
    {
     "data": {
      "image/png": "[encoded data removed]",
      "text/plain": [
       "<Figure size 1000x500 with 1 Axes>"
      ]
     },
     "metadata": {},
     "output_type": "display_data"
    }
   ],
   "source": [
    "loan_value.plot(kind='bar', figsize=(10,5))"
   ]
  },
  {
   "cell_type": "markdown",
   "id": "865e5828",
   "metadata": {},
   "source": [
    "### The top 20 loan amounts along with their frequencies are shown in the bar plot above. This plot is a visualization of the loan summary of top 20 loan amounts in the data. "
   ]
  },
  {
   "cell_type": "code",
   "execution_count": 33,
   "id": "aa9aa20e",
   "metadata": {},
   "outputs": [
    {
     "data": {
      "text/plain": [
       "(array([ 18.,  19.,  20.,  26.,  28.,  46.,  41.,  73.,  84., 105., 110.,\n",
       "        131., 117., 113.,  68.]),\n",
       " array([ 0.        ,  6.65333333, 13.30666667, 19.96      , 26.61333333,\n",
       "        33.26666667, 39.92      , 46.57333333, 53.22666667, 59.88      ,\n",
       "        66.53333333, 73.18666667, 79.84      , 86.49333333, 93.14666667,\n",
       "        99.8       ]),\n",
       " <BarContainer object of 15 artists>)"
      ]
     },
     "execution_count": 33,
     "metadata": {},
     "output_type": "execute_result"
    },
    {
     "data": {
      "image/png": "[encoded data removed]",
      "text/plain": [
       "<Figure size 640x480 with 1 Axes>"
      ]
     },
     "metadata": {},
     "output_type": "display_data"
    }
   ],
   "source": [
    "plt.hist(df['revol_util'], bins = 15)"
   ]
  },
  {
   "cell_type": "markdown",
   "id": "98ea8dda",
   "metadata": {},
   "source": [
    "### Revolving line utilization rate, or the amount of credit the borrowers use relative to all available revolving credit is plotted w.r.t its ranges. The highest amount of borrowed credit is shown to be 79.84 having a value of 131. "
   ]
  },
  {
   "cell_type": "code",
   "execution_count": 34,
   "id": "39d326fe",
   "metadata": {},
   "outputs": [
    {
     "data": {
      "text/plain": [
       "<Axes: xlabel='home_ownership', ylabel='count'>"
      ]
     },
     "execution_count": 34,
     "metadata": {},
     "output_type": "execute_result"
    },
    {
     "data": {
      "image/png": "[encoded data removed]",
      "text/plain": [
       "<Figure size 640x480 with 1 Axes>"
      ]
     },
     "metadata": {},
     "output_type": "display_data"
    }
   ],
   "source": [
    "sns.countplot(x ='home_ownership', data = df, order=df['home_ownership'].value_counts()[:10].index)"
   ]
  },
  {
   "cell_type": "markdown",
   "id": "a4c99172",
   "metadata": {},
   "source": [
    "### The 3 different type of house ownerships are plotted against their respective counts in the dataset. In this particular dataset, the highest amount of loan borrowers own a rented house. As we saw in the above summaries that Mortgage home owners have the highest average annual income, so the relatively lesser financially stable  part of the population (rented home owners) need more loans to survive."
   ]
  },
  {
   "cell_type": "code",
   "execution_count": 35,
   "id": "23486fcb",
   "metadata": {},
   "outputs": [
    {
     "data": {
      "image/png": "[encoded data removed]",
      "text/plain": [
       "<Figure size 640x480 with 1 Axes>"
      ]
     },
     "metadata": {},
     "output_type": "display_data"
    }
   ],
   "source": [
    "ax = sns.countplot(x ='grade', data = df, order=df['grade'].value_counts()[:10].index)\n",
    "ax.tick_params(axis='x', rotation=90)"
   ]
  },
  {
   "cell_type": "markdown",
   "id": "00f51858",
   "metadata": {},
   "source": [
    "### The count plot shows how many of each loan grade is given from the total loans. We can interpret from the above visualization that B grade loan is the most common among all, given to around 350 people, while the most uncommon loan grade id G, given to less than 50 people. "
   ]
  },
  {
   "cell_type": "markdown",
   "id": "4c1fb4d3",
   "metadata": {},
   "source": [
    "# Bivariate Analysis (using two variables)"
   ]
  },
  {
   "cell_type": "code",
   "execution_count": 36,
   "id": "a313789b",
   "metadata": {},
   "outputs": [
    {
     "data": {
      "image/png": "[encoded data removed]",
      "text/plain": [
       "<Figure size 600x800 with 1 Axes>"
      ]
     },
     "metadata": {},
     "output_type": "display_data"
    }
   ],
   "source": [
    "plt.figure(figsize=(6,8))\n",
    "colors = ['red', 'green','blue']\n",
    "sns.boxplot(data =df, x='home_ownership', y='loan_amnt',palette=colors)\n",
    "plt.title('loan amount w.r.t the type of ownership')\n",
    "plt.show()"
   ]
  },
  {
   "cell_type": "markdown",
   "id": "38739746",
   "metadata": {},
   "source": [
    "### The above plot is showing the relationship between the type of home ownership and the amount of loan given to each. As we can see that the higher the level of home ownership, the more the range of loans. The higher the status, the more the level of loan that is required. For e.g. rent owners loan range from above 6000 and till 15000 while that of mortgage owners go up to  around 20000."
   ]
  },
  {
   "cell_type": "code",
   "execution_count": 37,
   "id": "8b0a41d3",
   "metadata": {},
   "outputs": [
    {
     "data": {
      "image/png": "[encoded data removed]",
      "text/plain": [
       "<Figure size 4200x600 with 7 Axes>"
      ]
     },
     "metadata": {},
     "output_type": "display_data"
    }
   ],
   "source": [
    "sns.catplot(x=\"home_ownership\", col=\"grade\",\n",
    "                data=df, kind=\"count\",\n",
    "                height=6, aspect=1);"
   ]
  },
  {
   "cell_type": "markdown",
   "id": "29494279",
   "metadata": {},
   "source": [
    "### Each home ownership type is plotted for a particular grade in the given dataset. We can see that in almost all of them, the rent owners have the highest loan while the 2nd highest is usually mortgage owners and then owned. "
   ]
  },
  {
   "cell_type": "markdown",
   "id": "30a22594",
   "metadata": {},
   "source": [
    "## Scatter plot"
   ]
  },
  {
   "cell_type": "code",
   "execution_count": 38,
   "id": "1280ca58",
   "metadata": {},
   "outputs": [
    {
     "data": {
      "text/plain": [
       "<Axes: xlabel='annual_inc', ylabel='dti'>"
      ]
     },
     "execution_count": 38,
     "metadata": {},
     "output_type": "execute_result"
    },
    {
     "data": {
      "image/png": "[encoded data removed]",
      "text/plain": [
       "<Figure size 640x480 with 1 Axes>"
      ]
     },
     "metadata": {},
     "output_type": "display_data"
    }
   ],
   "source": [
    "sns.scatterplot(data=df, x=\"annual_inc\", y=\"dti\")"
   ]
  },
  {
   "cell_type": "markdown",
   "id": "02703405",
   "metadata": {},
   "source": [
    "### The scatterplot shows a weak and negative association between ‘annual income’ and ‘debt to income ratio’. As the annual income of a person increases, the lesser debt he will be likely to be under. Hence, the negative relationship seems plausible in this case."
   ]
  },
  {
   "cell_type": "code",
   "execution_count": 39,
   "id": "5894d6fa",
   "metadata": {},
   "outputs": [
    {
     "data": {
      "text/plain": [
       "<Axes: xlabel='annual_inc', ylabel='total_rec_late_fee'>"
      ]
     },
     "execution_count": 39,
     "metadata": {},
     "output_type": "execute_result"
    },
    {
     "data": {
      "image/png": "[encoded data removed]",
      "text/plain": [
       "<Figure size 640x480 with 1 Axes>"
      ]
     },
     "metadata": {},
     "output_type": "display_data"
    }
   ],
   "source": [
    "\n",
    "sns.scatterplot(data=df, x=\"annual_inc\", y=\"total_rec_late_fee\")"
   ]
  },
  {
   "cell_type": "markdown",
   "id": "6dbc553f",
   "metadata": {},
   "source": [
    "### The people having low annual incomes have a higher record of paying late fees. This means that the low income earners have a higher chance of getting their salaries finished before they can complete their paymetns and are therefore usually late in paying their fees."
   ]
  },
  {
   "cell_type": "markdown",
   "id": "569fa343",
   "metadata": {},
   "source": [
    "## Correlation plot"
   ]
  },
  {
   "cell_type": "code",
   "execution_count": 40,
   "id": "11c3bfd6",
   "metadata": {},
   "outputs": [
    {
     "ename": "ValueError",
     "evalue": "could not convert string to float: 'B'",
     "output_type": "error",
     "traceback": [
      "\u001b[1;31m---------------------------------------------------------------------------\u001b[0m",
      "\u001b[1;31mValueError\u001b[0m                                Traceback (most recent call last)",
      "\u001b[1;32mc:\\Users\\ali_h\\OneDrive - Habib University\\Personal\\Habib\\Sem 9\\DS\\Homeworks\\Hw 3\\HW3-ExploratoryDataAnalysis.ipynb Cell 62\u001b[0m line \u001b[0;36m2\n\u001b[0;32m      <a href='vscode-notebook-cell:/c%3A/Users/ali_h/OneDrive%20-%20Habib%20University/Personal/Habib/Sem%209/DS/Homeworks/Hw%203/HW3-ExploratoryDataAnalysis.ipynb#Y115sZmlsZQ%3D%3D?line=0'>1</a>\u001b[0m plt\u001b[39m.\u001b[39mfigure(figsize \u001b[39m=\u001b[39m (\u001b[39m19\u001b[39m,\u001b[39m14\u001b[39m))\n\u001b[1;32m----> <a href='vscode-notebook-cell:/c%3A/Users/ali_h/OneDrive%20-%20Habib%20University/Personal/Habib/Sem%209/DS/Homeworks/Hw%203/HW3-ExploratoryDataAnalysis.ipynb#Y115sZmlsZQ%3D%3D?line=1'>2</a>\u001b[0m sns\u001b[39m.\u001b[39mheatmap(\u001b[39mround\u001b[39m(df\u001b[39m.\u001b[39;49mcorr(), \u001b[39m2\u001b[39m),annot\u001b[39m=\u001b[39m\u001b[39mTrue\u001b[39;00m)\n",
      "File \u001b[1;32mc:\\Users\\ali_h\\AppData\\Local\\Programs\\Python\\Python311\\Lib\\site-packages\\pandas\\core\\frame.py:10059\u001b[0m, in \u001b[0;36mDataFrame.corr\u001b[1;34m(self, method, min_periods, numeric_only)\u001b[0m\n\u001b[0;32m  10057\u001b[0m cols \u001b[39m=\u001b[39m data\u001b[39m.\u001b[39mcolumns\n\u001b[0;32m  10058\u001b[0m idx \u001b[39m=\u001b[39m cols\u001b[39m.\u001b[39mcopy()\n\u001b[1;32m> 10059\u001b[0m mat \u001b[39m=\u001b[39m data\u001b[39m.\u001b[39;49mto_numpy(dtype\u001b[39m=\u001b[39;49m\u001b[39mfloat\u001b[39;49m, na_value\u001b[39m=\u001b[39;49mnp\u001b[39m.\u001b[39;49mnan, copy\u001b[39m=\u001b[39;49m\u001b[39mFalse\u001b[39;49;00m)\n\u001b[0;32m  10061\u001b[0m \u001b[39mif\u001b[39;00m method \u001b[39m==\u001b[39m \u001b[39m\"\u001b[39m\u001b[39mpearson\u001b[39m\u001b[39m\"\u001b[39m:\n\u001b[0;32m  10062\u001b[0m     correl \u001b[39m=\u001b[39m libalgos\u001b[39m.\u001b[39mnancorr(mat, minp\u001b[39m=\u001b[39mmin_periods)\n",
      "File \u001b[1;32mc:\\Users\\ali_h\\AppData\\Local\\Programs\\Python\\Python311\\Lib\\site-packages\\pandas\\core\\frame.py:1838\u001b[0m, in \u001b[0;36mDataFrame.to_numpy\u001b[1;34m(self, dtype, copy, na_value)\u001b[0m\n\u001b[0;32m   1836\u001b[0m \u001b[39mif\u001b[39;00m dtype \u001b[39mis\u001b[39;00m \u001b[39mnot\u001b[39;00m \u001b[39mNone\u001b[39;00m:\n\u001b[0;32m   1837\u001b[0m     dtype \u001b[39m=\u001b[39m np\u001b[39m.\u001b[39mdtype(dtype)\n\u001b[1;32m-> 1838\u001b[0m result \u001b[39m=\u001b[39m \u001b[39mself\u001b[39;49m\u001b[39m.\u001b[39;49m_mgr\u001b[39m.\u001b[39;49mas_array(dtype\u001b[39m=\u001b[39;49mdtype, copy\u001b[39m=\u001b[39;49mcopy, na_value\u001b[39m=\u001b[39;49mna_value)\n\u001b[0;32m   1839\u001b[0m \u001b[39mif\u001b[39;00m result\u001b[39m.\u001b[39mdtype \u001b[39mis\u001b[39;00m \u001b[39mnot\u001b[39;00m dtype:\n\u001b[0;32m   1840\u001b[0m     result \u001b[39m=\u001b[39m np\u001b[39m.\u001b[39marray(result, dtype\u001b[39m=\u001b[39mdtype, copy\u001b[39m=\u001b[39m\u001b[39mFalse\u001b[39;00m)\n",
      "File \u001b[1;32mc:\\Users\\ali_h\\AppData\\Local\\Programs\\Python\\Python311\\Lib\\site-packages\\pandas\\core\\internals\\managers.py:1732\u001b[0m, in \u001b[0;36mBlockManager.as_array\u001b[1;34m(self, dtype, copy, na_value)\u001b[0m\n\u001b[0;32m   1730\u001b[0m         arr\u001b[39m.\u001b[39mflags\u001b[39m.\u001b[39mwriteable \u001b[39m=\u001b[39m \u001b[39mFalse\u001b[39;00m\n\u001b[0;32m   1731\u001b[0m \u001b[39melse\u001b[39;00m:\n\u001b[1;32m-> 1732\u001b[0m     arr \u001b[39m=\u001b[39m \u001b[39mself\u001b[39;49m\u001b[39m.\u001b[39;49m_interleave(dtype\u001b[39m=\u001b[39;49mdtype, na_value\u001b[39m=\u001b[39;49mna_value)\n\u001b[0;32m   1733\u001b[0m     \u001b[39m# The underlying data was copied within _interleave, so no need\u001b[39;00m\n\u001b[0;32m   1734\u001b[0m     \u001b[39m# to further copy if copy=True or setting na_value\u001b[39;00m\n\u001b[0;32m   1736\u001b[0m \u001b[39mif\u001b[39;00m na_value \u001b[39mis\u001b[39;00m \u001b[39mnot\u001b[39;00m lib\u001b[39m.\u001b[39mno_default:\n",
      "File \u001b[1;32mc:\\Users\\ali_h\\AppData\\Local\\Programs\\Python\\Python311\\Lib\\site-packages\\pandas\\core\\internals\\managers.py:1794\u001b[0m, in \u001b[0;36mBlockManager._interleave\u001b[1;34m(self, dtype, na_value)\u001b[0m\n\u001b[0;32m   1792\u001b[0m     \u001b[39melse\u001b[39;00m:\n\u001b[0;32m   1793\u001b[0m         arr \u001b[39m=\u001b[39m blk\u001b[39m.\u001b[39mget_values(dtype)\n\u001b[1;32m-> 1794\u001b[0m     result[rl\u001b[39m.\u001b[39;49mindexer] \u001b[39m=\u001b[39m arr\n\u001b[0;32m   1795\u001b[0m     itemmask[rl\u001b[39m.\u001b[39mindexer] \u001b[39m=\u001b[39m \u001b[39m1\u001b[39m\n\u001b[0;32m   1797\u001b[0m \u001b[39mif\u001b[39;00m \u001b[39mnot\u001b[39;00m itemmask\u001b[39m.\u001b[39mall():\n",
      "\u001b[1;31mValueError\u001b[0m: could not convert string to float: 'B'"
     ]
    },
    {
     "data": {
      "text/plain": [
       "<Figure size 1900x1400 with 0 Axes>"
      ]
     },
     "metadata": {},
     "output_type": "display_data"
    }
   ],
   "source": [
    "plt.figure(figsize = (19,14))\n",
    "sns.heatmap(round(df.corr(), 2),annot=True)"
   ]
  },
  {
   "cell_type": "markdown",
   "id": "d8ca2959",
   "metadata": {},
   "source": [
    "### The lighter the tile in the correlation plot of the dataframe shown above, the stronger the relation between the two attributes.\n",
    "### The loan amount has a strong relationship with the installment \n",
    "### Since the loan amount has a negative relationship with the delinquency rate in 2 yrs, the person who has committed a minor crime is likely to receive a lower amount of loan. Moreover, the direct relationship between the loan and installment also proves with the negative correlation between installmetn and delinq_2yrs."
   ]
  }
 ],
 "metadata": {
  "kernelspec": {
   "display_name": "Python 3 (ipykernel)",
   "language": "python",
   "name": "python3"
  },
  "language_info": {
   "codemirror_mode": {
    "name": "ipython",
    "version": 3
   },
   "file_extension": ".py",
   "mimetype": "text/x-python",
   "name": "python",
   "nbconvert_exporter": "python",
   "pygments_lexer": "ipython3",
   "version": "3.11.2"
  }
 },
 "nbformat": 4,
 "nbformat_minor": 5
}
