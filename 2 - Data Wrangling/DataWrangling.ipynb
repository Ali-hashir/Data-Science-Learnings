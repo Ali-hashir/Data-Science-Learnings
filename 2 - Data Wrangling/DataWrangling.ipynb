{
 "cells": [
  {
   "cell_type": "markdown",
   "metadata": {},
   "source": [
    "# CS 457 - Homework Assignment 2\n",
    "## Data Wrangling\n",
    "### Ali Hashir\n",
    "#### ah05433@st.habib.edu.pk"
   ]
  },
  {
   "cell_type": "code",
   "execution_count": 182,
   "metadata": {},
   "outputs": [],
   "source": [
    "import pandas as pd"
   ]
  },
  {
   "cell_type": "code",
   "execution_count": 183,
   "metadata": {},
   "outputs": [
    {
     "data": {
      "text/html": [
       "<div>\n",
       "<style scoped>\n",
       "    .dataframe tbody tr th:only-of-type {\n",
       "        vertical-align: middle;\n",
       "    }\n",
       "\n",
       "    .dataframe tbody tr th {\n",
       "        vertical-align: top;\n",
       "    }\n",
       "\n",
       "    .dataframe thead th {\n",
       "        text-align: right;\n",
       "    }\n",
       "</style>\n",
       "<table border=\"1\" class=\"dataframe\">\n",
       "  <thead>\n",
       "    <tr style=\"text-align: right;\">\n",
       "      <th></th>\n",
       "      <th>Unnamed: 0</th>\n",
       "      <th>Unnamed: 1</th>\n",
       "      <th>Unnamed: 2</th>\n",
       "      <th>Unnamed: 3</th>\n",
       "      <th>Unnamed: 4</th>\n",
       "      <th>Unnamed: 5</th>\n",
       "      <th>Unnamed: 6</th>\n",
       "      <th>Unnamed: 7</th>\n",
       "      <th>Unnamed: 8</th>\n",
       "      <th>Unnamed: 9</th>\n",
       "      <th>...</th>\n",
       "      <th>Q11.1</th>\n",
       "      <th>Q11.2</th>\n",
       "      <th>Q11.3</th>\n",
       "      <th>Q11.4</th>\n",
       "      <th>Q12</th>\n",
       "      <th>Q12.1</th>\n",
       "      <th>Q12.2</th>\n",
       "      <th>Q12.3</th>\n",
       "      <th>Q12.4</th>\n",
       "      <th>Q13</th>\n",
       "    </tr>\n",
       "  </thead>\n",
       "  <tbody>\n",
       "    <tr>\n",
       "      <th>0</th>\n",
       "      <td>No.</td>\n",
       "      <td>Time</td>\n",
       "      <td>Status</td>\n",
       "      <td>Duration (Seconds)</td>\n",
       "      <td>Access Code</td>\n",
       "      <td>Email Address</td>\n",
       "      <td>IP Address</td>\n",
       "      <td>Country</td>\n",
       "      <td>Region</td>\n",
       "      <td>City / Town / District</td>\n",
       "      <td>...</td>\n",
       "      <td>Some familiarity</td>\n",
       "      <td>Average user</td>\n",
       "      <td>Frequent use for projects</td>\n",
       "      <td>Fluent/expert</td>\n",
       "      <td>Little/none</td>\n",
       "      <td>Some familiarity</td>\n",
       "      <td>Average user</td>\n",
       "      <td>Frequent use for projects</td>\n",
       "      <td>Fluent/expert</td>\n",
       "      <td>What is your goal for learning about data anal...</td>\n",
       "    </tr>\n",
       "    <tr>\n",
       "      <th>1</th>\n",
       "      <td>1</td>\n",
       "      <td>10/3/20 5:49 PM</td>\n",
       "      <td>Completed</td>\n",
       "      <td>11646</td>\n",
       "      <td>NaN</td>\n",
       "      <td>NaN</td>\n",
       "      <td>100.36.167.226</td>\n",
       "      <td>United States</td>\n",
       "      <td>Virginia</td>\n",
       "      <td>Fairfax</td>\n",
       "      <td>...</td>\n",
       "      <td>NaN</td>\n",
       "      <td>NaN</td>\n",
       "      <td>NaN</td>\n",
       "      <td>NaN</td>\n",
       "      <td>NaN</td>\n",
       "      <td>1</td>\n",
       "      <td>NaN</td>\n",
       "      <td>NaN</td>\n",
       "      <td>NaN</td>\n",
       "      <td>NaN</td>\n",
       "    </tr>\n",
       "    <tr>\n",
       "      <th>2</th>\n",
       "      <td>2</td>\n",
       "      <td>10/3/20 5:49 PM</td>\n",
       "      <td>Completed</td>\n",
       "      <td>113</td>\n",
       "      <td>NaN</td>\n",
       "      <td>NaN</td>\n",
       "      <td>98.169.26.134</td>\n",
       "      <td>United States</td>\n",
       "      <td>Virginia</td>\n",
       "      <td>Fairfax</td>\n",
       "      <td>...</td>\n",
       "      <td>NaN</td>\n",
       "      <td>1</td>\n",
       "      <td>NaN</td>\n",
       "      <td>NaN</td>\n",
       "      <td>1</td>\n",
       "      <td>NaN</td>\n",
       "      <td>NaN</td>\n",
       "      <td>NaN</td>\n",
       "      <td>NaN</td>\n",
       "      <td>NaN</td>\n",
       "    </tr>\n",
       "    <tr>\n",
       "      <th>3</th>\n",
       "      <td>3</td>\n",
       "      <td>10/3/20 5:49 PM</td>\n",
       "      <td>Completed</td>\n",
       "      <td>572</td>\n",
       "      <td>NaN</td>\n",
       "      <td>NaN</td>\n",
       "      <td>98.169.52.23</td>\n",
       "      <td>United States</td>\n",
       "      <td>Virginia</td>\n",
       "      <td>Greenway Downs</td>\n",
       "      <td>...</td>\n",
       "      <td>NaN</td>\n",
       "      <td>NaN</td>\n",
       "      <td>NaN</td>\n",
       "      <td>NaN</td>\n",
       "      <td>NaN</td>\n",
       "      <td>NaN</td>\n",
       "      <td>1</td>\n",
       "      <td>NaN</td>\n",
       "      <td>NaN</td>\n",
       "      <td>As part of my work, I have access to a lot of ...</td>\n",
       "    </tr>\n",
       "    <tr>\n",
       "      <th>4</th>\n",
       "      <td>4</td>\n",
       "      <td>10/3/20 5:50 PM</td>\n",
       "      <td>Completed</td>\n",
       "      <td>365</td>\n",
       "      <td>NaN</td>\n",
       "      <td>NaN</td>\n",
       "      <td>69.255.182.253</td>\n",
       "      <td>United States</td>\n",
       "      <td>Virginia</td>\n",
       "      <td>Gainesville</td>\n",
       "      <td>...</td>\n",
       "      <td>NaN</td>\n",
       "      <td>NaN</td>\n",
       "      <td>1</td>\n",
       "      <td>NaN</td>\n",
       "      <td>NaN</td>\n",
       "      <td>1</td>\n",
       "      <td>NaN</td>\n",
       "      <td>NaN</td>\n",
       "      <td>NaN</td>\n",
       "      <td>NaN</td>\n",
       "    </tr>\n",
       "  </tbody>\n",
       "</table>\n",
       "<p>5 rows × 46 columns</p>\n",
       "</div>"
      ],
      "text/plain": [
       "  Unnamed: 0       Unnamed: 1 Unnamed: 2          Unnamed: 3   Unnamed: 4   \n",
       "0        No.             Time     Status  Duration (Seconds)  Access Code  \\\n",
       "1          1  10/3/20 5:49 PM  Completed               11646          NaN   \n",
       "2          2  10/3/20 5:49 PM  Completed                 113          NaN   \n",
       "3          3  10/3/20 5:49 PM  Completed                 572          NaN   \n",
       "4          4  10/3/20 5:50 PM  Completed                 365          NaN   \n",
       "\n",
       "      Unnamed: 5      Unnamed: 6     Unnamed: 7 Unnamed: 8   \n",
       "0  Email Address      IP Address        Country     Region  \\\n",
       "1            NaN  100.36.167.226  United States   Virginia   \n",
       "2            NaN   98.169.26.134  United States   Virginia   \n",
       "3            NaN    98.169.52.23  United States   Virginia   \n",
       "4            NaN  69.255.182.253  United States   Virginia   \n",
       "\n",
       "               Unnamed: 9  ...             Q11.1         Q11.2   \n",
       "0  City / Town / District  ...  Some familiarity  Average user  \\\n",
       "1                 Fairfax  ...               NaN           NaN   \n",
       "2                 Fairfax  ...               NaN             1   \n",
       "3          Greenway Downs  ...               NaN           NaN   \n",
       "4             Gainesville  ...               NaN           NaN   \n",
       "\n",
       "                       Q11.3          Q11.4          Q12             Q12.1   \n",
       "0  Frequent use for projects  Fluent/expert  Little/none  Some familiarity  \\\n",
       "1                        NaN            NaN          NaN                 1   \n",
       "2                        NaN            NaN            1               NaN   \n",
       "3                        NaN            NaN          NaN               NaN   \n",
       "4                          1            NaN          NaN                 1   \n",
       "\n",
       "          Q12.2                      Q12.3          Q12.4   \n",
       "0  Average user  Frequent use for projects  Fluent/expert  \\\n",
       "1           NaN                        NaN            NaN   \n",
       "2           NaN                        NaN            NaN   \n",
       "3             1                        NaN            NaN   \n",
       "4           NaN                        NaN            NaN   \n",
       "\n",
       "                                                 Q13  \n",
       "0  What is your goal for learning about data anal...  \n",
       "1                                                NaN  \n",
       "2                                                NaN  \n",
       "3  As part of my work, I have access to a lot of ...  \n",
       "4                                                NaN  \n",
       "\n",
       "[5 rows x 46 columns]"
      ]
     },
     "execution_count": 183,
     "metadata": {},
     "output_type": "execute_result"
    }
   ],
   "source": [
    "df = pd.read_csv('580SurveyCleanup.csv')\n",
    "df.head()"
   ]
  },
  {
   "cell_type": "markdown",
   "metadata": {},
   "source": [
    "### Part 1 - Format csv"
   ]
  },
  {
   "cell_type": "markdown",
   "metadata": {},
   "source": [
    "Dividing the data into two parts.\n",
    "1) <br/> df_general : data frame with all the data"
   ]
  },
  {
   "cell_type": "code",
   "execution_count": 184,
   "metadata": {},
   "outputs": [
    {
     "data": {
      "text/html": [
       "<div>\n",
       "<style scoped>\n",
       "    .dataframe tbody tr th:only-of-type {\n",
       "        vertical-align: middle;\n",
       "    }\n",
       "\n",
       "    .dataframe tbody tr th {\n",
       "        vertical-align: top;\n",
       "    }\n",
       "\n",
       "    .dataframe thead th {\n",
       "        text-align: right;\n",
       "    }\n",
       "</style>\n",
       "<table border=\"1\" class=\"dataframe\">\n",
       "  <thead>\n",
       "    <tr style=\"text-align: right;\">\n",
       "      <th></th>\n",
       "      <th>Unnamed: 1</th>\n",
       "      <th>Unnamed: 2</th>\n",
       "      <th>Unnamed: 3</th>\n",
       "      <th>Unnamed: 4</th>\n",
       "      <th>Unnamed: 5</th>\n",
       "      <th>Unnamed: 6</th>\n",
       "      <th>Unnamed: 7</th>\n",
       "      <th>Unnamed: 8</th>\n",
       "      <th>Unnamed: 9</th>\n",
       "      <th>Unnamed: 10</th>\n",
       "      <th>Unnamed: 11</th>\n",
       "    </tr>\n",
       "  </thead>\n",
       "  <tbody>\n",
       "    <tr>\n",
       "      <th>0</th>\n",
       "      <td>Time</td>\n",
       "      <td>Status</td>\n",
       "      <td>Duration (Seconds)</td>\n",
       "      <td>Access Code</td>\n",
       "      <td>Email Address</td>\n",
       "      <td>IP Address</td>\n",
       "      <td>Country</td>\n",
       "      <td>Region</td>\n",
       "      <td>City / Town / District</td>\n",
       "      <td>Latitude</td>\n",
       "      <td>Longitude</td>\n",
       "    </tr>\n",
       "    <tr>\n",
       "      <th>1</th>\n",
       "      <td>10/3/20 5:49 PM</td>\n",
       "      <td>Completed</td>\n",
       "      <td>11646</td>\n",
       "      <td>NaN</td>\n",
       "      <td>NaN</td>\n",
       "      <td>100.36.167.226</td>\n",
       "      <td>United States</td>\n",
       "      <td>Virginia</td>\n",
       "      <td>Fairfax</td>\n",
       "      <td>-77.2891</td>\n",
       "      <td>38.8209</td>\n",
       "    </tr>\n",
       "    <tr>\n",
       "      <th>2</th>\n",
       "      <td>10/3/20 5:49 PM</td>\n",
       "      <td>Completed</td>\n",
       "      <td>113</td>\n",
       "      <td>NaN</td>\n",
       "      <td>NaN</td>\n",
       "      <td>98.169.26.134</td>\n",
       "      <td>United States</td>\n",
       "      <td>Virginia</td>\n",
       "      <td>Fairfax</td>\n",
       "      <td>-77.263</td>\n",
       "      <td>38.8605</td>\n",
       "    </tr>\n",
       "    <tr>\n",
       "      <th>3</th>\n",
       "      <td>10/3/20 5:49 PM</td>\n",
       "      <td>Completed</td>\n",
       "      <td>572</td>\n",
       "      <td>NaN</td>\n",
       "      <td>NaN</td>\n",
       "      <td>98.169.52.23</td>\n",
       "      <td>United States</td>\n",
       "      <td>Virginia</td>\n",
       "      <td>Greenway Downs</td>\n",
       "      <td>-77.2331</td>\n",
       "      <td>38.9645</td>\n",
       "    </tr>\n",
       "    <tr>\n",
       "      <th>4</th>\n",
       "      <td>10/3/20 5:50 PM</td>\n",
       "      <td>Completed</td>\n",
       "      <td>365</td>\n",
       "      <td>NaN</td>\n",
       "      <td>NaN</td>\n",
       "      <td>69.255.182.253</td>\n",
       "      <td>United States</td>\n",
       "      <td>Virginia</td>\n",
       "      <td>Gainesville</td>\n",
       "      <td>-77.6308</td>\n",
       "      <td>38.8175</td>\n",
       "    </tr>\n",
       "  </tbody>\n",
       "</table>\n",
       "</div>"
      ],
      "text/plain": [
       "        Unnamed: 1 Unnamed: 2          Unnamed: 3   Unnamed: 4     Unnamed: 5   \n",
       "0             Time     Status  Duration (Seconds)  Access Code  Email Address  \\\n",
       "1  10/3/20 5:49 PM  Completed               11646          NaN            NaN   \n",
       "2  10/3/20 5:49 PM  Completed                 113          NaN            NaN   \n",
       "3  10/3/20 5:49 PM  Completed                 572          NaN            NaN   \n",
       "4  10/3/20 5:50 PM  Completed                 365          NaN            NaN   \n",
       "\n",
       "       Unnamed: 6     Unnamed: 7 Unnamed: 8              Unnamed: 9   \n",
       "0      IP Address        Country     Region  City / Town / District  \\\n",
       "1  100.36.167.226  United States   Virginia                 Fairfax   \n",
       "2   98.169.26.134  United States   Virginia                 Fairfax   \n",
       "3    98.169.52.23  United States   Virginia          Greenway Downs   \n",
       "4  69.255.182.253  United States   Virginia             Gainesville   \n",
       "\n",
       "  Unnamed: 10 Unnamed: 11  \n",
       "0    Latitude   Longitude  \n",
       "1    -77.2891     38.8209  \n",
       "2     -77.263     38.8605  \n",
       "3    -77.2331     38.9645  \n",
       "4    -77.6308     38.8175  "
      ]
     },
     "execution_count": 184,
     "metadata": {},
     "output_type": "execute_result"
    }
   ],
   "source": [
    "df_general = df.iloc[:,1:12]\n",
    "df_general.head()"
   ]
  },
  {
   "cell_type": "markdown",
   "metadata": {},
   "source": [
    "##### Removing header of df_general"
   ]
  },
  {
   "cell_type": "code",
   "execution_count": 185,
   "metadata": {},
   "outputs": [
    {
     "data": {
      "text/html": [
       "<div>\n",
       "<style scoped>\n",
       "    .dataframe tbody tr th:only-of-type {\n",
       "        vertical-align: middle;\n",
       "    }\n",
       "\n",
       "    .dataframe tbody tr th {\n",
       "        vertical-align: top;\n",
       "    }\n",
       "\n",
       "    .dataframe thead th {\n",
       "        text-align: right;\n",
       "    }\n",
       "</style>\n",
       "<table border=\"1\" class=\"dataframe\">\n",
       "  <thead>\n",
       "    <tr style=\"text-align: right;\">\n",
       "      <th></th>\n",
       "      <th>Time</th>\n",
       "      <th>Status</th>\n",
       "      <th>Duration (Seconds)</th>\n",
       "      <th>Access Code</th>\n",
       "      <th>Email Address</th>\n",
       "      <th>IP Address</th>\n",
       "      <th>Country</th>\n",
       "      <th>Region</th>\n",
       "      <th>City / Town / District</th>\n",
       "      <th>Latitude</th>\n",
       "      <th>Longitude</th>\n",
       "    </tr>\n",
       "  </thead>\n",
       "  <tbody>\n",
       "    <tr>\n",
       "      <th>1</th>\n",
       "      <td>10/3/20 5:49 PM</td>\n",
       "      <td>Completed</td>\n",
       "      <td>11646</td>\n",
       "      <td>NaN</td>\n",
       "      <td>NaN</td>\n",
       "      <td>100.36.167.226</td>\n",
       "      <td>United States</td>\n",
       "      <td>Virginia</td>\n",
       "      <td>Fairfax</td>\n",
       "      <td>-77.2891</td>\n",
       "      <td>38.8209</td>\n",
       "    </tr>\n",
       "    <tr>\n",
       "      <th>2</th>\n",
       "      <td>10/3/20 5:49 PM</td>\n",
       "      <td>Completed</td>\n",
       "      <td>113</td>\n",
       "      <td>NaN</td>\n",
       "      <td>NaN</td>\n",
       "      <td>98.169.26.134</td>\n",
       "      <td>United States</td>\n",
       "      <td>Virginia</td>\n",
       "      <td>Fairfax</td>\n",
       "      <td>-77.263</td>\n",
       "      <td>38.8605</td>\n",
       "    </tr>\n",
       "    <tr>\n",
       "      <th>3</th>\n",
       "      <td>10/3/20 5:49 PM</td>\n",
       "      <td>Completed</td>\n",
       "      <td>572</td>\n",
       "      <td>NaN</td>\n",
       "      <td>NaN</td>\n",
       "      <td>98.169.52.23</td>\n",
       "      <td>United States</td>\n",
       "      <td>Virginia</td>\n",
       "      <td>Greenway Downs</td>\n",
       "      <td>-77.2331</td>\n",
       "      <td>38.9645</td>\n",
       "    </tr>\n",
       "    <tr>\n",
       "      <th>4</th>\n",
       "      <td>10/3/20 5:50 PM</td>\n",
       "      <td>Completed</td>\n",
       "      <td>365</td>\n",
       "      <td>NaN</td>\n",
       "      <td>NaN</td>\n",
       "      <td>69.255.182.253</td>\n",
       "      <td>United States</td>\n",
       "      <td>Virginia</td>\n",
       "      <td>Gainesville</td>\n",
       "      <td>-77.6308</td>\n",
       "      <td>38.8175</td>\n",
       "    </tr>\n",
       "    <tr>\n",
       "      <th>5</th>\n",
       "      <td>10/3/20 5:51 PM</td>\n",
       "      <td>Completed</td>\n",
       "      <td>92</td>\n",
       "      <td>NaN</td>\n",
       "      <td>NaN</td>\n",
       "      <td>138.88.108.230</td>\n",
       "      <td>United States</td>\n",
       "      <td>NaN</td>\n",
       "      <td>NaN</td>\n",
       "      <td>-97.822</td>\n",
       "      <td>37.751</td>\n",
       "    </tr>\n",
       "  </tbody>\n",
       "</table>\n",
       "</div>"
      ],
      "text/plain": [
       "0             Time     Status Duration (Seconds) Access Code Email Address   \n",
       "1  10/3/20 5:49 PM  Completed              11646         NaN           NaN  \\\n",
       "2  10/3/20 5:49 PM  Completed                113         NaN           NaN   \n",
       "3  10/3/20 5:49 PM  Completed                572         NaN           NaN   \n",
       "4  10/3/20 5:50 PM  Completed                365         NaN           NaN   \n",
       "5  10/3/20 5:51 PM  Completed                 92         NaN           NaN   \n",
       "\n",
       "0      IP Address        Country    Region City / Town / District  Latitude   \n",
       "1  100.36.167.226  United States  Virginia                Fairfax  -77.2891  \\\n",
       "2   98.169.26.134  United States  Virginia                Fairfax   -77.263   \n",
       "3    98.169.52.23  United States  Virginia         Greenway Downs  -77.2331   \n",
       "4  69.255.182.253  United States  Virginia            Gainesville  -77.6308   \n",
       "5  138.88.108.230  United States       NaN                    NaN   -97.822   \n",
       "\n",
       "0 Longitude  \n",
       "1   38.8209  \n",
       "2   38.8605  \n",
       "3   38.9645  \n",
       "4   38.8175  \n",
       "5    37.751  "
      ]
     },
     "execution_count": 185,
     "metadata": {},
     "output_type": "execute_result"
    }
   ],
   "source": [
    "df_general.columns = df_general.iloc[0]\n",
    "df_general = df_general[1:]\n",
    "df_general.head()"
   ]
  },
  {
   "cell_type": "markdown",
   "metadata": {},
   "source": [
    "2) <br/> df1_question : data frame with questions data"
   ]
  },
  {
   "cell_type": "code",
   "execution_count": 186,
   "metadata": {},
   "outputs": [
    {
     "data": {
      "text/html": [
       "<div>\n",
       "<style scoped>\n",
       "    .dataframe tbody tr th:only-of-type {\n",
       "        vertical-align: middle;\n",
       "    }\n",
       "\n",
       "    .dataframe tbody tr th {\n",
       "        vertical-align: top;\n",
       "    }\n",
       "\n",
       "    .dataframe thead th {\n",
       "        text-align: right;\n",
       "    }\n",
       "</style>\n",
       "<table border=\"1\" class=\"dataframe\">\n",
       "  <thead>\n",
       "    <tr style=\"text-align: right;\">\n",
       "      <th></th>\n",
       "      <th>Q1</th>\n",
       "      <th>Q1.1</th>\n",
       "      <th>Q2</th>\n",
       "      <th>Q2.1</th>\n",
       "      <th>Q2.2</th>\n",
       "      <th>Q2.3</th>\n",
       "      <th>Q3</th>\n",
       "      <th>Q4</th>\n",
       "      <th>Q5</th>\n",
       "      <th>Q6</th>\n",
       "      <th>...</th>\n",
       "      <th>Q11.1</th>\n",
       "      <th>Q11.2</th>\n",
       "      <th>Q11.3</th>\n",
       "      <th>Q11.4</th>\n",
       "      <th>Q12</th>\n",
       "      <th>Q12.1</th>\n",
       "      <th>Q12.2</th>\n",
       "      <th>Q12.3</th>\n",
       "      <th>Q12.4</th>\n",
       "      <th>Q13</th>\n",
       "    </tr>\n",
       "  </thead>\n",
       "  <tbody>\n",
       "    <tr>\n",
       "      <th>0</th>\n",
       "      <td>2.0</td>\n",
       "      <td>4.0</td>\n",
       "      <td>Male</td>\n",
       "      <td>Female</td>\n",
       "      <td>NonBinary</td>\n",
       "      <td>Prefer not to answer</td>\n",
       "      <td>Age (years)</td>\n",
       "      <td>Height (Inches)</td>\n",
       "      <td>Country of Citizenship</td>\n",
       "      <td>Undergraduate Degree</td>\n",
       "      <td>...</td>\n",
       "      <td>Some familiarity</td>\n",
       "      <td>Average user</td>\n",
       "      <td>Frequent use for projects</td>\n",
       "      <td>Fluent/expert</td>\n",
       "      <td>Little/none</td>\n",
       "      <td>Some familiarity</td>\n",
       "      <td>Average user</td>\n",
       "      <td>Frequent use for projects</td>\n",
       "      <td>Fluent/expert</td>\n",
       "      <td>What is your goal for learning about data anal...</td>\n",
       "    </tr>\n",
       "    <tr>\n",
       "      <th>1</th>\n",
       "      <td>NaN</td>\n",
       "      <td>1.0</td>\n",
       "      <td>NaN</td>\n",
       "      <td>1</td>\n",
       "      <td>NaN</td>\n",
       "      <td>NaN</td>\n",
       "      <td>23</td>\n",
       "      <td>63</td>\n",
       "      <td>Taiwan</td>\n",
       "      <td>economics</td>\n",
       "      <td>...</td>\n",
       "      <td>NaN</td>\n",
       "      <td>NaN</td>\n",
       "      <td>NaN</td>\n",
       "      <td>NaN</td>\n",
       "      <td>NaN</td>\n",
       "      <td>1</td>\n",
       "      <td>NaN</td>\n",
       "      <td>NaN</td>\n",
       "      <td>NaN</td>\n",
       "      <td>NaN</td>\n",
       "    </tr>\n",
       "    <tr>\n",
       "      <th>2</th>\n",
       "      <td>1.0</td>\n",
       "      <td>NaN</td>\n",
       "      <td>NaN</td>\n",
       "      <td>1</td>\n",
       "      <td>NaN</td>\n",
       "      <td>NaN</td>\n",
       "      <td>24</td>\n",
       "      <td>59</td>\n",
       "      <td>India</td>\n",
       "      <td>Finance</td>\n",
       "      <td>...</td>\n",
       "      <td>NaN</td>\n",
       "      <td>1</td>\n",
       "      <td>NaN</td>\n",
       "      <td>NaN</td>\n",
       "      <td>1</td>\n",
       "      <td>NaN</td>\n",
       "      <td>NaN</td>\n",
       "      <td>NaN</td>\n",
       "      <td>NaN</td>\n",
       "      <td>NaN</td>\n",
       "    </tr>\n",
       "    <tr>\n",
       "      <th>3</th>\n",
       "      <td>1.0</td>\n",
       "      <td>NaN</td>\n",
       "      <td>1</td>\n",
       "      <td>NaN</td>\n",
       "      <td>NaN</td>\n",
       "      <td>NaN</td>\n",
       "      <td>40</td>\n",
       "      <td>70</td>\n",
       "      <td>India</td>\n",
       "      <td>Computer Applications</td>\n",
       "      <td>...</td>\n",
       "      <td>NaN</td>\n",
       "      <td>NaN</td>\n",
       "      <td>NaN</td>\n",
       "      <td>NaN</td>\n",
       "      <td>NaN</td>\n",
       "      <td>NaN</td>\n",
       "      <td>1</td>\n",
       "      <td>NaN</td>\n",
       "      <td>NaN</td>\n",
       "      <td>As part of my work, I have access to a lot of ...</td>\n",
       "    </tr>\n",
       "    <tr>\n",
       "      <th>4</th>\n",
       "      <td>1.0</td>\n",
       "      <td>NaN</td>\n",
       "      <td>NaN</td>\n",
       "      <td>NaN</td>\n",
       "      <td>NaN</td>\n",
       "      <td>1</td>\n",
       "      <td>26</td>\n",
       "      <td>66</td>\n",
       "      <td>South Korea</td>\n",
       "      <td>Business Management</td>\n",
       "      <td>...</td>\n",
       "      <td>NaN</td>\n",
       "      <td>NaN</td>\n",
       "      <td>1</td>\n",
       "      <td>NaN</td>\n",
       "      <td>NaN</td>\n",
       "      <td>1</td>\n",
       "      <td>NaN</td>\n",
       "      <td>NaN</td>\n",
       "      <td>NaN</td>\n",
       "      <td>NaN</td>\n",
       "    </tr>\n",
       "  </tbody>\n",
       "</table>\n",
       "<p>5 rows × 34 columns</p>\n",
       "</div>"
      ],
      "text/plain": [
       "    Q1  Q1.1    Q2    Q2.1       Q2.2                  Q2.3           Q3   \n",
       "0  2.0   4.0  Male  Female  NonBinary  Prefer not to answer  Age (years)  \\\n",
       "1  NaN   1.0   NaN       1        NaN                   NaN           23   \n",
       "2  1.0   NaN   NaN       1        NaN                   NaN           24   \n",
       "3  1.0   NaN     1     NaN        NaN                   NaN           40   \n",
       "4  1.0   NaN   NaN     NaN        NaN                     1           26   \n",
       "\n",
       "                Q4                      Q5                     Q6  ...   \n",
       "0  Height (Inches)  Country of Citizenship   Undergraduate Degree  ...  \\\n",
       "1               63                  Taiwan              economics  ...   \n",
       "2               59                   India               Finance   ...   \n",
       "3               70                   India  Computer Applications  ...   \n",
       "4               66             South Korea    Business Management  ...   \n",
       "\n",
       "              Q11.1         Q11.2                      Q11.3          Q11.4   \n",
       "0  Some familiarity  Average user  Frequent use for projects  Fluent/expert  \\\n",
       "1               NaN           NaN                        NaN            NaN   \n",
       "2               NaN             1                        NaN            NaN   \n",
       "3               NaN           NaN                        NaN            NaN   \n",
       "4               NaN           NaN                          1            NaN   \n",
       "\n",
       "           Q12             Q12.1         Q12.2                      Q12.3   \n",
       "0  Little/none  Some familiarity  Average user  Frequent use for projects  \\\n",
       "1          NaN                 1           NaN                        NaN   \n",
       "2            1               NaN           NaN                        NaN   \n",
       "3          NaN               NaN             1                        NaN   \n",
       "4          NaN                 1           NaN                        NaN   \n",
       "\n",
       "           Q12.4                                                Q13  \n",
       "0  Fluent/expert  What is your goal for learning about data anal...  \n",
       "1            NaN                                                NaN  \n",
       "2            NaN                                                NaN  \n",
       "3            NaN  As part of my work, I have access to a lot of ...  \n",
       "4            NaN                                                NaN  \n",
       "\n",
       "[5 rows x 34 columns]"
      ]
     },
     "execution_count": 186,
     "metadata": {},
     "output_type": "execute_result"
    }
   ],
   "source": [
    "df_questions = df.iloc[:,12:]\n",
    "df_questions.head()"
   ]
  },
  {
   "cell_type": "markdown",
   "metadata": {},
   "source": [
    "#### Joining both dataframes and exporting to csv"
   ]
  },
  {
   "cell_type": "markdown",
   "metadata": {},
   "source": [
    "### Part 2 - Clean csv"
   ]
  },
  {
   "cell_type": "code",
   "execution_count": 187,
   "metadata": {},
   "outputs": [],
   "source": [
    "import numpy as np\n",
    "from collections import Counter\n",
    "import matplotlib.pyplot as plt"
   ]
  },
  {
   "cell_type": "markdown",
   "metadata": {},
   "source": [
    "#### df_general null values\n",
    "Counting the missing values in each column and removing the one with the count equal to the no of rows as this means the column is empty and holds no value in our analysis"
   ]
  },
  {
   "cell_type": "code",
   "execution_count": 188,
   "metadata": {},
   "outputs": [
    {
     "data": {
      "text/plain": [
       "0\n",
       "Time                       0\n",
       "Status                     0\n",
       "Duration (Seconds)         0\n",
       "Access Code               36\n",
       "Email Address             36\n",
       "IP Address                 0\n",
       "Country                    0\n",
       "Region                     4\n",
       "City / Town / District     5\n",
       "Latitude                   0\n",
       "Longitude                  0\n",
       "dtype: int64"
      ]
     },
     "execution_count": 188,
     "metadata": {},
     "output_type": "execute_result"
    }
   ],
   "source": [
    "df_general.isna().sum()"
   ]
  },
  {
   "cell_type": "code",
   "execution_count": 189,
   "metadata": {},
   "outputs": [
    {
     "data": {
      "text/plain": [
       "0\n",
       "Time                      0\n",
       "Status                    0\n",
       "Duration (Seconds)        0\n",
       "IP Address                0\n",
       "Country                   0\n",
       "Region                    4\n",
       "City / Town / District    5\n",
       "Latitude                  0\n",
       "Longitude                 0\n",
       "dtype: int64"
      ]
     },
     "execution_count": 189,
     "metadata": {},
     "output_type": "execute_result"
    }
   ],
   "source": [
    "df_general = df_general.dropna(axis=1, how='all')\n",
    "df_general.isna().sum()"
   ]
  },
  {
   "cell_type": "markdown",
   "metadata": {},
   "source": [
    "This drops Access codes and Email address, as these columns were empty. While I choose to leave Regions and City ... as the data seems to be obtained from the IP address."
   ]
  },
  {
   "cell_type": "markdown",
   "metadata": {},
   "source": [
    "#### df_question null values\n",
    "I am defining all the helper functions within the helper function heading in order to reduce the repetitive work in cleaning the data present in the df_questions.\n",
    "\n",
    "Helper Functions:\n",
    "\n",
    "categorical:\n",
    "\n",
    "    This function takes in a data frame with <b>start_column</b> and <b>end_column</b> which are used to identify the columns in which the categorical data is present. The function expects the the data in the <b>df.iloc[:, start_column:end_column]</b> data in the format defined in the input table. There would be a single entry (value_identifier=1) per-row corresponding to the category/option defined in the 2nd row of the respective column, while other entries would be <b>NaN</b>. Therefore we collapse all the data into a single column by replacing the value_identifier with respective category name. </br> The category names can be overridden with the help of map_category parameter which takes in new category names in a list of Strings.\n",
    "\n",
    "The following function takes in the data frame with the format defined below"
   ]
  },
  {
   "cell_type": "markdown",
   "metadata": {},
   "source": [
    "Input table <br/>\n",
    "| QN1              | QN.1    | QN.2             | ... | QN.N    |           \n",
    "|------------------|---------|------------------|-----|---------|           \n",
    "| option1          | option2 | option3          | ... | optionN |           \n",
    "| value_identifier | NaN     | NaN              | ... | NaN     |   \n",
    "| NaN              | NaN     | value_identifier | ... | NaN     |           \n",
    "| value_identifier | NaN     | NaN              | ... | NaN     | "
   ]
  },
  {
   "cell_type": "markdown",
   "metadata": {},
   "source": [
    "The output table would be like the one given below\n",
    "| final_column_name |\n",
    "|-------------------|\n",
    "| option1           |\n",
    "| option3           |\n",
    "| option1           |"
   ]
  },
  {
   "cell_type": "code",
   "execution_count": 190,
   "metadata": {},
   "outputs": [],
   "source": [
    "def categorical(df: pd.DataFrame, start_column: int, end_column: int, final_column_name: str, map_category: list = None, value_identifier=1, convert_to_category=True) -> pd.DataFrame:\n",
    "    assert(start_column < end_column)\n",
    "    assert(end_column < len(df.columns))\n",
    "    assert(start_column >= 0)\n",
    "    assert(end_column >= 0)\n",
    "    assert(final_column_name!=None)\n",
    "    assert(map_category==None or len(map_category)==end_column-start_column ) \n",
    "    ## Extrancts the categorical data from the dataframe\n",
    "    df = df.iloc[:, start_column:end_column]\n",
    "    ## Moving the data from the 2nd row to 1st row as string\n",
    "    if (map_category != None):\n",
    "        df.columns = map_category\n",
    "    else:\n",
    "        df.columns = df.iloc[0].astype(str)\n",
    "    ## Removing the first row\n",
    "    df = df[1:]\n",
    "    ## Replacing the value_identifier with the column name and keeping the null value as empty string\n",
    "    df = df.loc[:, :].replace(\n",
    "        value_identifier, pd.Series(df.columns, df.columns))\n",
    "    ## collapse everything into a single column named as final_column_name\n",
    "    tempdf= pd.DataFrame()\n",
    "    tempdf[final_column_name] = df[df.columns[0:]].apply(\n",
    "        lambda x: ','.join(x.dropna().astype(str)),\n",
    "        axis=1\n",
    "    )\n",
    "    if(convert_to_category):\n",
    "        return tempdf.astype('category')\n",
    "    else:\n",
    "        return tempdf"
   ]
  },
  {
   "cell_type": "markdown",
   "metadata": {},
   "source": [
    "#### Question 1 cleaning\n",
    "AIT-580 Section?\n",
    "<br/> 1. 002\n",
    "<br/> 2. 004\n",
    "<br/> Columns for the question are col0 and col1 of df_questions \n",
    "<br/> Null values in column 0 and 1 are"
   ]
  },
  {
   "cell_type": "code",
   "execution_count": 191,
   "metadata": {},
   "outputs": [
    {
     "data": {
      "text/plain": [
       "Q1      16\n",
       "Q1.1    20\n",
       "dtype: int64"
      ]
     },
     "execution_count": 191,
     "metadata": {},
     "output_type": "execute_result"
    }
   ],
   "source": [
    "df_questions.iloc[:,0:2].isna().sum()"
   ]
  },
  {
   "cell_type": "markdown",
   "metadata": {},
   "source": [
    "<br/>Extracting Q1 columns from main data frame in q1"
   ]
  },
  {
   "cell_type": "code",
   "execution_count": 192,
   "metadata": {},
   "outputs": [
    {
     "data": {
      "text/html": [
       "<div>\n",
       "<style scoped>\n",
       "    .dataframe tbody tr th:only-of-type {\n",
       "        vertical-align: middle;\n",
       "    }\n",
       "\n",
       "    .dataframe tbody tr th {\n",
       "        vertical-align: top;\n",
       "    }\n",
       "\n",
       "    .dataframe thead th {\n",
       "        text-align: right;\n",
       "    }\n",
       "</style>\n",
       "<table border=\"1\" class=\"dataframe\">\n",
       "  <thead>\n",
       "    <tr style=\"text-align: right;\">\n",
       "      <th></th>\n",
       "      <th>AIT-580 Section</th>\n",
       "    </tr>\n",
       "  </thead>\n",
       "  <tbody>\n",
       "    <tr>\n",
       "      <th>1</th>\n",
       "      <td>004</td>\n",
       "    </tr>\n",
       "    <tr>\n",
       "      <th>2</th>\n",
       "      <td>002</td>\n",
       "    </tr>\n",
       "    <tr>\n",
       "      <th>3</th>\n",
       "      <td>002</td>\n",
       "    </tr>\n",
       "    <tr>\n",
       "      <th>4</th>\n",
       "      <td>002</td>\n",
       "    </tr>\n",
       "    <tr>\n",
       "      <th>5</th>\n",
       "      <td>002</td>\n",
       "    </tr>\n",
       "  </tbody>\n",
       "</table>\n",
       "</div>"
      ],
      "text/plain": [
       "  AIT-580 Section\n",
       "1             004\n",
       "2             002\n",
       "3             002\n",
       "4             002\n",
       "5             002"
      ]
     },
     "execution_count": 192,
     "metadata": {},
     "output_type": "execute_result"
    }
   ],
   "source": [
    "q1 = categorical(df_questions, start_column=0, end_column=2,map_category=['002','004'],final_column_name='AIT-580 Section')\n",
    "q1.head()\n"
   ]
  },
  {
   "cell_type": "code",
   "execution_count": 193,
   "metadata": {},
   "outputs": [
    {
     "data": {
      "text/plain": [
       "AIT-580 Section    0\n",
       "dtype: int64"
      ]
     },
     "execution_count": 193,
     "metadata": {},
     "output_type": "execute_result"
    }
   ],
   "source": [
    "q1.isna().sum()"
   ]
  },
  {
   "cell_type": "markdown",
   "metadata": {},
   "source": [
    "Since after cleaning the nulls in the cleaned data 0 therefore this is cleaned."
   ]
  },
  {
   "cell_type": "markdown",
   "metadata": {},
   "source": [
    "#### Question 2 cleaning\n",
    "Gender?\n",
    "<br/> 1. Male\n",
    "<br/> 2. Female\n",
    "<br/> 3. Non Binary\n",
    "<br/> 4. Prefer not to answer \n",
    "<br/> Columns for the question are col2 to col5 of df_questions \n",
    "<br/> Null values in column 2 to column 5 are"
   ]
  },
  {
   "cell_type": "code",
   "execution_count": 194,
   "metadata": {},
   "outputs": [
    {
     "data": {
      "text/plain": [
       "Q2      18\n",
       "Q2.1    20\n",
       "Q2.2    35\n",
       "Q2.3    35\n",
       "dtype: int64"
      ]
     },
     "execution_count": 194,
     "metadata": {},
     "output_type": "execute_result"
    }
   ],
   "source": [
    "df_questions.iloc[:,2:6].isna().sum()"
   ]
  },
  {
   "cell_type": "markdown",
   "metadata": {},
   "source": [
    "<br/>Extracting Q2 columns from main data frame in q2"
   ]
  },
  {
   "cell_type": "code",
   "execution_count": 195,
   "metadata": {},
   "outputs": [
    {
     "data": {
      "text/html": [
       "<div>\n",
       "<style scoped>\n",
       "    .dataframe tbody tr th:only-of-type {\n",
       "        vertical-align: middle;\n",
       "    }\n",
       "\n",
       "    .dataframe tbody tr th {\n",
       "        vertical-align: top;\n",
       "    }\n",
       "\n",
       "    .dataframe thead th {\n",
       "        text-align: right;\n",
       "    }\n",
       "</style>\n",
       "<table border=\"1\" class=\"dataframe\">\n",
       "  <thead>\n",
       "    <tr style=\"text-align: right;\">\n",
       "      <th></th>\n",
       "      <th>Gender</th>\n",
       "    </tr>\n",
       "  </thead>\n",
       "  <tbody>\n",
       "    <tr>\n",
       "      <th>1</th>\n",
       "      <td>Female</td>\n",
       "    </tr>\n",
       "    <tr>\n",
       "      <th>2</th>\n",
       "      <td>Female</td>\n",
       "    </tr>\n",
       "    <tr>\n",
       "      <th>3</th>\n",
       "      <td>Male</td>\n",
       "    </tr>\n",
       "    <tr>\n",
       "      <th>4</th>\n",
       "      <td>Prefer not to answer</td>\n",
       "    </tr>\n",
       "    <tr>\n",
       "      <th>5</th>\n",
       "      <td>Male</td>\n",
       "    </tr>\n",
       "  </tbody>\n",
       "</table>\n",
       "</div>"
      ],
      "text/plain": [
       "                 Gender\n",
       "1                Female\n",
       "2                Female\n",
       "3                  Male\n",
       "4  Prefer not to answer\n",
       "5                  Male"
      ]
     },
     "execution_count": 195,
     "metadata": {},
     "output_type": "execute_result"
    }
   ],
   "source": [
    "q2 = categorical(df_questions, start_column=2, end_column=6, final_column_name='Gender',value_identifier=\"1\")\n",
    "q2.head()"
   ]
  },
  {
   "cell_type": "code",
   "execution_count": 196,
   "metadata": {},
   "outputs": [
    {
     "data": {
      "text/plain": [
       "Gender    0\n",
       "dtype: int64"
      ]
     },
     "execution_count": 196,
     "metadata": {},
     "output_type": "execute_result"
    }
   ],
   "source": [
    "q2.isna().sum()"
   ]
  },
  {
   "cell_type": "markdown",
   "metadata": {},
   "source": [
    "#### Question 3 cleaning\n",
    "Age in years.\n",
    "This contains numeric data. We will first extract the dataframe of this question and perform a null check analysis on this."
   ]
  },
  {
   "cell_type": "code",
   "execution_count": 197,
   "metadata": {},
   "outputs": [
    {
     "data": {
      "text/plain": [
       "Age    0\n",
       "dtype: int64"
      ]
     },
     "execution_count": 197,
     "metadata": {},
     "output_type": "execute_result"
    }
   ],
   "source": [
    "q3 = df_questions[[\"Q3\"]]\n",
    "q3.columns = ['Age']\n",
    "q3 = q3[1:]\n",
    "q3.isna().sum()\n"
   ]
  },
  {
   "cell_type": "markdown",
   "metadata": {},
   "source": [
    "Also, I was unable to convert the data to numeric data type. Probably spacing in the ages. So therefore i am stripping the spaces."
   ]
  },
  {
   "cell_type": "code",
   "execution_count": 198,
   "metadata": {},
   "outputs": [
    {
     "data": {
      "text/html": [
       "<div>\n",
       "<style scoped>\n",
       "    .dataframe tbody tr th:only-of-type {\n",
       "        vertical-align: middle;\n",
       "    }\n",
       "\n",
       "    .dataframe tbody tr th {\n",
       "        vertical-align: top;\n",
       "    }\n",
       "\n",
       "    .dataframe thead th {\n",
       "        text-align: right;\n",
       "    }\n",
       "</style>\n",
       "<table border=\"1\" class=\"dataframe\">\n",
       "  <thead>\n",
       "    <tr style=\"text-align: right;\">\n",
       "      <th></th>\n",
       "      <th>Age</th>\n",
       "    </tr>\n",
       "  </thead>\n",
       "  <tbody>\n",
       "    <tr>\n",
       "      <th>count</th>\n",
       "      <td>36.000000</td>\n",
       "    </tr>\n",
       "    <tr>\n",
       "      <th>mean</th>\n",
       "      <td>81.666667</td>\n",
       "    </tr>\n",
       "    <tr>\n",
       "      <th>std</th>\n",
       "      <td>327.721310</td>\n",
       "    </tr>\n",
       "    <tr>\n",
       "      <th>min</th>\n",
       "      <td>22.000000</td>\n",
       "    </tr>\n",
       "    <tr>\n",
       "      <th>25%</th>\n",
       "      <td>23.000000</td>\n",
       "    </tr>\n",
       "    <tr>\n",
       "      <th>50%</th>\n",
       "      <td>25.000000</td>\n",
       "    </tr>\n",
       "    <tr>\n",
       "      <th>75%</th>\n",
       "      <td>28.000000</td>\n",
       "    </tr>\n",
       "    <tr>\n",
       "      <th>max</th>\n",
       "      <td>1993.000000</td>\n",
       "    </tr>\n",
       "  </tbody>\n",
       "</table>\n",
       "</div>"
      ],
      "text/plain": [
       "               Age\n",
       "count    36.000000\n",
       "mean     81.666667\n",
       "std     327.721310\n",
       "min      22.000000\n",
       "25%      23.000000\n",
       "50%      25.000000\n",
       "75%      28.000000\n",
       "max    1993.000000"
      ]
     },
     "execution_count": 198,
     "metadata": {},
     "output_type": "execute_result"
    }
   ],
   "source": [
    "q3[\"Age\"] = q3[\"Age\"].str.replace(\" \", \"\")\n",
    "q3[\"Age\"] = q3[\"Age\"].astype('int64')\n",
    "q3.describe()"
   ]
  },
  {
   "cell_type": "markdown",
   "metadata": {},
   "source": [
    "The max value is 1993 which is greater than the max value of the age in the data set. Therefore we will replace it with the mean value so that it doesnt affect our analysis."
   ]
  },
  {
   "cell_type": "code",
   "execution_count": 199,
   "metadata": {},
   "outputs": [
    {
     "data": {
      "text/html": [
       "<div>\n",
       "<style scoped>\n",
       "    .dataframe tbody tr th:only-of-type {\n",
       "        vertical-align: middle;\n",
       "    }\n",
       "\n",
       "    .dataframe tbody tr th {\n",
       "        vertical-align: top;\n",
       "    }\n",
       "\n",
       "    .dataframe thead th {\n",
       "        text-align: right;\n",
       "    }\n",
       "</style>\n",
       "<table border=\"1\" class=\"dataframe\">\n",
       "  <thead>\n",
       "    <tr style=\"text-align: right;\">\n",
       "      <th></th>\n",
       "      <th>Age</th>\n",
       "    </tr>\n",
       "  </thead>\n",
       "  <tbody>\n",
       "    <tr>\n",
       "      <th>count</th>\n",
       "      <td>36.000000</td>\n",
       "    </tr>\n",
       "    <tr>\n",
       "      <th>mean</th>\n",
       "      <td>28.574074</td>\n",
       "    </tr>\n",
       "    <tr>\n",
       "      <th>std</th>\n",
       "      <td>11.175543</td>\n",
       "    </tr>\n",
       "    <tr>\n",
       "      <th>min</th>\n",
       "      <td>22.000000</td>\n",
       "    </tr>\n",
       "    <tr>\n",
       "      <th>25%</th>\n",
       "      <td>23.000000</td>\n",
       "    </tr>\n",
       "    <tr>\n",
       "      <th>50%</th>\n",
       "      <td>25.000000</td>\n",
       "    </tr>\n",
       "    <tr>\n",
       "      <th>75%</th>\n",
       "      <td>28.000000</td>\n",
       "    </tr>\n",
       "    <tr>\n",
       "      <th>max</th>\n",
       "      <td>81.666667</td>\n",
       "    </tr>\n",
       "  </tbody>\n",
       "</table>\n",
       "</div>"
      ],
      "text/plain": [
       "             Age\n",
       "count  36.000000\n",
       "mean   28.574074\n",
       "std    11.175543\n",
       "min    22.000000\n",
       "25%    23.000000\n",
       "50%    25.000000\n",
       "75%    28.000000\n",
       "max    81.666667"
      ]
     },
     "execution_count": 199,
     "metadata": {},
     "output_type": "execute_result"
    }
   ],
   "source": [
    "#therefore all age values greater than 100 with mean age value\n",
    "q3[q3[\"Age\"]>100]=q3[\"Age\"].mean()\n",
    "q3.describe()\n"
   ]
  },
  {
   "cell_type": "markdown",
   "metadata": {},
   "source": [
    "No nulls or any wiered thing in the data therefore no need to clean further"
   ]
  },
  {
   "cell_type": "markdown",
   "metadata": {},
   "source": [
    "#### Question 4 cleaning\n",
    "Height in inches.\n",
    "This contains numeric data. We will first extract the dataframe of this question and perform a null check analysis on this"
   ]
  },
  {
   "cell_type": "code",
   "execution_count": 200,
   "metadata": {},
   "outputs": [
    {
     "data": {
      "text/plain": [
       "Height    1\n",
       "dtype: int64"
      ]
     },
     "execution_count": 200,
     "metadata": {},
     "output_type": "execute_result"
    }
   ],
   "source": [
    "q4 = df_questions[[\"Q4\"]]\n",
    "q4.columns = ['Height']\n",
    "q4 = q4[1:]\n",
    "q4.isna().sum()"
   ]
  },
  {
   "cell_type": "markdown",
   "metadata": {},
   "source": [
    "Since there is a single null value therefore replacing it with the mean value of the column."
   ]
  },
  {
   "cell_type": "code",
   "execution_count": 201,
   "metadata": {},
   "outputs": [
    {
     "data": {
      "text/html": [
       "<div>\n",
       "<style scoped>\n",
       "    .dataframe tbody tr th:only-of-type {\n",
       "        vertical-align: middle;\n",
       "    }\n",
       "\n",
       "    .dataframe tbody tr th {\n",
       "        vertical-align: top;\n",
       "    }\n",
       "\n",
       "    .dataframe thead th {\n",
       "        text-align: right;\n",
       "    }\n",
       "</style>\n",
       "<table border=\"1\" class=\"dataframe\">\n",
       "  <thead>\n",
       "    <tr style=\"text-align: right;\">\n",
       "      <th></th>\n",
       "      <th>Height</th>\n",
       "    </tr>\n",
       "  </thead>\n",
       "  <tbody>\n",
       "    <tr>\n",
       "      <th>count</th>\n",
       "      <td>36.000000</td>\n",
       "    </tr>\n",
       "    <tr>\n",
       "      <th>mean</th>\n",
       "      <td>63.894444</td>\n",
       "    </tr>\n",
       "    <tr>\n",
       "      <th>std</th>\n",
       "      <td>15.642469</td>\n",
       "    </tr>\n",
       "    <tr>\n",
       "      <th>min</th>\n",
       "      <td>0.000000</td>\n",
       "    </tr>\n",
       "    <tr>\n",
       "      <th>25%</th>\n",
       "      <td>65.750000</td>\n",
       "    </tr>\n",
       "    <tr>\n",
       "      <th>50%</th>\n",
       "      <td>67.000000</td>\n",
       "    </tr>\n",
       "    <tr>\n",
       "      <th>75%</th>\n",
       "      <td>70.000000</td>\n",
       "    </tr>\n",
       "    <tr>\n",
       "      <th>max</th>\n",
       "      <td>75.000000</td>\n",
       "    </tr>\n",
       "  </tbody>\n",
       "</table>\n",
       "</div>"
      ],
      "text/plain": [
       "          Height\n",
       "count  36.000000\n",
       "mean   63.894444\n",
       "std    15.642469\n",
       "min     0.000000\n",
       "25%    65.750000\n",
       "50%    67.000000\n",
       "75%    70.000000\n",
       "max    75.000000"
      ]
     },
     "execution_count": 201,
     "metadata": {},
     "output_type": "execute_result"
    }
   ],
   "source": [
    "q4[\"Height\"] = q4[\"Height\"].str.replace(\" \", \"\")\n",
    "## these were all the values with with incorrect string format so i have replaced it with correct values\n",
    "q4[q4[\"Height\"] == \"6l\"] = 61\n",
    "q4[q4[\"Height\"] == \"7O\"] = 70\n",
    "## null values replaced with 0 \n",
    "q4.fillna('0',inplace=True)\n",
    "## all 0 values replaced with mean value\n",
    "q4 = q4.astype('float64')\n",
    "q4.describe()\n"
   ]
  },
  {
   "cell_type": "markdown",
   "metadata": {},
   "source": [
    "#### Question 5 cleaning\n",
    "Country of citizenship.\n",
    "This contains categorical data. We will first extract the dataframe of this question and perform a null check analysis on this. Each null value will be replaced with a Not Answered option. Duplicate values like  United states, Usa will be treated as one. The people who have added two or more countries of citizenship will be treated as one. seperate category\n"
   ]
  },
  {
   "cell_type": "code",
   "execution_count": 202,
   "metadata": {},
   "outputs": [
    {
     "data": {
      "text/plain": [
       "Country of citizenship\n",
       "india                     10\n",
       "usa                       10\n",
       "uzbekistan                 3\n",
       "china                      2\n",
       "nigeria                    2\n",
       "not answered               2\n",
       "taiwan                     2\n",
       "ethiopia                   1\n",
       "pakistan                   1\n",
       "romania                    1\n",
       "south korea                1\n",
       "vietnam                    1\n",
       "Name: count, dtype: int64"
      ]
     },
     "execution_count": 202,
     "metadata": {},
     "output_type": "execute_result"
    }
   ],
   "source": [
    "q5 = df_questions[[\"Q5\"]]\n",
    "q5.columns= ['Country of citizenship']\n",
    "q5= q5[1:]\n",
    "q5.fillna('Not Answered',inplace=True)\n",
    "q5['Country of citizenship'] = q5['Country of citizenship'].str.lower()\n",
    "q5['Country of citizenship'] = q5['Country of citizenship'].str.strip()\n",
    "q5['Country of citizenship'] = q5['Country of citizenship'].replace({'united states': 'usa', 'united states ; pakistan' : 'usa', 'us' : 'usa'})\n",
    "q5.value_counts()"
   ]
  },
  {
   "cell_type": "markdown",
   "metadata": {},
   "source": [
    "#### Question 6 cleaning \n",
    "Undergraduate degree\n",
    "This contains categorical data. We will first extract the dataframe of this question and perform a null check analysis on this. Each null value will be replaced with a Not Answered option. Duplicate values like CS, Computer science will be categorized as one depending on personal assumptions."
   ]
  },
  {
   "cell_type": "code",
   "execution_count": 203,
   "metadata": {},
   "outputs": [
    {
     "data": {
      "text/plain": [
       "()"
      ]
     },
     "execution_count": 203,
     "metadata": {},
     "output_type": "execute_result"
    }
   ],
   "source": [
    "q6 = df_questions[[\"Q6\"]]\n",
    "q6.columns = ['Undergraduate Degree']\n",
    "q6 = q6[1:]\n",
    "q6[\"Undergraduate Degree\"] = q6[\"Undergraduate Degree\"].str.lower()\n",
    "q6[q6['Undergraduate Degree']=='yes'] = np.NAN\n",
    "q6[\"Undergraduate Degree\"] = q6[\"Undergraduate Degree\"].str.strip()\n",
    "replcement= {\n",
    "    'bachelor of engineering': 'engineering',\n",
    "    'economics with finance' : 'economics',\n",
    "    'accounting and isom' : 'accounting',\n",
    "    'systems engineering' : 'engineering',\n",
    "    'mathematics & statistics' : 'statistics',\n",
    "    'economic': 'economics',\n",
    "    'b.tech in cs' : 'computer science',\n",
    "    'criminology law and soci' : 'criminology',\n",
    "    'computer engineering' : 'computer science', \n",
    "    'computer applications' : 'computer science',\n",
    "    'civil engineering' :'engineering',\n",
    "    'business management' : 'management',\n",
    "    'bit' : 'computer science',\n",
    "    'bs accounting' : 'accounting',\n",
    "    'cse' : 'computer science',\n",
    "    'ece' : 'childhood education'\n",
    "\n",
    "}\n",
    "q6[\"Undergraduate Degree\"] = q6[\"Undergraduate Degree\"].replace(replcement)\n",
    "q6.fillna('Not Answered', inplace=True)\n",
    "q6.head\n",
    "()\n"
   ]
  },
  {
   "cell_type": "markdown",
   "metadata": {},
   "source": [
    "#### Question 7 cleaning \n",
    "Expected graduation date.\n",
    "This contains date data. No null check would be performed on the data as it can be nullable (when the student doesn't want to tell about this). For making the data more readable we will only take in consideration the month and year."
   ]
  },
  {
   "cell_type": "code",
   "execution_count": 204,
   "metadata": {},
   "outputs": [
    {
     "name": "stderr",
     "output_type": "stream",
     "text": [
      "C:\\Users\\ali_h\\AppData\\Local\\Temp\\ipykernel_15436\\3575846949.py:4: UserWarning: The argument 'infer_datetime_format' is deprecated and will be removed in a future version. A strict version of it is now the default, see https://pandas.pydata.org/pdeps/0004-consistent-to-datetime-parsing.html. You can safely remove this argument.\n",
      "  q7[\"Graduation date\"] = pd.to_datetime(q7[\"Graduation date\"],infer_datetime_format=True)\n"
     ]
    },
    {
     "data": {
      "text/html": [
       "<div>\n",
       "<style scoped>\n",
       "    .dataframe tbody tr th:only-of-type {\n",
       "        vertical-align: middle;\n",
       "    }\n",
       "\n",
       "    .dataframe tbody tr th {\n",
       "        vertical-align: top;\n",
       "    }\n",
       "\n",
       "    .dataframe thead th {\n",
       "        text-align: right;\n",
       "    }\n",
       "</style>\n",
       "<table border=\"1\" class=\"dataframe\">\n",
       "  <thead>\n",
       "    <tr style=\"text-align: right;\">\n",
       "      <th></th>\n",
       "      <th>Graduation date</th>\n",
       "    </tr>\n",
       "  </thead>\n",
       "  <tbody>\n",
       "    <tr>\n",
       "      <th>1</th>\n",
       "      <td>12/2021</td>\n",
       "    </tr>\n",
       "    <tr>\n",
       "      <th>2</th>\n",
       "      <td>05/2021</td>\n",
       "    </tr>\n",
       "    <tr>\n",
       "      <th>3</th>\n",
       "      <td>06/2022</td>\n",
       "    </tr>\n",
       "    <tr>\n",
       "      <th>4</th>\n",
       "      <td>12/2021</td>\n",
       "    </tr>\n",
       "    <tr>\n",
       "      <th>5</th>\n",
       "      <td>01/2021</td>\n",
       "    </tr>\n",
       "  </tbody>\n",
       "</table>\n",
       "</div>"
      ],
      "text/plain": [
       "  Graduation date\n",
       "1         12/2021\n",
       "2         05/2021\n",
       "3         06/2022\n",
       "4         12/2021\n",
       "5         01/2021"
      ]
     },
     "execution_count": 204,
     "metadata": {},
     "output_type": "execute_result"
    }
   ],
   "source": [
    "q7 = df_questions[[\"Q7\"]]\n",
    "q7.columns = ['Graduation date']\n",
    "q7 = q7[1:]\n",
    "q7[\"Graduation date\"] = pd.to_datetime(q7[\"Graduation date\"],infer_datetime_format=True)\n",
    "q7[\"Graduation date\"] = q7[\"Graduation date\"].dt.strftime('%m/%Y')\n",
    "q7.head()"
   ]
  },
  {
   "cell_type": "markdown",
   "metadata": {},
   "source": [
    "#### Question 8 cleaning \n",
    "Laptop type <br/>\n",
    "This would contain ',' separated values.From a quick analysis i found that some values were not equal to 1, as the selected option. We will first replace this data with 1 and then We will use the helper function extract_categories to extract the categories (excluding the Other column). Then if the option is Other it would be replaced with the value in the next column. "
   ]
  },
  {
   "cell_type": "code",
   "execution_count": 205,
   "metadata": {},
   "outputs": [
    {
     "data": {
      "text/html": [
       "<div>\n",
       "<style scoped>\n",
       "    .dataframe tbody tr th:only-of-type {\n",
       "        vertical-align: middle;\n",
       "    }\n",
       "\n",
       "    .dataframe tbody tr th {\n",
       "        vertical-align: top;\n",
       "    }\n",
       "\n",
       "    .dataframe thead th {\n",
       "        text-align: right;\n",
       "    }\n",
       "</style>\n",
       "<table border=\"1\" class=\"dataframe\">\n",
       "  <thead>\n",
       "    <tr style=\"text-align: right;\">\n",
       "      <th></th>\n",
       "      <th>Laptop type</th>\n",
       "    </tr>\n",
       "  </thead>\n",
       "  <tbody>\n",
       "    <tr>\n",
       "      <th>1</th>\n",
       "      <td>Apple/MacBook</td>\n",
       "    </tr>\n",
       "    <tr>\n",
       "      <th>2</th>\n",
       "      <td>Apple/MacBook</td>\n",
       "    </tr>\n",
       "    <tr>\n",
       "      <th>3</th>\n",
       "      <td>Apple/MacBook</td>\n",
       "    </tr>\n",
       "    <tr>\n",
       "      <th>4</th>\n",
       "      <td>Microsoft/Windows</td>\n",
       "    </tr>\n",
       "    <tr>\n",
       "      <th>5</th>\n",
       "      <td>Apple/MacBook</td>\n",
       "    </tr>\n",
       "  </tbody>\n",
       "</table>\n",
       "</div>"
      ],
      "text/plain": [
       "         Laptop type\n",
       "1      Apple/MacBook\n",
       "2      Apple/MacBook\n",
       "3      Apple/MacBook\n",
       "4  Microsoft/Windows\n",
       "5      Apple/MacBook"
      ]
     },
     "execution_count": 205,
     "metadata": {},
     "output_type": "execute_result"
    }
   ],
   "source": [
    "df_questions[\"Q8.1\"].replace({\"2\":\"1\"},inplace=True)\n",
    "df_questions[\"Q8\"].replace({\"0\": \"1\"}, inplace=True)\n",
    "q8 = categorical(df_questions, start_column=11,\n",
    "                           end_column=14, final_column_name='Laptop type', value_identifier=\"1\", convert_to_category=False)\n",
    "q8[\"Other\"] = df_questions[\"Q8.3\"][1:]\n",
    "mfilter = q8[\"Laptop type\"].str.contains('Other')\n",
    "q8.loc[mfilter, \"Laptop type\"] = q8.loc[mfilter,\"Other\"]\n",
    "q8.drop(columns=['Other'],inplace=True)\n",
    "q8[q8[\"Laptop type\"]==\"\"] = \"Not Answered\"\n",
    "\n",
    "q8 = q8.astype('category')\n",
    "q8.head()"
   ]
  },
  {
   "cell_type": "markdown",
   "metadata": {},
   "source": [
    "#### Question 9 cleaning \n",
    "Employment status <br/>\n",
    "This would be categorical data. We will first extract the dataframe of this question and perform a null check analysis on this. The null values are replaced by \"Not Answered\""
   ]
  },
  {
   "cell_type": "code",
   "execution_count": 206,
   "metadata": {},
   "outputs": [
    {
     "data": {
      "text/html": [
       "<div>\n",
       "<style scoped>\n",
       "    .dataframe tbody tr th:only-of-type {\n",
       "        vertical-align: middle;\n",
       "    }\n",
       "\n",
       "    .dataframe tbody tr th {\n",
       "        vertical-align: top;\n",
       "    }\n",
       "\n",
       "    .dataframe thead th {\n",
       "        text-align: right;\n",
       "    }\n",
       "</style>\n",
       "<table border=\"1\" class=\"dataframe\">\n",
       "  <thead>\n",
       "    <tr style=\"text-align: right;\">\n",
       "      <th></th>\n",
       "      <th>Employment Status</th>\n",
       "    </tr>\n",
       "  </thead>\n",
       "  <tbody>\n",
       "    <tr>\n",
       "      <th>1</th>\n",
       "      <td>Not Working while attending Mason</td>\n",
       "    </tr>\n",
       "    <tr>\n",
       "      <th>2</th>\n",
       "      <td>Working, but not Full Time</td>\n",
       "    </tr>\n",
       "    <tr>\n",
       "      <th>3</th>\n",
       "      <td>Yes, Full Time</td>\n",
       "    </tr>\n",
       "    <tr>\n",
       "      <th>4</th>\n",
       "      <td>Not Working while attending Mason</td>\n",
       "    </tr>\n",
       "    <tr>\n",
       "      <th>5</th>\n",
       "      <td>Yes, Full Time</td>\n",
       "    </tr>\n",
       "  </tbody>\n",
       "</table>\n",
       "</div>"
      ],
      "text/plain": [
       "                   Employment Status\n",
       "1  Not Working while attending Mason\n",
       "2         Working, but not Full Time\n",
       "3                     Yes, Full Time\n",
       "4  Not Working while attending Mason\n",
       "5                     Yes, Full Time"
      ]
     },
     "execution_count": 206,
     "metadata": {},
     "output_type": "execute_result"
    }
   ],
   "source": [
    "q9 = categorical(df_questions, start_column=15,end_column=18, final_column_name='Employment Status', value_identifier=\"1\",convert_to_category=False)\n",
    "q9.replace({\"\": np.NAN}, inplace=True)\n",
    "q9.fillna('Not Answered',inplace=True)\n",
    "q9 = q9.astype('category')\n",
    "q9.head()"
   ]
  },
  {
   "cell_type": "markdown",
   "metadata": {},
   "source": [
    "#### Question 10, 11 , 12 cleaning \n",
    "Programming langage skills Skills <br/>\n",
    "This would be categorical data. We will first extract the dataframe of this question and perform a null check analysis on this. The null values are replaced by \"Not Answered\". The categories would be extracted by extract_categories function."
   ]
  },
  {
   "cell_type": "code",
   "execution_count": 207,
   "metadata": {},
   "outputs": [
    {
     "data": {
      "text/plain": [
       "Python Skills    0\n",
       "R Skills         0\n",
       "SQl Skills       0\n",
       "dtype: int64"
      ]
     },
     "execution_count": 207,
     "metadata": {},
     "output_type": "execute_result"
    }
   ],
   "source": [
    "q10 = categorical(df_questions, start_column=18, end_column=23,\n",
    "                            final_column_name='Python Skills', value_identifier=\"1\", convert_to_category=False)\n",
    "q11 = categorical(df_questions, start_column=23, end_column=28,\n",
    "                            final_column_name='R Skills', value_identifier=\"1\", convert_to_category=False)\n",
    "q12 = categorical(df_questions, start_column=28, end_column=33,\n",
    "                            final_column_name='SQl Skills', value_identifier=\"1\", convert_to_category=False)\n",
    "## concatenating all the dataframes\n",
    "q10_11_12 = pd.concat([q10,q11,q12],axis=1)\n",
    "q10_11_12.replace({\"\": np.NAN}, inplace=True)\n",
    "q10_11_12.fillna('Not Answered', inplace=True)\n",
    "q10_11_12 = q10_11_12.astype('category')\n",
    "q10_11_12.isna().sum()"
   ]
  },
  {
   "cell_type": "markdown",
   "metadata": {},
   "source": [
    "#### Question 13"
   ]
  },
  {
   "cell_type": "code",
   "execution_count": 208,
   "metadata": {},
   "outputs": [
    {
     "data": {
      "text/html": [
       "<div>\n",
       "<style scoped>\n",
       "    .dataframe tbody tr th:only-of-type {\n",
       "        vertical-align: middle;\n",
       "    }\n",
       "\n",
       "    .dataframe tbody tr th {\n",
       "        vertical-align: top;\n",
       "    }\n",
       "\n",
       "    .dataframe thead th {\n",
       "        text-align: right;\n",
       "    }\n",
       "</style>\n",
       "<table border=\"1\" class=\"dataframe\">\n",
       "  <thead>\n",
       "    <tr style=\"text-align: right;\">\n",
       "      <th></th>\n",
       "      <th>Goals</th>\n",
       "    </tr>\n",
       "  </thead>\n",
       "  <tbody>\n",
       "    <tr>\n",
       "      <th>1</th>\n",
       "      <td>Not Answered</td>\n",
       "    </tr>\n",
       "    <tr>\n",
       "      <th>2</th>\n",
       "      <td>Not Answered</td>\n",
       "    </tr>\n",
       "    <tr>\n",
       "      <th>3</th>\n",
       "      <td>As part of my work, I have access to a lot of ...</td>\n",
       "    </tr>\n",
       "    <tr>\n",
       "      <th>4</th>\n",
       "      <td>Not Answered</td>\n",
       "    </tr>\n",
       "    <tr>\n",
       "      <th>5</th>\n",
       "      <td>Learn</td>\n",
       "    </tr>\n",
       "    <tr>\n",
       "      <th>6</th>\n",
       "      <td>Not Answered</td>\n",
       "    </tr>\n",
       "    <tr>\n",
       "      <th>7</th>\n",
       "      <td>To deduce meaningful interpretation for Financ...</td>\n",
       "    </tr>\n",
       "    <tr>\n",
       "      <th>8</th>\n",
       "      <td>Not Answered</td>\n",
       "    </tr>\n",
       "    <tr>\n",
       "      <th>9</th>\n",
       "      <td>Not Answered</td>\n",
       "    </tr>\n",
       "    <tr>\n",
       "      <th>10</th>\n",
       "      <td>Not Answered</td>\n",
       "    </tr>\n",
       "    <tr>\n",
       "      <th>11</th>\n",
       "      <td>To see if it is a field I am interested in pur...</td>\n",
       "    </tr>\n",
       "    <tr>\n",
       "      <th>12</th>\n",
       "      <td>To learn and explore cutting edge data technol...</td>\n",
       "    </tr>\n",
       "    <tr>\n",
       "      <th>13</th>\n",
       "      <td>Learn to select the appropriate tools to condu...</td>\n",
       "    </tr>\n",
       "    <tr>\n",
       "      <th>14</th>\n",
       "      <td>Not Answered</td>\n",
       "    </tr>\n",
       "    <tr>\n",
       "      <th>15</th>\n",
       "      <td>improve my skills</td>\n",
       "    </tr>\n",
       "    <tr>\n",
       "      <th>16</th>\n",
       "      <td>My professional goal is to become a Financial ...</td>\n",
       "    </tr>\n",
       "    <tr>\n",
       "      <th>17</th>\n",
       "      <td>able to compliment my Computational Social Sci...</td>\n",
       "    </tr>\n",
       "    <tr>\n",
       "      <th>18</th>\n",
       "      <td>To start a company</td>\n",
       "    </tr>\n",
       "    <tr>\n",
       "      <th>19</th>\n",
       "      <td>To be able understand and manipulate data to m...</td>\n",
       "    </tr>\n",
       "    <tr>\n",
       "      <th>20</th>\n",
       "      <td>My ultimate goal is to get a job as a sports a...</td>\n",
       "    </tr>\n",
       "    <tr>\n",
       "      <th>21</th>\n",
       "      <td>To understand how to properly interpret and di...</td>\n",
       "    </tr>\n",
       "    <tr>\n",
       "      <th>22</th>\n",
       "      <td>After graduating data analytics, I want myself...</td>\n",
       "    </tr>\n",
       "    <tr>\n",
       "      <th>23</th>\n",
       "      <td>Learning how to appropriately handle large qua...</td>\n",
       "    </tr>\n",
       "    <tr>\n",
       "      <th>24</th>\n",
       "      <td>To learn and understand the fundamentals and m...</td>\n",
       "    </tr>\n",
       "    <tr>\n",
       "      <th>25</th>\n",
       "      <td>The goal is to learn as many programming/stati...</td>\n",
       "    </tr>\n",
       "    <tr>\n",
       "      <th>26</th>\n",
       "      <td>Learning analytics tool and being good at them</td>\n",
       "    </tr>\n",
       "    <tr>\n",
       "      <th>27</th>\n",
       "      <td>I want to be as a data analyst</td>\n",
       "    </tr>\n",
       "    <tr>\n",
       "      <th>28</th>\n",
       "      <td>It is very relevant to my PhD research area an...</td>\n",
       "    </tr>\n",
       "    <tr>\n",
       "      <th>29</th>\n",
       "      <td>Learn how to handle large amount structured an...</td>\n",
       "    </tr>\n",
       "    <tr>\n",
       "      <th>30</th>\n",
       "      <td>To become a good Data Analyst and work for top...</td>\n",
       "    </tr>\n",
       "    <tr>\n",
       "      <th>31</th>\n",
       "      <td>Get a better understanding of the granularity ...</td>\n",
       "    </tr>\n",
       "    <tr>\n",
       "      <th>32</th>\n",
       "      <td>Not Answered</td>\n",
       "    </tr>\n",
       "    <tr>\n",
       "      <th>33</th>\n",
       "      <td>Learn how data analytics works</td>\n",
       "    </tr>\n",
       "    <tr>\n",
       "      <th>34</th>\n",
       "      <td>Advance my career in data science</td>\n",
       "    </tr>\n",
       "    <tr>\n",
       "      <th>35</th>\n",
       "      <td>Getting a good job</td>\n",
       "    </tr>\n",
       "    <tr>\n",
       "      <th>36</th>\n",
       "      <td>to use the skills at work.</td>\n",
       "    </tr>\n",
       "  </tbody>\n",
       "</table>\n",
       "</div>"
      ],
      "text/plain": [
       "                                                Goals\n",
       "1                                        Not Answered\n",
       "2                                        Not Answered\n",
       "3   As part of my work, I have access to a lot of ...\n",
       "4                                        Not Answered\n",
       "5                                               Learn\n",
       "6                                        Not Answered\n",
       "7   To deduce meaningful interpretation for Financ...\n",
       "8                                        Not Answered\n",
       "9                                        Not Answered\n",
       "10                                       Not Answered\n",
       "11  To see if it is a field I am interested in pur...\n",
       "12  To learn and explore cutting edge data technol...\n",
       "13  Learn to select the appropriate tools to condu...\n",
       "14                                       Not Answered\n",
       "15                                  improve my skills\n",
       "16  My professional goal is to become a Financial ...\n",
       "17  able to compliment my Computational Social Sci...\n",
       "18                                To start a company \n",
       "19  To be able understand and manipulate data to m...\n",
       "20  My ultimate goal is to get a job as a sports a...\n",
       "21  To understand how to properly interpret and di...\n",
       "22  After graduating data analytics, I want myself...\n",
       "23  Learning how to appropriately handle large qua...\n",
       "24  To learn and understand the fundamentals and m...\n",
       "25  The goal is to learn as many programming/stati...\n",
       "26     Learning analytics tool and being good at them\n",
       "27                    I want to be as a data analyst \n",
       "28  It is very relevant to my PhD research area an...\n",
       "29  Learn how to handle large amount structured an...\n",
       "30  To become a good Data Analyst and work for top...\n",
       "31  Get a better understanding of the granularity ...\n",
       "32                                       Not Answered\n",
       "33                     Learn how data analytics works\n",
       "34                  Advance my career in data science\n",
       "35                                 Getting a good job\n",
       "36                         to use the skills at work."
      ]
     },
     "execution_count": 208,
     "metadata": {},
     "output_type": "execute_result"
    }
   ],
   "source": [
    "q13 = pd.DataFrame(df_questions[\"Q13\"][1:])\n",
    "q13.columns = ['Goals']\n",
    "q13.fillna('Not Answered',inplace=True)\n",
    "q13"
   ]
  },
  {
   "cell_type": "markdown",
   "metadata": {},
   "source": [
    "### Joining all data frames"
   ]
  },
  {
   "cell_type": "code",
   "execution_count": 209,
   "metadata": {},
   "outputs": [],
   "source": [
    "final = pd.concat([df_general,q1,q2,q3,q4,q5,q6,q7,q8,q9,q10_11_12,q13], axis=1)\n"
   ]
  },
  {
   "cell_type": "markdown",
   "metadata": {},
   "source": [
    "### Final Cleaning\n",
    "Since most of the null values were comming from the entries which has a status incomplete i am dropping the rows with incomplete status. In order to get a perfect data"
   ]
  },
  {
   "cell_type": "code",
   "execution_count": 210,
   "metadata": {},
   "outputs": [
    {
     "data": {
      "text/plain": [
       "Time                      0\n",
       "Status                    0\n",
       "Duration (Seconds)        0\n",
       "IP Address                0\n",
       "Country                   0\n",
       "Region                    4\n",
       "City / Town / District    4\n",
       "Latitude                  0\n",
       "Longitude                 0\n",
       "AIT-580 Section           0\n",
       "Gender                    0\n",
       "Age                       0\n",
       "Height                    0\n",
       "Country of citizenship    0\n",
       "Undergraduate Degree      0\n",
       "Graduation date           0\n",
       "Laptop type               0\n",
       "Employment Status         0\n",
       "Python Skills             0\n",
       "R Skills                  0\n",
       "SQl Skills                0\n",
       "Goals                     0\n",
       "dtype: int64"
      ]
     },
     "execution_count": 210,
     "metadata": {},
     "output_type": "execute_result"
    }
   ],
   "source": [
    "## drop rows where status is not answered\n",
    "final = final.drop(final[final.Status==\"Incomplete\"].index)\n",
    "final.isna().sum()"
   ]
  },
  {
   "cell_type": "markdown",
   "metadata": {},
   "source": [
    "This gives us no null values other than \"Region\" and \"City / Town / District\" which can be nullable because data was obtained from the IP address rather than the form. "
   ]
  },
  {
   "cell_type": "markdown",
   "metadata": {},
   "source": [
    "### Final type casting and exporting the dataframe to csv"
   ]
  },
  {
   "cell_type": "code",
   "execution_count": 211,
   "metadata": {},
   "outputs": [
    {
     "name": "stdout",
     "output_type": "stream",
     "text": [
      "<class 'pandas.core.frame.DataFrame'>\n",
      "Index: 32 entries, 1 to 36\n",
      "Data columns (total 22 columns):\n",
      " #   Column                  Non-Null Count  Dtype   \n",
      "---  ------                  --------------  -----   \n",
      " 0   Time                    32 non-null     object  \n",
      " 1   Status                  32 non-null     object  \n",
      " 2   Duration (Seconds)      32 non-null     object  \n",
      " 3   IP Address              32 non-null     object  \n",
      " 4   Country                 32 non-null     category\n",
      " 5   Region                  28 non-null     category\n",
      " 6   City / Town / District  28 non-null     category\n",
      " 7   Latitude                32 non-null     object  \n",
      " 8   Longitude               32 non-null     object  \n",
      " 9   AIT-580 Section         32 non-null     category\n",
      " 10  Gender                  32 non-null     category\n",
      " 11  Age                     32 non-null     float64 \n",
      " 12  Height                  32 non-null     float64 \n",
      " 13  Country of citizenship  32 non-null     category\n",
      " 14  Undergraduate Degree    32 non-null     category\n",
      " 15  Graduation date         32 non-null     object  \n",
      " 16  Laptop type             32 non-null     category\n",
      " 17  Employment Status       32 non-null     category\n",
      " 18  Python Skills           32 non-null     category\n",
      " 19  R Skills                32 non-null     category\n",
      " 20  SQl Skills              32 non-null     category\n",
      " 21  Goals                   32 non-null     object  \n",
      "dtypes: category(12), float64(2), object(8)\n",
      "memory usage: 6.4+ KB\n"
     ]
    }
   ],
   "source": [
    "final['Country'] = final['Country'].astype('category')\n",
    "final['Region'] = final['Region'].astype('category')\n",
    "final['City / Town / District'] = final['City / Town / District'].astype('category')\n",
    "final['Country of citizenship'] = final['Country of citizenship'].astype('category')\n",
    "final['Undergraduate Degree'] = final['Undergraduate Degree'].astype('category')\n",
    "final.info()\n"
   ]
  },
  {
   "cell_type": "code",
   "execution_count": 212,
   "metadata": {},
   "outputs": [],
   "source": [
    "final.to_csv('cleaned_580SurveyCleanup.csv', index=False)"
   ]
  },
  {
   "cell_type": "markdown",
   "metadata": {},
   "source": [
    "## Part 3 - Insights on csv"
   ]
  },
  {
   "cell_type": "markdown",
   "metadata": {},
   "source": [
    "### Q1 AIT Section\n",
    "Possible answers:\n",
    "<br/> 002\n",
    "<br/> 004"
   ]
  },
  {
   "cell_type": "code",
   "execution_count": 213,
   "metadata": {},
   "outputs": [
    {
     "data": {
      "text/plain": [
       "AIT-580 Section\n",
       "002    17\n",
       "004    15\n",
       "Name: count, dtype: int64"
      ]
     },
     "execution_count": 213,
     "metadata": {},
     "output_type": "execute_result"
    }
   ],
   "source": [
    "final[\"AIT-580 Section\"].value_counts()"
   ]
  },
  {
   "cell_type": "code",
   "execution_count": 214,
   "metadata": {},
   "outputs": [
    {
     "data": {
      "text/plain": [
       "count      32\n",
       "unique      2\n",
       "top       002\n",
       "freq       17\n",
       "Name: AIT-580 Section, dtype: object"
      ]
     },
     "execution_count": 214,
     "metadata": {},
     "output_type": "execute_result"
    }
   ],
   "source": [
    "final[\"AIT-580 Section\"].describe()"
   ]
  },
  {
   "cell_type": "code",
   "execution_count": 215,
   "metadata": {},
   "outputs": [
    {
     "data": {
      "text/plain": [
       "<Axes: xlabel='AIT-580 Section'>"
      ]
     },
     "execution_count": 215,
     "metadata": {},
     "output_type": "execute_result"
    },
    {
     "data": {
      "image/png": "[encoded data removed]",
      "text/plain": [
       "<Figure size 640x480 with 1 Axes>"
      ]
     },
     "metadata": {},
     "output_type": "display_data"
    }
   ],
   "source": [
    "final[\"AIT-580 Section\"].value_counts().plot.bar()"
   ]
  },
  {
   "cell_type": "markdown",
   "metadata": {},
   "source": [
    "From the students that filled and completed the surver we can see that most of them are from AIT-580 Section-002. Almost equal number of students have filled the survey for AIT-580 Section-002 and AIT-580 Section-004."
   ]
  },
  {
   "cell_type": "markdown",
   "metadata": {},
   "source": [
    "### Q2 Gender\n",
    "Possible answers:\n",
    "<br/> NonBinary\n",
    "<br/> Female\n",
    "<br/> Male\n",
    "<br/> Prefer not to answer"
   ]
  },
  {
   "cell_type": "code",
   "execution_count": 216,
   "metadata": {},
   "outputs": [
    {
     "data": {
      "text/plain": [
       "Gender\n",
       "Male                    17\n",
       "Female                  13\n",
       "NonBinary                1\n",
       "Prefer not to answer     1\n",
       "Name: count, dtype: int64"
      ]
     },
     "execution_count": 216,
     "metadata": {},
     "output_type": "execute_result"
    }
   ],
   "source": [
    "final[\"Gender\"].value_counts()"
   ]
  },
  {
   "cell_type": "code",
   "execution_count": 217,
   "metadata": {},
   "outputs": [
    {
     "data": {
      "text/plain": [
       "count       32\n",
       "unique       4\n",
       "top       Male\n",
       "freq        17\n",
       "Name: Gender, dtype: object"
      ]
     },
     "execution_count": 217,
     "metadata": {},
     "output_type": "execute_result"
    }
   ],
   "source": [
    "final[\"Gender\"].describe()"
   ]
  },
  {
   "cell_type": "code",
   "execution_count": 218,
   "metadata": {},
   "outputs": [
    {
     "data": {
      "text/html": [
       "<div>\n",
       "<style scoped>\n",
       "    .dataframe tbody tr th:only-of-type {\n",
       "        vertical-align: middle;\n",
       "    }\n",
       "\n",
       "    .dataframe tbody tr th {\n",
       "        vertical-align: top;\n",
       "    }\n",
       "\n",
       "    .dataframe thead tr th {\n",
       "        text-align: left;\n",
       "    }\n",
       "\n",
       "    .dataframe thead tr:last-of-type th {\n",
       "        text-align: right;\n",
       "    }\n",
       "</style>\n",
       "<table border=\"1\" class=\"dataframe\">\n",
       "  <thead>\n",
       "    <tr>\n",
       "      <th></th>\n",
       "      <th></th>\n",
       "      <th>AIT-580 Section</th>\n",
       "    </tr>\n",
       "    <tr>\n",
       "      <th></th>\n",
       "      <th></th>\n",
       "      <th>count</th>\n",
       "    </tr>\n",
       "    <tr>\n",
       "      <th>Gender</th>\n",
       "      <th>AIT-580 Section</th>\n",
       "      <th></th>\n",
       "    </tr>\n",
       "  </thead>\n",
       "  <tbody>\n",
       "    <tr>\n",
       "      <th rowspan=\"2\" valign=\"top\">Female</th>\n",
       "      <th>002</th>\n",
       "      <td>4</td>\n",
       "    </tr>\n",
       "    <tr>\n",
       "      <th>004</th>\n",
       "      <td>9</td>\n",
       "    </tr>\n",
       "    <tr>\n",
       "      <th rowspan=\"2\" valign=\"top\">Male</th>\n",
       "      <th>002</th>\n",
       "      <td>11</td>\n",
       "    </tr>\n",
       "    <tr>\n",
       "      <th>004</th>\n",
       "      <td>6</td>\n",
       "    </tr>\n",
       "    <tr>\n",
       "      <th rowspan=\"2\" valign=\"top\">NonBinary</th>\n",
       "      <th>002</th>\n",
       "      <td>1</td>\n",
       "    </tr>\n",
       "    <tr>\n",
       "      <th>004</th>\n",
       "      <td>0</td>\n",
       "    </tr>\n",
       "    <tr>\n",
       "      <th rowspan=\"2\" valign=\"top\">Prefer not to answer</th>\n",
       "      <th>002</th>\n",
       "      <td>1</td>\n",
       "    </tr>\n",
       "    <tr>\n",
       "      <th>004</th>\n",
       "      <td>0</td>\n",
       "    </tr>\n",
       "  </tbody>\n",
       "</table>\n",
       "</div>"
      ],
      "text/plain": [
       "                                     AIT-580 Section\n",
       "                                               count\n",
       "Gender               AIT-580 Section                \n",
       "Female               002                           4\n",
       "                     004                           9\n",
       "Male                 002                          11\n",
       "                     004                           6\n",
       "NonBinary            002                           1\n",
       "                     004                           0\n",
       "Prefer not to answer 002                           1\n",
       "                     004                           0"
      ]
     },
     "execution_count": 218,
     "metadata": {},
     "output_type": "execute_result"
    }
   ],
   "source": [
    "final.groupby(['Gender', \"AIT-580 Section\"]).agg({\"AIT-580 Section\": ['count']})"
   ]
  },
  {
   "cell_type": "code",
   "execution_count": 219,
   "metadata": {},
   "outputs": [
    {
     "data": {
      "text/plain": [
       "<Axes: xlabel='Gender'>"
      ]
     },
     "execution_count": 219,
     "metadata": {},
     "output_type": "execute_result"
    },
    {
     "data": {
      "image/png": "[encoded data removed]",
      "text/plain": [
       "<Figure size 640x480 with 1 Axes>"
      ]
     },
     "metadata": {},
     "output_type": "display_data"
    }
   ],
   "source": [
    "final[\"Gender\"].value_counts().plot.bar()"
   ]
  },
  {
   "cell_type": "markdown",
   "metadata": {},
   "source": [
    "Most of the participants are male. While a greater no of female students have also filled the form.  Alot of male participants are from section 002 while alot of femmale participants are from 004."
   ]
  },
  {
   "cell_type": "markdown",
   "metadata": {},
   "source": [
    "### Q2 Age\n",
    "Numeric"
   ]
  },
  {
   "cell_type": "code",
   "execution_count": 220,
   "metadata": {},
   "outputs": [
    {
     "data": {
      "text/plain": [
       "count    32.000000\n",
       "mean     28.895833\n",
       "std      11.798620\n",
       "min      22.000000\n",
       "25%      23.000000\n",
       "50%      25.000000\n",
       "75%      28.000000\n",
       "max      81.666667\n",
       "Name: Age, dtype: float64"
      ]
     },
     "execution_count": 220,
     "metadata": {},
     "output_type": "execute_result"
    }
   ],
   "source": [
    "final[\"Age\"].describe()"
   ]
  },
  {
   "cell_type": "code",
   "execution_count": 221,
   "metadata": {},
   "outputs": [
    {
     "data": {
      "text/plain": [
       "<Axes: >"
      ]
     },
     "execution_count": 221,
     "metadata": {},
     "output_type": "execute_result"
    },
    {
     "data": {
      "image/png": "[encoded data removed]",
      "text/plain": [
       "<Figure size 640x480 with 1 Axes>"
      ]
     },
     "metadata": {},
     "output_type": "display_data"
    }
   ],
   "source": [
    "final[\"Age\"].hist()"
   ]
  },
  {
   "cell_type": "markdown",
   "metadata": {},
   "source": [
    "The course consists of students that are young and old. Most of the students are aged between 20-45"
   ]
  },
  {
   "cell_type": "markdown",
   "metadata": {},
   "source": [
    "### Q3 Height (inches)\n",
    "Numeric"
   ]
  },
  {
   "cell_type": "code",
   "execution_count": 222,
   "metadata": {},
   "outputs": [
    {
     "data": {
      "text/plain": [
       "count    32.000000\n",
       "mean     67.312500\n",
       "std       4.306316\n",
       "min      56.000000\n",
       "25%      66.000000\n",
       "50%      67.000000\n",
       "75%      70.000000\n",
       "max      75.000000\n",
       "Name: Height, dtype: float64"
      ]
     },
     "execution_count": 222,
     "metadata": {},
     "output_type": "execute_result"
    }
   ],
   "source": [
    "final[\"Height\"].describe()"
   ]
  },
  {
   "cell_type": "code",
   "execution_count": 223,
   "metadata": {},
   "outputs": [
    {
     "data": {
      "text/plain": [
       "<Axes: >"
      ]
     },
     "execution_count": 223,
     "metadata": {},
     "output_type": "execute_result"
    },
    {
     "data": {
      "image/png": "[encoded data removed]",
      "text/plain": [
       "<Figure size 640x480 with 1 Axes>"
      ]
     },
     "metadata": {},
     "output_type": "display_data"
    }
   ],
   "source": [
    "final[\"Height\"].hist()"
   ]
  },
  {
   "cell_type": "code",
   "execution_count": 224,
   "metadata": {},
   "outputs": [
    {
     "data": {
      "text/html": [
       "<div>\n",
       "<style scoped>\n",
       "    .dataframe tbody tr th:only-of-type {\n",
       "        vertical-align: middle;\n",
       "    }\n",
       "\n",
       "    .dataframe tbody tr th {\n",
       "        vertical-align: top;\n",
       "    }\n",
       "\n",
       "    .dataframe thead tr th {\n",
       "        text-align: left;\n",
       "    }\n",
       "\n",
       "    .dataframe thead tr:last-of-type th {\n",
       "        text-align: right;\n",
       "    }\n",
       "</style>\n",
       "<table border=\"1\" class=\"dataframe\">\n",
       "  <thead>\n",
       "    <tr>\n",
       "      <th></th>\n",
       "      <th>Height</th>\n",
       "    </tr>\n",
       "    <tr>\n",
       "      <th></th>\n",
       "      <th>mean</th>\n",
       "    </tr>\n",
       "    <tr>\n",
       "      <th>Gender</th>\n",
       "      <th></th>\n",
       "    </tr>\n",
       "  </thead>\n",
       "  <tbody>\n",
       "    <tr>\n",
       "      <th>Female</th>\n",
       "      <td>64.538462</td>\n",
       "    </tr>\n",
       "    <tr>\n",
       "      <th>Male</th>\n",
       "      <td>69.352941</td>\n",
       "    </tr>\n",
       "    <tr>\n",
       "      <th>NonBinary</th>\n",
       "      <td>70.000000</td>\n",
       "    </tr>\n",
       "    <tr>\n",
       "      <th>Prefer not to answer</th>\n",
       "      <td>66.000000</td>\n",
       "    </tr>\n",
       "  </tbody>\n",
       "</table>\n",
       "</div>"
      ],
      "text/plain": [
       "                         Height\n",
       "                           mean\n",
       "Gender                         \n",
       "Female                64.538462\n",
       "Male                  69.352941\n",
       "NonBinary             70.000000\n",
       "Prefer not to answer  66.000000"
      ]
     },
     "execution_count": 224,
     "metadata": {},
     "output_type": "execute_result"
    }
   ],
   "source": [
    "final.groupby(['Gender']).agg({\"Height\": ['mean']})"
   ]
  },
  {
   "cell_type": "markdown",
   "metadata": {},
   "source": [
    "Most of the students have avg height. Males have avg height greater than  females."
   ]
  },
  {
   "cell_type": "markdown",
   "metadata": {},
   "source": [
    "### Q4 Country of Citizenship"
   ]
  },
  {
   "cell_type": "code",
   "execution_count": 225,
   "metadata": {},
   "outputs": [
    {
     "data": {
      "text/plain": [
       "count      32\n",
       "unique     11\n",
       "top       usa\n",
       "freq       10\n",
       "Name: Country of citizenship, dtype: object"
      ]
     },
     "execution_count": 225,
     "metadata": {},
     "output_type": "execute_result"
    }
   ],
   "source": [
    "final[\"Country of citizenship\"].describe()"
   ]
  },
  {
   "cell_type": "code",
   "execution_count": 226,
   "metadata": {},
   "outputs": [
    {
     "data": {
      "text/plain": [
       "Country of citizenship\n",
       "usa            10\n",
       "india           9\n",
       "china           2\n",
       "nigeria         2\n",
       "taiwan          2\n",
       "uzbekistan      2\n",
       "ethiopia        1\n",
       "pakistan        1\n",
       "romania         1\n",
       "south korea     1\n",
       "vietnam         1\n",
       "Name: count, dtype: int64"
      ]
     },
     "execution_count": 226,
     "metadata": {},
     "output_type": "execute_result"
    }
   ],
   "source": [
    "final[\"Country of citizenship\"].value_counts()"
   ]
  },
  {
   "cell_type": "code",
   "execution_count": 227,
   "metadata": {},
   "outputs": [
    {
     "data": {
      "text/plain": [
       "<Axes: xlabel='Country of citizenship'>"
      ]
     },
     "execution_count": 227,
     "metadata": {},
     "output_type": "execute_result"
    },
    {
     "data": {
      "image/png": "[encoded data removed]",
      "text/plain": [
       "<Figure size 640x480 with 1 Axes>"
      ]
     },
     "metadata": {},
     "output_type": "display_data"
    }
   ],
   "source": [
    "final[\"Country of citizenship\"].value_counts().plot(kind='bar')"
   ]
  },
  {
   "cell_type": "markdown",
   "metadata": {},
   "source": [
    "Max no of students are citezens of USA and india."
   ]
  },
  {
   "cell_type": "markdown",
   "metadata": {},
   "source": [
    "### Q5 Undergraduate degree"
   ]
  },
  {
   "cell_type": "code",
   "execution_count": 228,
   "metadata": {},
   "outputs": [
    {
     "data": {
      "text/plain": [
       "count                   32\n",
       "unique                  13\n",
       "top       computer science\n",
       "freq                     7\n",
       "Name: Undergraduate Degree, dtype: object"
      ]
     },
     "execution_count": 228,
     "metadata": {},
     "output_type": "execute_result"
    }
   ],
   "source": [
    "final[\"Undergraduate Degree\"].describe()"
   ]
  },
  {
   "cell_type": "code",
   "execution_count": 229,
   "metadata": {},
   "outputs": [
    {
     "data": {
      "text/plain": [
       "<Axes: xlabel='Undergraduate Degree'>"
      ]
     },
     "execution_count": 229,
     "metadata": {},
     "output_type": "execute_result"
    },
    {
     "data": {
      "image/png": "[encoded data removed]",
      "text/plain": [
       "<Figure size 640x480 with 1 Axes>"
      ]
     },
     "metadata": {},
     "output_type": "display_data"
    }
   ],
   "source": [
    "final[\"Undergraduate Degree\"].value_counts().plot(kind='bar')"
   ]
  },
  {
   "cell_type": "code",
   "execution_count": 230,
   "metadata": {},
   "outputs": [
    {
     "data": {
      "text/html": [
       "<div>\n",
       "<style scoped>\n",
       "    .dataframe tbody tr th:only-of-type {\n",
       "        vertical-align: middle;\n",
       "    }\n",
       "\n",
       "    .dataframe tbody tr th {\n",
       "        vertical-align: top;\n",
       "    }\n",
       "\n",
       "    .dataframe thead tr th {\n",
       "        text-align: left;\n",
       "    }\n",
       "</style>\n",
       "<table border=\"1\" class=\"dataframe\">\n",
       "  <thead>\n",
       "    <tr>\n",
       "      <th></th>\n",
       "      <th>Undergraduate Degree</th>\n",
       "      <th colspan=\"2\" halign=\"left\">Country of citizenship</th>\n",
       "    </tr>\n",
       "    <tr>\n",
       "      <th></th>\n",
       "      <th></th>\n",
       "      <th></th>\n",
       "      <th>count</th>\n",
       "    </tr>\n",
       "  </thead>\n",
       "  <tbody>\n",
       "    <tr>\n",
       "      <th>44</th>\n",
       "      <td>computer science</td>\n",
       "      <td>china</td>\n",
       "      <td>0</td>\n",
       "    </tr>\n",
       "    <tr>\n",
       "      <th>45</th>\n",
       "      <td>computer science</td>\n",
       "      <td>ethiopia</td>\n",
       "      <td>0</td>\n",
       "    </tr>\n",
       "    <tr>\n",
       "      <th>46</th>\n",
       "      <td>computer science</td>\n",
       "      <td>india</td>\n",
       "      <td>5</td>\n",
       "    </tr>\n",
       "    <tr>\n",
       "      <th>47</th>\n",
       "      <td>computer science</td>\n",
       "      <td>nigeria</td>\n",
       "      <td>0</td>\n",
       "    </tr>\n",
       "    <tr>\n",
       "      <th>48</th>\n",
       "      <td>computer science</td>\n",
       "      <td>pakistan</td>\n",
       "      <td>0</td>\n",
       "    </tr>\n",
       "    <tr>\n",
       "      <th>49</th>\n",
       "      <td>computer science</td>\n",
       "      <td>romania</td>\n",
       "      <td>0</td>\n",
       "    </tr>\n",
       "    <tr>\n",
       "      <th>50</th>\n",
       "      <td>computer science</td>\n",
       "      <td>south korea</td>\n",
       "      <td>0</td>\n",
       "    </tr>\n",
       "    <tr>\n",
       "      <th>51</th>\n",
       "      <td>computer science</td>\n",
       "      <td>taiwan</td>\n",
       "      <td>0</td>\n",
       "    </tr>\n",
       "    <tr>\n",
       "      <th>52</th>\n",
       "      <td>computer science</td>\n",
       "      <td>usa</td>\n",
       "      <td>2</td>\n",
       "    </tr>\n",
       "    <tr>\n",
       "      <th>53</th>\n",
       "      <td>computer science</td>\n",
       "      <td>uzbekistan</td>\n",
       "      <td>0</td>\n",
       "    </tr>\n",
       "    <tr>\n",
       "      <th>54</th>\n",
       "      <td>computer science</td>\n",
       "      <td>vietnam</td>\n",
       "      <td>0</td>\n",
       "    </tr>\n",
       "  </tbody>\n",
       "</table>\n",
       "</div>"
      ],
      "text/plain": [
       "   Undergraduate Degree Country of citizenship      \n",
       "                                               count\n",
       "44     computer science                  china     0\n",
       "45     computer science               ethiopia     0\n",
       "46     computer science                  india     5\n",
       "47     computer science                nigeria     0\n",
       "48     computer science               pakistan     0\n",
       "49     computer science                romania     0\n",
       "50     computer science            south korea     0\n",
       "51     computer science                 taiwan     0\n",
       "52     computer science                    usa     2\n",
       "53     computer science             uzbekistan     0\n",
       "54     computer science                vietnam     0"
      ]
     },
     "execution_count": 230,
     "metadata": {},
     "output_type": "execute_result"
    }
   ],
   "source": [
    "temp = final.groupby(['Undergraduate Degree', \"Country of citizenship\"]\n",
    "                ).agg({\"Country of citizenship\": ['count']}).reset_index()\n",
    "degrees = [\"computer science\"]\n",
    "temp[temp[\"Undergraduate Degree\"].isin(degrees)]"
   ]
  },
  {
   "cell_type": "markdown",
   "metadata": {},
   "source": [
    "Most of the students are doing engineering or Cs. Most students doing CS are Indians"
   ]
  },
  {
   "cell_type": "markdown",
   "metadata": {},
   "source": [
    "### Q7. Expected Graduation date from Mason MS program?\n"
   ]
  },
  {
   "cell_type": "code",
   "execution_count": 231,
   "metadata": {},
   "outputs": [
    {
     "data": {
      "text/plain": [
       "count          32\n",
       "unique         10\n",
       "top       12/2021\n",
       "freq           13\n",
       "Name: Graduation date, dtype: object"
      ]
     },
     "execution_count": 231,
     "metadata": {},
     "output_type": "execute_result"
    }
   ],
   "source": [
    "final[\"Graduation date\"].describe()"
   ]
  },
  {
   "cell_type": "code",
   "execution_count": 232,
   "metadata": {},
   "outputs": [
    {
     "data": {
      "text/plain": [
       "Graduation date\n",
       "12/2021    13\n",
       "05/2021     5\n",
       "05/2022     5\n",
       "01/2021     2\n",
       "12/2022     2\n",
       "06/2022     1\n",
       "07/2022     1\n",
       "08/2021     1\n",
       "04/2022     1\n",
       "05/2023     1\n",
       "Name: count, dtype: int64"
      ]
     },
     "execution_count": 232,
     "metadata": {},
     "output_type": "execute_result"
    }
   ],
   "source": [
    "final[\"Graduation date\"].value_counts()"
   ]
  },
  {
   "cell_type": "code",
   "execution_count": 233,
   "metadata": {},
   "outputs": [
    {
     "data": {
      "text/plain": [
       "<Axes: xlabel='Graduation date'>"
      ]
     },
     "execution_count": 233,
     "metadata": {},
     "output_type": "execute_result"
    },
    {
     "data": {
      "image/png": "[encoded data removed]",
      "text/plain": [
       "<Figure size 640x480 with 1 Axes>"
      ]
     },
     "metadata": {},
     "output_type": "display_data"
    }
   ],
   "source": [
    "final[\"Graduation date\"].value_counts().plot(kind='bar')"
   ]
  },
  {
   "cell_type": "markdown",
   "metadata": {},
   "source": [
    "Most of the students will be graduating in the last month of the 2021."
   ]
  },
  {
   "cell_type": "markdown",
   "metadata": {},
   "source": [
    "### Q8. Type of Laptop Used?"
   ]
  },
  {
   "cell_type": "code",
   "execution_count": 234,
   "metadata": {},
   "outputs": [
    {
     "data": {
      "text/plain": [
       "count                    32\n",
       "unique                    4\n",
       "top       Microsoft/Windows\n",
       "freq                     21\n",
       "Name: Laptop type, dtype: object"
      ]
     },
     "execution_count": 234,
     "metadata": {},
     "output_type": "execute_result"
    }
   ],
   "source": [
    "final[\"Laptop type\"].describe()"
   ]
  },
  {
   "cell_type": "code",
   "execution_count": 235,
   "metadata": {},
   "outputs": [
    {
     "data": {
      "text/plain": [
       "<Axes: xlabel='Use  Windows'>"
      ]
     },
     "execution_count": 235,
     "metadata": {},
     "output_type": "execute_result"
    },
    {
     "data": {
      "image/png": "[encoded data removed]",
      "text/plain": [
       "<Figure size 640x480 with 1 Axes>"
      ]
     },
     "metadata": {},
     "output_type": "display_data"
    }
   ],
   "source": [
    "final[\"Laptop type\"].str.contains('Windows').value_counts().plot(kind='bar',xlabel='Use  Windows')\n"
   ]
  },
  {
   "cell_type": "markdown",
   "metadata": {},
   "source": [
    "More people use windows rather than using other Operating systems."
   ]
  },
  {
   "cell_type": "markdown",
   "metadata": {},
   "source": [
    "### Q9. Are you employed full-time while attending Mason?"
   ]
  },
  {
   "cell_type": "code",
   "execution_count": 236,
   "metadata": {},
   "outputs": [
    {
     "data": {
      "text/plain": [
       "count                                    32\n",
       "unique                                    3\n",
       "top       Not Working while attending Mason\n",
       "freq                                     16\n",
       "Name: Employment Status, dtype: object"
      ]
     },
     "execution_count": 236,
     "metadata": {},
     "output_type": "execute_result"
    }
   ],
   "source": [
    "final[\"Employment Status\"].describe()"
   ]
  },
  {
   "cell_type": "code",
   "execution_count": 237,
   "metadata": {},
   "outputs": [
    {
     "data": {
      "text/plain": [
       "<Axes: xlabel='Employment Status'>"
      ]
     },
     "execution_count": 237,
     "metadata": {},
     "output_type": "execute_result"
    },
    {
     "data": {
      "image/png": "[encoded data removed]",
      "text/plain": [
       "<Figure size 640x480 with 1 Axes>"
      ]
     },
     "metadata": {},
     "output_type": "display_data"
    }
   ],
   "source": [
    "final[\"Employment Status\"].value_counts().plot(kind='bar')\n"
   ]
  },
  {
   "cell_type": "code",
   "execution_count": 238,
   "metadata": {},
   "outputs": [
    {
     "data": {
      "text/html": [
       "<div>\n",
       "<style scoped>\n",
       "    .dataframe tbody tr th:only-of-type {\n",
       "        vertical-align: middle;\n",
       "    }\n",
       "\n",
       "    .dataframe tbody tr th {\n",
       "        vertical-align: top;\n",
       "    }\n",
       "\n",
       "    .dataframe thead tr th {\n",
       "        text-align: left;\n",
       "    }\n",
       "\n",
       "    .dataframe thead tr:last-of-type th {\n",
       "        text-align: right;\n",
       "    }\n",
       "</style>\n",
       "<table border=\"1\" class=\"dataframe\">\n",
       "  <thead>\n",
       "    <tr>\n",
       "      <th></th>\n",
       "      <th></th>\n",
       "      <th>AIT-580 Section</th>\n",
       "    </tr>\n",
       "    <tr>\n",
       "      <th></th>\n",
       "      <th></th>\n",
       "      <th>count</th>\n",
       "    </tr>\n",
       "    <tr>\n",
       "      <th>Employment Status</th>\n",
       "      <th>AIT-580 Section</th>\n",
       "      <th></th>\n",
       "    </tr>\n",
       "  </thead>\n",
       "  <tbody>\n",
       "    <tr>\n",
       "      <th rowspan=\"2\" valign=\"top\">Not Answered</th>\n",
       "      <th>002</th>\n",
       "      <td>0</td>\n",
       "    </tr>\n",
       "    <tr>\n",
       "      <th>004</th>\n",
       "      <td>0</td>\n",
       "    </tr>\n",
       "    <tr>\n",
       "      <th rowspan=\"2\" valign=\"top\">Not Working while attending Mason</th>\n",
       "      <th>002</th>\n",
       "      <td>8</td>\n",
       "    </tr>\n",
       "    <tr>\n",
       "      <th>004</th>\n",
       "      <td>8</td>\n",
       "    </tr>\n",
       "    <tr>\n",
       "      <th rowspan=\"2\" valign=\"top\">Working, but not Full Time</th>\n",
       "      <th>002</th>\n",
       "      <td>3</td>\n",
       "    </tr>\n",
       "    <tr>\n",
       "      <th>004</th>\n",
       "      <td>2</td>\n",
       "    </tr>\n",
       "    <tr>\n",
       "      <th rowspan=\"2\" valign=\"top\">Yes, Full Time</th>\n",
       "      <th>002</th>\n",
       "      <td>6</td>\n",
       "    </tr>\n",
       "    <tr>\n",
       "      <th>004</th>\n",
       "      <td>5</td>\n",
       "    </tr>\n",
       "  </tbody>\n",
       "</table>\n",
       "</div>"
      ],
      "text/plain": [
       "                                                  AIT-580 Section\n",
       "                                                            count\n",
       "Employment Status                 AIT-580 Section                \n",
       "Not Answered                      002                           0\n",
       "                                  004                           0\n",
       "Not Working while attending Mason 002                           8\n",
       "                                  004                           8\n",
       "Working, but not Full Time        002                           3\n",
       "                                  004                           2\n",
       "Yes, Full Time                    002                           6\n",
       "                                  004                           5"
      ]
     },
     "execution_count": 238,
     "metadata": {},
     "output_type": "execute_result"
    }
   ],
   "source": [
    "final.groupby(['Employment Status', \"AIT-580 Section\"]).agg({\"AIT-580 Section\": ['count']})"
   ]
  },
  {
   "cell_type": "code",
   "execution_count": 239,
   "metadata": {},
   "outputs": [
    {
     "data": {
      "text/html": [
       "<div>\n",
       "<style scoped>\n",
       "    .dataframe tbody tr th:only-of-type {\n",
       "        vertical-align: middle;\n",
       "    }\n",
       "\n",
       "    .dataframe tbody tr th {\n",
       "        vertical-align: top;\n",
       "    }\n",
       "\n",
       "    .dataframe thead tr th {\n",
       "        text-align: left;\n",
       "    }\n",
       "\n",
       "    .dataframe thead tr:last-of-type th {\n",
       "        text-align: right;\n",
       "    }\n",
       "</style>\n",
       "<table border=\"1\" class=\"dataframe\">\n",
       "  <thead>\n",
       "    <tr>\n",
       "      <th></th>\n",
       "      <th>Age</th>\n",
       "    </tr>\n",
       "    <tr>\n",
       "      <th></th>\n",
       "      <th>mean</th>\n",
       "    </tr>\n",
       "    <tr>\n",
       "      <th>Employment Status</th>\n",
       "      <th></th>\n",
       "    </tr>\n",
       "  </thead>\n",
       "  <tbody>\n",
       "    <tr>\n",
       "      <th>Not Answered</th>\n",
       "      <td>NaN</td>\n",
       "    </tr>\n",
       "    <tr>\n",
       "      <th>Not Working while attending Mason</th>\n",
       "      <td>25.500000</td>\n",
       "    </tr>\n",
       "    <tr>\n",
       "      <th>Working, but not Full Time</th>\n",
       "      <td>23.400000</td>\n",
       "    </tr>\n",
       "    <tr>\n",
       "      <th>Yes, Full Time</th>\n",
       "      <td>36.333333</td>\n",
       "    </tr>\n",
       "  </tbody>\n",
       "</table>\n",
       "</div>"
      ],
      "text/plain": [
       "                                         Age\n",
       "                                        mean\n",
       "Employment Status                           \n",
       "Not Answered                             NaN\n",
       "Not Working while attending Mason  25.500000\n",
       "Working, but not Full Time         23.400000\n",
       "Yes, Full Time                     36.333333"
      ]
     },
     "execution_count": 239,
     "metadata": {},
     "output_type": "execute_result"
    }
   ],
   "source": [
    "final.groupby('Employment Status').agg({\"Age\": ['mean']})"
   ]
  },
  {
   "cell_type": "markdown",
   "metadata": {},
   "source": [
    "Most of the people are not working and Section 002 has the most employed students. People with higher ages are working while people with lower ages are not working."
   ]
  },
  {
   "cell_type": "markdown",
   "metadata": {},
   "source": [
    "### Q10 . What is your approximate current level of programming skill in Python"
   ]
  },
  {
   "cell_type": "code",
   "execution_count": 240,
   "metadata": {},
   "outputs": [
    {
     "data": {
      "text/plain": [
       "<Axes: xlabel='Python Skills'>"
      ]
     },
     "execution_count": 240,
     "metadata": {},
     "output_type": "execute_result"
    },
    {
     "data": {
      "image/png": "[encoded data removed]",
      "text/plain": [
       "<Figure size 640x480 with 1 Axes>"
      ]
     },
     "metadata": {},
     "output_type": "display_data"
    }
   ],
   "source": [
    "final[\"Python Skills\"].value_counts().plot(kind='bar')"
   ]
  },
  {
   "cell_type": "markdown",
   "metadata": {},
   "source": [
    "Most people have average python skills. None of the people have expert python skills."
   ]
  },
  {
   "cell_type": "markdown",
   "metadata": {},
   "source": [
    "### Q11 . What is your approximate current level of programming skill in R"
   ]
  },
  {
   "cell_type": "code",
   "execution_count": 241,
   "metadata": {},
   "outputs": [
    {
     "data": {
      "text/plain": [
       "<Axes: xlabel='R Skills'>"
      ]
     },
     "execution_count": 241,
     "metadata": {},
     "output_type": "execute_result"
    },
    {
     "data": {
      "image/png": "[encoded data removed]",
      "text/plain": [
       "<Figure size 640x480 with 1 Axes>"
      ]
     },
     "metadata": {},
     "output_type": "display_data"
    }
   ],
   "source": [
    "final[\"R Skills\"].value_counts().plot(kind='bar')"
   ]
  },
  {
   "cell_type": "code",
   "execution_count": 242,
   "metadata": {},
   "outputs": [
    {
     "data": {
      "text/plain": [
       "count               32\n",
       "unique               5\n",
       "top       Average user\n",
       "freq                 9\n",
       "Name: R Skills, dtype: object"
      ]
     },
     "execution_count": 242,
     "metadata": {},
     "output_type": "execute_result"
    }
   ],
   "source": [
    "final[\"R Skills\"].describe()"
   ]
  },
  {
   "cell_type": "markdown",
   "metadata": {},
   "source": [
    "Most people have average R skills"
   ]
  },
  {
   "cell_type": "markdown",
   "metadata": {},
   "source": [
    "### Q12 . What is your approximate current level of programming skill in SQL"
   ]
  },
  {
   "cell_type": "code",
   "execution_count": 243,
   "metadata": {},
   "outputs": [
    {
     "data": {
      "text/plain": [
       "<Axes: xlabel='SQl Skills'>"
      ]
     },
     "execution_count": 243,
     "metadata": {},
     "output_type": "execute_result"
    },
    {
     "data": {
      "image/png": "[encoded data removed]",
      "text/plain": [
       "<Figure size 640x480 with 1 Axes>"
      ]
     },
     "metadata": {},
     "output_type": "display_data"
    }
   ],
   "source": [
    "final[\"SQl Skills\"].value_counts().plot(kind='bar')"
   ]
  },
  {
   "cell_type": "markdown",
   "metadata": {},
   "source": [
    "Most people have average SQL skills. None of the people have expert SQL skills."
   ]
  },
  {
   "cell_type": "code",
   "execution_count": 244,
   "metadata": {},
   "outputs": [
    {
     "data": {
      "text/html": [
       "<div>\n",
       "<style scoped>\n",
       "    .dataframe tbody tr th:only-of-type {\n",
       "        vertical-align: middle;\n",
       "    }\n",
       "\n",
       "    .dataframe tbody tr th {\n",
       "        vertical-align: top;\n",
       "    }\n",
       "\n",
       "    .dataframe thead th {\n",
       "        text-align: right;\n",
       "    }\n",
       "</style>\n",
       "<table border=\"1\" class=\"dataframe\">\n",
       "  <thead>\n",
       "    <tr style=\"text-align: right;\">\n",
       "      <th></th>\n",
       "      <th>R</th>\n",
       "      <th>Python</th>\n",
       "      <th>SQl</th>\n",
       "    </tr>\n",
       "  </thead>\n",
       "  <tbody>\n",
       "    <tr>\n",
       "      <th>Average user</th>\n",
       "      <td>24.777778</td>\n",
       "      <td>31.261905</td>\n",
       "      <td>26.400000</td>\n",
       "    </tr>\n",
       "    <tr>\n",
       "      <th>Fluent/expert</th>\n",
       "      <td>22.000000</td>\n",
       "      <td>NaN</td>\n",
       "      <td>NaN</td>\n",
       "    </tr>\n",
       "    <tr>\n",
       "      <th>Frequent use for projects</th>\n",
       "      <td>25.500000</td>\n",
       "      <td>24.000000</td>\n",
       "      <td>25.000000</td>\n",
       "    </tr>\n",
       "    <tr>\n",
       "      <th>Little/none</th>\n",
       "      <td>27.375000</td>\n",
       "      <td>31.750000</td>\n",
       "      <td>25.600000</td>\n",
       "    </tr>\n",
       "    <tr>\n",
       "      <th>Not Answered</th>\n",
       "      <td>NaN</td>\n",
       "      <td>NaN</td>\n",
       "      <td>NaN</td>\n",
       "    </tr>\n",
       "    <tr>\n",
       "      <th>Some familiarity</th>\n",
       "      <td>38.458333</td>\n",
       "      <td>26.000000</td>\n",
       "      <td>35.066667</td>\n",
       "    </tr>\n",
       "  </tbody>\n",
       "</table>\n",
       "</div>"
      ],
      "text/plain": [
       "                                   R     Python        SQl\n",
       "Average user               24.777778  31.261905  26.400000\n",
       "Fluent/expert              22.000000        NaN        NaN\n",
       "Frequent use for projects  25.500000  24.000000  25.000000\n",
       "Little/none                27.375000  31.750000  25.600000\n",
       "Not Answered                     NaN        NaN        NaN\n",
       "Some familiarity           38.458333  26.000000  35.066667"
      ]
     },
     "execution_count": 244,
     "metadata": {},
     "output_type": "execute_result"
    }
   ],
   "source": [
    "## Finding relation bewteen age and skill level\n",
    "t1 = final.groupby(['R Skills']).agg({\"Age\": ['mean']})\n",
    "t2 = final.groupby(['Python Skills']).agg({\"Age\": ['mean']})\n",
    "t3 = final.groupby(['SQl Skills']).agg({\"Age\": ['mean']})\n",
    "#concatenating all the dataframes\n",
    "t1_2_3df = pd.concat([t1,t2,t3],axis=1)\n",
    "t1_2_3df.columns = ['R','Python','SQl']\n",
    "t1_2_3df"
   ]
  },
  {
   "cell_type": "markdown",
   "metadata": {},
   "source": [
    "Younger students use python more than older ones in the projects."
   ]
  },
  {
   "cell_type": "markdown",
   "metadata": {},
   "source": [
    "#### Q13. What is your goal for learning about data analytics?\n"
   ]
  },
  {
   "cell_type": "code",
   "execution_count": 245,
   "metadata": {},
   "outputs": [
    {
     "data": {
      "text/plain": [
       "count               32\n",
       "unique              28\n",
       "top       Not Answered\n",
       "freq                 5\n",
       "Name: Goals, dtype: object"
      ]
     },
     "execution_count": 245,
     "metadata": {},
     "output_type": "execute_result"
    }
   ],
   "source": [
    "final['Goals'].describe()"
   ]
  },
  {
   "cell_type": "code",
   "execution_count": 246,
   "metadata": {},
   "outputs": [
    {
     "name": "stdout",
     "output_type": "stream",
     "text": [
      "Most common words in the answer are:\n",
      "to, and, data, a, I, in, my, is, the, be, for, good, of, goal, analytics, at, as, To, how, use, "
     ]
    }
   ],
   "source": [
    "final['Goals'].value_counts()\n",
    "stri = final['Goals'].sum(axis=0).split()\n",
    "Counter = Counter(stri)\n",
    "print('Most common words in the answer are:')\n",
    "for c in Counter.most_common(20):\n",
    "    print(c[0],end=', ')"
   ]
  },
  {
   "cell_type": "markdown",
   "metadata": {},
   "source": [
    "Most of the people have answered this question. The most coommon words of the question are also given above."
   ]
  }
 ],
 "metadata": {
  "kernelspec": {
   "display_name": "Python 3",
   "language": "python",
   "name": "python3"
  },
  "language_info": {
   "codemirror_mode": {
    "name": "ipython",
    "version": 3
   },
   "file_extension": ".py",
   "mimetype": "text/x-python",
   "name": "python",
   "nbconvert_exporter": "python",
   "pygments_lexer": "ipython3",
   "version": "3.11.2"
  },
  "orig_nbformat": 4
 },
 "nbformat": 4,
 "nbformat_minor": 2
}
