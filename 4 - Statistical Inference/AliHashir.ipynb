{
 "cells": [
  {
   "cell_type": "markdown",
   "metadata": {},
   "source": [
    "#### CS 457 - Homework Assignment 4: Statistical Inference\n",
    "##### Ali Hashir - ah05433@st.habib.edu.pk"
   ]
  },
  {
   "cell_type": "code",
   "execution_count": 34,
   "metadata": {},
   "outputs": [],
   "source": [
    "import pandas as pd\n",
    "import numpy as np\n",
    "from scipy import stats\n"
   ]
  },
  {
   "cell_type": "code",
   "execution_count": 35,
   "metadata": {},
   "outputs": [
    {
     "data": {
      "text/html": [
       "<div>\n",
       "<style scoped>\n",
       "    .dataframe tbody tr th:only-of-type {\n",
       "        vertical-align: middle;\n",
       "    }\n",
       "\n",
       "    .dataframe tbody tr th {\n",
       "        vertical-align: top;\n",
       "    }\n",
       "\n",
       "    .dataframe thead th {\n",
       "        text-align: right;\n",
       "    }\n",
       "</style>\n",
       "<table border=\"1\" class=\"dataframe\">\n",
       "  <thead>\n",
       "    <tr style=\"text-align: right;\">\n",
       "      <th></th>\n",
       "      <th>Age</th>\n",
       "      <th>BusinessTravel</th>\n",
       "      <th>DailyRate</th>\n",
       "      <th>Department</th>\n",
       "      <th>DistanceFromHome</th>\n",
       "      <th>Education</th>\n",
       "      <th>EducationField</th>\n",
       "      <th>EnvironmentSatisfaction</th>\n",
       "      <th>Gender</th>\n",
       "      <th>HourlyRate</th>\n",
       "      <th>...</th>\n",
       "      <th>StandardHours</th>\n",
       "      <th>StockOptionLevel</th>\n",
       "      <th>TotalWorkingYears</th>\n",
       "      <th>TrainingTimesLastYear</th>\n",
       "      <th>WorkLifeBalance</th>\n",
       "      <th>YearsAtCompany</th>\n",
       "      <th>YearsInCurrentRole</th>\n",
       "      <th>YearsSinceLastPromotion</th>\n",
       "      <th>YearsWithCurrManager</th>\n",
       "      <th>Attrition</th>\n",
       "    </tr>\n",
       "  </thead>\n",
       "  <tbody>\n",
       "    <tr>\n",
       "      <th>0</th>\n",
       "      <td>41</td>\n",
       "      <td>Travel_Rarely</td>\n",
       "      <td>1102</td>\n",
       "      <td>Sales</td>\n",
       "      <td>1</td>\n",
       "      <td>2</td>\n",
       "      <td>Life Sciences</td>\n",
       "      <td>2</td>\n",
       "      <td>Female</td>\n",
       "      <td>94</td>\n",
       "      <td>...</td>\n",
       "      <td>80</td>\n",
       "      <td>0</td>\n",
       "      <td>8</td>\n",
       "      <td>0</td>\n",
       "      <td>1</td>\n",
       "      <td>6</td>\n",
       "      <td>4</td>\n",
       "      <td>0</td>\n",
       "      <td>5</td>\n",
       "      <td>Yes</td>\n",
       "    </tr>\n",
       "    <tr>\n",
       "      <th>1</th>\n",
       "      <td>49</td>\n",
       "      <td>Travel_Frequently</td>\n",
       "      <td>279</td>\n",
       "      <td>Research &amp; Development</td>\n",
       "      <td>8</td>\n",
       "      <td>1</td>\n",
       "      <td>Life Sciences</td>\n",
       "      <td>3</td>\n",
       "      <td>Male</td>\n",
       "      <td>61</td>\n",
       "      <td>...</td>\n",
       "      <td>80</td>\n",
       "      <td>1</td>\n",
       "      <td>10</td>\n",
       "      <td>3</td>\n",
       "      <td>3</td>\n",
       "      <td>10</td>\n",
       "      <td>7</td>\n",
       "      <td>1</td>\n",
       "      <td>7</td>\n",
       "      <td>No</td>\n",
       "    </tr>\n",
       "    <tr>\n",
       "      <th>2</th>\n",
       "      <td>37</td>\n",
       "      <td>Travel_Rarely</td>\n",
       "      <td>1373</td>\n",
       "      <td>Research &amp; Development</td>\n",
       "      <td>2</td>\n",
       "      <td>2</td>\n",
       "      <td>Other</td>\n",
       "      <td>4</td>\n",
       "      <td>Male</td>\n",
       "      <td>92</td>\n",
       "      <td>...</td>\n",
       "      <td>80</td>\n",
       "      <td>0</td>\n",
       "      <td>7</td>\n",
       "      <td>3</td>\n",
       "      <td>3</td>\n",
       "      <td>0</td>\n",
       "      <td>0</td>\n",
       "      <td>0</td>\n",
       "      <td>0</td>\n",
       "      <td>Yes</td>\n",
       "    </tr>\n",
       "    <tr>\n",
       "      <th>3</th>\n",
       "      <td>33</td>\n",
       "      <td>Travel_Frequently</td>\n",
       "      <td>1392</td>\n",
       "      <td>Research &amp; Development</td>\n",
       "      <td>3</td>\n",
       "      <td>4</td>\n",
       "      <td>Life Sciences</td>\n",
       "      <td>4</td>\n",
       "      <td>Female</td>\n",
       "      <td>56</td>\n",
       "      <td>...</td>\n",
       "      <td>80</td>\n",
       "      <td>0</td>\n",
       "      <td>8</td>\n",
       "      <td>3</td>\n",
       "      <td>3</td>\n",
       "      <td>8</td>\n",
       "      <td>7</td>\n",
       "      <td>3</td>\n",
       "      <td>0</td>\n",
       "      <td>No</td>\n",
       "    </tr>\n",
       "    <tr>\n",
       "      <th>4</th>\n",
       "      <td>27</td>\n",
       "      <td>Travel_Rarely</td>\n",
       "      <td>591</td>\n",
       "      <td>Research &amp; Development</td>\n",
       "      <td>2</td>\n",
       "      <td>1</td>\n",
       "      <td>Medical</td>\n",
       "      <td>1</td>\n",
       "      <td>Male</td>\n",
       "      <td>40</td>\n",
       "      <td>...</td>\n",
       "      <td>80</td>\n",
       "      <td>1</td>\n",
       "      <td>6</td>\n",
       "      <td>3</td>\n",
       "      <td>3</td>\n",
       "      <td>2</td>\n",
       "      <td>2</td>\n",
       "      <td>2</td>\n",
       "      <td>2</td>\n",
       "      <td>No</td>\n",
       "    </tr>\n",
       "  </tbody>\n",
       "</table>\n",
       "<p>5 rows × 32 columns</p>\n",
       "</div>"
      ],
      "text/plain": [
       "   Age     BusinessTravel  DailyRate              Department   \n",
       "0   41      Travel_Rarely       1102                   Sales  \\\n",
       "1   49  Travel_Frequently        279  Research & Development   \n",
       "2   37      Travel_Rarely       1373  Research & Development   \n",
       "3   33  Travel_Frequently       1392  Research & Development   \n",
       "4   27      Travel_Rarely        591  Research & Development   \n",
       "\n",
       "   DistanceFromHome  Education EducationField  EnvironmentSatisfaction   \n",
       "0                 1          2  Life Sciences                        2  \\\n",
       "1                 8          1  Life Sciences                        3   \n",
       "2                 2          2          Other                        4   \n",
       "3                 3          4  Life Sciences                        4   \n",
       "4                 2          1        Medical                        1   \n",
       "\n",
       "   Gender  HourlyRate  ...  StandardHours  StockOptionLevel TotalWorkingYears   \n",
       "0  Female          94  ...             80                 0                 8  \\\n",
       "1    Male          61  ...             80                 1                10   \n",
       "2    Male          92  ...             80                 0                 7   \n",
       "3  Female          56  ...             80                 0                 8   \n",
       "4    Male          40  ...             80                 1                 6   \n",
       "\n",
       "   TrainingTimesLastYear WorkLifeBalance  YearsAtCompany  YearsInCurrentRole   \n",
       "0                      0               1               6                   4  \\\n",
       "1                      3               3              10                   7   \n",
       "2                      3               3               0                   0   \n",
       "3                      3               3               8                   7   \n",
       "4                      3               3               2                   2   \n",
       "\n",
       "   YearsSinceLastPromotion YearsWithCurrManager  Attrition  \n",
       "0                        0                    5        Yes  \n",
       "1                        1                    7         No  \n",
       "2                        0                    0        Yes  \n",
       "3                        3                    0         No  \n",
       "4                        2                    2         No  \n",
       "\n",
       "[5 rows x 32 columns]"
      ]
     },
     "execution_count": 35,
     "metadata": {},
     "output_type": "execute_result"
    }
   ],
   "source": [
    "df = pd.read_csv('EmployeeAttrition.csv')\n",
    "df.head()"
   ]
  },
  {
   "cell_type": "markdown",
   "metadata": {},
   "source": [
    "---"
   ]
  },
  {
   "cell_type": "markdown",
   "metadata": {},
   "source": [
    "#### Q1. If the MonthlyIncome of Males is greater than Females\n",
    "H0 : Monthly income of males is almost equal to the monthly income of females. </br>\n",
    "HA : Monthly income of males is greater than monthly income of females.\n"
   ]
  },
  {
   "cell_type": "code",
   "execution_count": 36,
   "metadata": {},
   "outputs": [
    {
     "data": {
      "text/plain": [
       "Ttest_indResult(statistic=-1.2212617308870655, pvalue=0.8889084827245605)"
      ]
     },
     "execution_count": 36,
     "metadata": {},
     "output_type": "execute_result"
    }
   ],
   "source": [
    "male = df[(df['Gender']=='Male')]['MonthlyIncome']\n",
    "female = df[(df['Gender']=='Female')]['MonthlyIncome']\n",
    "stats.ttest_ind(male, female, alternative='greater')"
   ]
  },
  {
   "cell_type": "markdown",
   "metadata": {},
   "source": [
    "##### Conclusion\n",
    "Since the p-value > 0.05 (Not rejectiong null hypothesis), the monthly income of males is almost equal to the monthly income of females. This suggests that the company does not exhibit gender bias when it comes to monthly income, indicating a fair compensation policy regardless of gender. (p-value: 0.8889)\n",
    "\n",
    "---"
   ]
  },
  {
   "cell_type": "markdown",
   "metadata": {},
   "source": [
    "#### Q2. If the WorkLifeBalance of Males is less than Females\n",
    "H0 : The WorkLifeBalance of Males is almost equal than that of Females </br>\n",
    "HA : The WorkLifeBalance of Males is less than that of Females\n"
   ]
  },
  {
   "cell_type": "code",
   "execution_count": 37,
   "metadata": {},
   "outputs": [
    {
     "data": {
      "text/plain": [
       "Ttest_indResult(statistic=-0.10546787956064164, pvalue=0.45800948246831286)"
      ]
     },
     "execution_count": 37,
     "metadata": {},
     "output_type": "execute_result"
    }
   ],
   "source": [
    "male = df[(df['Gender'] == 'Male')]['WorkLifeBalance']\n",
    "female = df[(df['Gender'] == 'Female')]['WorkLifeBalance']\n",
    "stats.ttest_ind(male, female, alternative='less')\n"
   ]
  },
  {
   "cell_type": "markdown",
   "metadata": {},
   "source": [
    "##### Conclusion\n",
    "Since the p-value > 0.05 (not rejecting null hypothesis), the WorkLifeBalance of males is almost equal to that of females. This highlights that the company promotes a balanced work-life environment for both genders. (p-value: 0.4580)\n",
    "\n",
    "---"
   ]
  },
  {
   "cell_type": "markdown",
   "metadata": {},
   "source": [
    "#### Q3. If the YearsAtCompany of Single is less than Married\n",
    "H0 : The YearsAtCompany of Single is almost equal than that of Married </br>\n",
    "HA : The YearsAtCompany of Single is less than Married\n"
   ]
  },
  {
   "cell_type": "code",
   "execution_count": 38,
   "metadata": {},
   "outputs": [
    {
     "data": {
      "text/plain": [
       "Ttest_indResult(statistic=-2.5589985737464476, pvalue=0.0053127663549315815)"
      ]
     },
     "execution_count": 38,
     "metadata": {},
     "output_type": "execute_result"
    }
   ],
   "source": [
    "single = df[(df['MaritalStatus'] == 'Single')]['YearsAtCompany']\n",
    "married = df[(df['MaritalStatus'] == 'Married')]['YearsAtCompany']\n",
    "stats.ttest_ind(single, married, alternative='less')\n"
   ]
  },
  {
   "cell_type": "markdown",
   "metadata": {},
   "source": [
    "##### Conclusion\n",
    "Since the p-value < 0.05 (rejecting null hypothesis and accepting alternate hypotheses), the YearsAtCompany of single individuals is less than that of married individuals. This might suggest that married employees tend to stay longer with the company, possibly due to factors like stability or benefits that the company offers or they might need extra pay. (p-value: 0.0053)\n",
    "\n",
    "---"
   ]
  },
  {
   "cell_type": "markdown",
   "metadata": {},
   "source": [
    "#### Q4. If the EnvironmentalSatisfaction of Attrition=Yes is less than Attrition=No\n",
    "H0 : The EnvironmentalSatisfaction of Attrition=Yes is almost equal than Attrition=No </br>\n",
    "HA : The EnvironmentalSatisfaction of Attrition=Yes is less than Attrition=No\n"
   ]
  },
  {
   "cell_type": "code",
   "execution_count": 39,
   "metadata": {},
   "outputs": [
    {
     "data": {
      "text/plain": [
       "Ttest_indResult(statistic=-3.9818600026818496, pvalue=3.58616927468443e-05)"
      ]
     },
     "execution_count": 39,
     "metadata": {},
     "output_type": "execute_result"
    }
   ],
   "source": [
    "yes = df[(df['Attrition'] == 'Yes')]['EnvironmentSatisfaction']\n",
    "no = df[(df['Attrition'] == 'No')]['EnvironmentSatisfaction']\n",
    "stats.ttest_ind(yes, no, alternative='less')\n"
   ]
  },
  {
   "cell_type": "markdown",
   "metadata": {},
   "source": [
    "##### Conclusion\n",
    "Since the p-value < 0.05 (rejecting null hypothesis and accepting alternate hypotheses), the EnvironmentalSatisfaction of employees with Attrition=Yes is less than those with Attrition=No. This indicates that the work environment plays a significant role in employee retention. (p-value: 3.58616927468443e-05)\n",
    "\n",
    "---"
   ]
  },
  {
   "cell_type": "markdown",
   "metadata": {},
   "source": [
    "#### Q5. If the MonthlyIncome of Manager is greater than Laboratory Technician (Hint: Use JobRole to find Manager and Laboratory Technician)\n",
    "H0 : The MonthlyIncome of Manager is almost equal than Laboratory Technician </br>\n",
    "HA : The MonthlyIncome of Manager is greater than Laboratory Technician\n"
   ]
  },
  {
   "cell_type": "code",
   "execution_count": 40,
   "metadata": {},
   "outputs": [
    {
     "data": {
      "text/plain": [
       "Ttest_indResult(statistic=76.03317414634023, pvalue=9.971168334368433e-224)"
      ]
     },
     "execution_count": 40,
     "metadata": {},
     "output_type": "execute_result"
    }
   ],
   "source": [
    "manager = df[(df['JobRole'] == 'Manager')]['MonthlyIncome']\n",
    "laboraty_technician = df[(df['JobRole'] == 'Laboratory Technician')]['MonthlyIncome']\n",
    "stats.ttest_ind(manager, laboraty_technician, alternative='greater')\n"
   ]
  },
  {
   "cell_type": "markdown",
   "metadata": {},
   "source": [
    "##### Conclusion\n",
    "Since the p-value < 0.05 (rejecting null hypothesis and accepting alternate hypotheses), the MonthlyIncome of a manager is greater than that of a laboratory technician. This is expected, as managerial roles often come with higher compensation reflecting the difference in responsibilities and skill requirements. (p-value: 9.971168334368433e-224)\n",
    "\n",
    "---"
   ]
  },
  {
   "cell_type": "markdown",
   "metadata": {},
   "source": [
    "#### Q6. Is there any association between the Department and Gender? \n",
    "H0 : Department and gender are independant </br>\n",
    "HA : Department and gender are independent.\n"
   ]
  },
  {
   "cell_type": "code",
   "execution_count": 43,
   "metadata": {},
   "outputs": [
    {
     "data": {
      "text/plain": [
       "0.47927963769548776"
      ]
     },
     "execution_count": 43,
     "metadata": {},
     "output_type": "execute_result"
    }
   ],
   "source": [
    "chisqt = pd.crosstab(df['Department'],df['Gender'], margins=True)\n",
    "value = np.array([chisqt.iloc[0][0:].values,chisqt.iloc[1][0:].values])\n",
    "a, p, b, c = stats.chi2_contingency(value)\n",
    "p\n"
   ]
  },
  {
   "cell_type": "markdown",
   "metadata": {},
   "source": [
    "##### Conclusion\n",
    "Since the p-value > 0.05 (not rejectiong null hypothesis), department and gender are independent and have no association. This shows that the company's departmental distribution does not show any gender preference, indicating a gender-neutral hiring process. (p-value: 0.4792)\n",
    "\n",
    "---"
   ]
  }
 ],
 "metadata": {
  "interpreter": {
   "hash": "d0f1a46e1b8bb49f6fe66dfa14ba01e1c4ea6e7377c07a6040c9a42d856a631d"
  },
  "kernelspec": {
   "display_name": "Python 3.9.7 64-bit",
   "language": "python",
   "name": "python3"
  },
  "language_info": {
   "codemirror_mode": {
    "name": "ipython",
    "version": 3
   },
   "file_extension": ".py",
   "mimetype": "text/x-python",
   "name": "python",
   "nbconvert_exporter": "python",
   "pygments_lexer": "ipython3",
   "version": "3.11.2"
  },
  "orig_nbformat": 4
 },
 "nbformat": 4,
 "nbformat_minor": 2
}
